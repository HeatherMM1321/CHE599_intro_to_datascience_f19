{
 "cells": [
  {
   "cell_type": "markdown",
   "metadata": {},
   "source": [
    "# Heather Miller \n",
    "- 12/12/19\n",
    "- CHE599\n",
    "- Final Project \n",
    "- Mushroom Classification using Decision Tree "
   ]
  },
  {
   "cell_type": "code",
   "execution_count": 2,
   "metadata": {
    "slideshow": {
     "slide_type": "skip"
    }
   },
   "outputs": [],
   "source": [
    "using CSV\n",
    "using DataFrames\n",
    "using PyPlot\n",
    "using ScikitLearn # machine learning package\n",
    "using StatsBase\n",
    "using Random\n",
    "using LaTeXStrings # for L\"$x$\" to work instead of needing to do \"\\$x\\$\"\n",
    "using Printf\n",
    "using DecisionTree\n",
    "\n"
   ]
  },
  {
   "cell_type": "markdown",
   "metadata": {
    "slideshow": {
     "slide_type": "slide"
    }
   },
   "source": [
    "The following project will be attempting to classify a species of mushroom as either poisonous or edible. The data set includes descriptions of hypothetical samples corresponding to 23 species of gilled mushrooms in the Agaricus and Lepiota Family. Each species is identied as definitely edible, definitely poisonous, or of unknown edibility and not recommended(labeled as poisonous). The goal is to use a Decision Tree machine learning package to correctly predict whether or not a mushroom is edible. Each mushroom species in the data set has a classification along with 22 attributes listed below.\n",
    "\n",
    "Attribute Information:\n",
    "\n",
    ">1. cap-shape: \n",
    "        b=bell\n",
    "        c=conical\n",
    "        x=convex\n",
    "        f=flat\n",
    "        k=knobbed\n",
    "        s=knobbed\n",
    ">2. cap-surface: \n",
    "        f=fibrous\n",
    "        g=grooves\n",
    "        y=scaly\n",
    "        s=smooth\n",
    ">3. cap-color: \n",
    "        n=brown\n",
    "        b=buff\n",
    "        c=cinnamon\n",
    "        g=gray\n",
    "        r=green\n",
    "        p=pink\n",
    "        u=purple\n",
    "        e=red\n",
    "        w=white\n",
    "        y=yellow\n",
    ">4. bruises?: \n",
    "        t=bruises\n",
    "        f=no\n",
    ">5. odor: \n",
    "        a=almond\n",
    "        l=anise\n",
    "        c=creosote\n",
    "        y=fishy\n",
    "        f=foul\n",
    "        m=musty\n",
    "        n=none\n",
    "        p=pungent\n",
    "        s=spicy\n",
    ">6. gill-attachment: \n",
    "        a=attached\n",
    "        d=descending\n",
    "        f=free\n",
    "        n=notched\n",
    ">7. gill-spacing: \n",
    "        c=close\n",
    "        w=crowded\n",
    "        d=distant\n",
    ">8. gill-size: \n",
    "        b=broad\n",
    "        n=narrow\n",
    ">9. gill-color: \n",
    "        k=black\n",
    "        n=brown\n",
    "        b=buff\n",
    "        h=chocolate\n",
    "        g=gray\n",
    "        r=green\n",
    "        o=orange\n",
    "        p=pink\n",
    "        u=purple\n",
    "        e=red\n",
    "        w=white\n",
    "        y=yellow\n",
    ">10. stalk-shape: \n",
    "        e=enlarging\n",
    "        t=tapering\n",
    ">11. stalk-root: \n",
    "        b=bulbous\n",
    "        c=club\n",
    "        u=cup\n",
    "        e=equal\n",
    "        z=rhizomorphs\n",
    "        r=rooted\n",
    "        ?=missing\n",
    ">12. stalk-surface-above-ring: \n",
    "        f=fibrous\n",
    "        y=scaly\n",
    "        k=silky\n",
    "        s=smooth\n",
    ">13. stalk-surface-below-ring: \n",
    "        f=fibrous\n",
    "        y=scaly\n",
    "        k=silky\n",
    "        s=smooth\n",
    ">14. stalk-color-above-ring: \n",
    "        n=brown\n",
    "        b=buff\n",
    "        c=cinnamon\n",
    "        g=gray\n",
    "        o=orange\n",
    "        p=pink\n",
    "        e=red\n",
    "        w=white\n",
    "        y=yellow\n",
    ">15. stalk-color-below-ring: \n",
    "        n=brown\n",
    "        b=buff\n",
    "        c=cinnamon\n",
    "        g=gray\n",
    "        o=orange\n",
    "        p=pink\n",
    "        e=red\n",
    "        w=white\n",
    "        y=yellow\n",
    ">16. veil-type: \n",
    "        p=partial\n",
    "        u=universal\n",
    ">17. veil-color: \n",
    "        n=brown\n",
    "        o=orange\n",
    "        w=white\n",
    "        y=yellow\n",
    ">18. ring-number: \n",
    "        n=none\n",
    "        o=one\n",
    "        t=two\n",
    ">19. ring-type: \n",
    "        c=cobwebby\n",
    "        e=evanescent\n",
    "        f=flaring\n",
    "        l=large\n",
    "        n=none\n",
    "        p=pendant\n",
    "        s=sheathing\n",
    "        z=zone\n",
    ">20. spore-print-color: \n",
    "        k=black\n",
    "        n=brown\n",
    "        b=buff\n",
    "        h=chocolate\n",
    "        r=green\n",
    "        o=orange\n",
    "        u=purple\n",
    "        w=white\n",
    "        y=yellow\n",
    ">21. population: \n",
    "        a=abundant\n",
    "        c=clustered\n",
    "        n=numerous\n",
    "        s=scattered\n",
    "        v=several\n",
    "        y=solitary\n",
    ">22. habitat: \n",
    "        g=grasses\n",
    "        l=leaves\n",
    "        m=meadows\n",
    "        p=paths\n",
    "        u=urban\n",
    "        w=waste\n",
    "        d=woods\n",
    "\n"
   ]
  },
  {
   "cell_type": "markdown",
   "metadata": {
    "slideshow": {
     "slide_type": "slide"
    }
   },
   "source": [
    "# Mushroom Data \n",
    "\n",
    "The Mushroom Data that I procured from https://archive.ics.uci.edu/ml/datasets/mushroom was not in a form that could be used in machine learning algorithms. \n",
    "\n",
    "To fix this I performed data cleaning on the data that converted all of the character signifiers into Boolean. \n",
    "\n",
    "I then saved that data as a CSV file so that I would not need to run the data cleaning everytime. \n",
    "\n"
   ]
  },
  {
   "cell_type": "code",
   "execution_count": 3,
   "metadata": {
    "scrolled": true,
    "slideshow": {
     "slide_type": "subslide"
    }
   },
   "outputs": [
    {
     "data": {
      "text/html": [
       "<table class=\"data-frame\"><thead><tr><th></th><th>class_p</th><th>cap_shape_x</th><th>cap_shape_b</th><th>cap_shape_s</th><th>cap_shape_f</th><th>cap_shape_k</th><th>cap_shape_c</th></tr><tr><th></th><th>Bool</th><th>Bool</th><th>Bool</th><th>Bool</th><th>Bool</th><th>Bool</th><th>Bool</th></tr></thead><tbody><p>5 rows × 113 columns (omitted printing of 106 columns)</p><tr><th>1</th><td>1</td><td>1</td><td>0</td><td>0</td><td>0</td><td>0</td><td>0</td></tr><tr><th>2</th><td>0</td><td>1</td><td>0</td><td>0</td><td>0</td><td>0</td><td>0</td></tr><tr><th>3</th><td>0</td><td>0</td><td>1</td><td>0</td><td>0</td><td>0</td><td>0</td></tr><tr><th>4</th><td>1</td><td>1</td><td>0</td><td>0</td><td>0</td><td>0</td><td>0</td></tr><tr><th>5</th><td>0</td><td>1</td><td>0</td><td>0</td><td>0</td><td>0</td><td>0</td></tr></tbody></table>"
      ],
      "text/latex": [
       "\\begin{tabular}{r|cccccccc}\n",
       "\t& class\\_p & cap\\_shape\\_x & cap\\_shape\\_b & cap\\_shape\\_s & cap\\_shape\\_f & cap\\_shape\\_k & cap\\_shape\\_c & \\\\\n",
       "\t\\hline\n",
       "\t& Bool & Bool & Bool & Bool & Bool & Bool & Bool & \\\\\n",
       "\t\\hline\n",
       "\t1 & 1 & 1 & 0 & 0 & 0 & 0 & 0 & $\\dots$ \\\\\n",
       "\t2 & 0 & 1 & 0 & 0 & 0 & 0 & 0 & $\\dots$ \\\\\n",
       "\t3 & 0 & 0 & 1 & 0 & 0 & 0 & 0 & $\\dots$ \\\\\n",
       "\t4 & 1 & 1 & 0 & 0 & 0 & 0 & 0 & $\\dots$ \\\\\n",
       "\t5 & 0 & 1 & 0 & 0 & 0 & 0 & 0 & $\\dots$ \\\\\n",
       "\\end{tabular}\n"
      ],
      "text/plain": [
       "5×113 DataFrame. Omitted printing of 108 columns\n",
       "│ Row │ class_p │ cap_shape_x │ cap_shape_b │ cap_shape_s │ cap_shape_f │\n",
       "│     │ \u001b[90mBool\u001b[39m    │ \u001b[90mBool\u001b[39m        │ \u001b[90mBool\u001b[39m        │ \u001b[90mBool\u001b[39m        │ \u001b[90mBool\u001b[39m        │\n",
       "├─────┼─────────┼─────────────┼─────────────┼─────────────┼─────────────┤\n",
       "│ 1   │ 1       │ 1           │ 0           │ 0           │ 0           │\n",
       "│ 2   │ 0       │ 1           │ 0           │ 0           │ 0           │\n",
       "│ 3   │ 0       │ 0           │ 1           │ 0           │ 0           │\n",
       "│ 4   │ 1       │ 1           │ 0           │ 0           │ 0           │\n",
       "│ 5   │ 0       │ 1           │ 0           │ 0           │ 0           │"
      ]
     },
     "execution_count": 3,
     "metadata": {},
     "output_type": "execute_result"
    }
   ],
   "source": [
    "df_mushrooms = CSV.read(\"df_mushrooms.csv\")\n",
    "first(df_mushrooms, 5)"
   ]
  },
  {
   "cell_type": "markdown",
   "metadata": {
    "slideshow": {
     "slide_type": "slide"
    }
   },
   "source": [
    "I wanted to determine how many mushrooms were labeled as being poisonous so that I could have a better understanding of how the data was split.\n",
    "\n",
    "It should be noted that mushrooms can be classified as poisonous or edible however the poisonous label includes both poisonous and undettermined mushrooms. "
   ]
  },
  {
   "cell_type": "code",
   "execution_count": 4,
   "metadata": {
    "slideshow": {
     "slide_type": "subslide"
    }
   },
   "outputs": [
    {
     "data": {
      "text/html": [
       "<table class=\"data-frame\"><thead><tr><th></th><th>class_p</th><th>number</th></tr><tr><th></th><th>Bool</th><th>Int64</th></tr></thead><tbody><p>2 rows × 2 columns</p><tr><th>1</th><td>1</td><td>3916</td></tr><tr><th>2</th><td>0</td><td>4208</td></tr></tbody></table>"
      ],
      "text/latex": [
       "\\begin{tabular}{r|cc}\n",
       "\t& class\\_p & number\\\\\n",
       "\t\\hline\n",
       "\t& Bool & Int64\\\\\n",
       "\t\\hline\n",
       "\t1 & 1 & 3916 \\\\\n",
       "\t2 & 0 & 4208 \\\\\n",
       "\\end{tabular}\n"
      ],
      "text/plain": [
       "2×2 DataFrame\n",
       "│ Row │ class_p │ number │\n",
       "│     │ \u001b[90mBool\u001b[39m    │ \u001b[90mInt64\u001b[39m  │\n",
       "├─────┼─────────┼────────┤\n",
       "│ 1   │ 1       │ 3916   │\n",
       "│ 2   │ 0       │ 4208   │"
      ]
     },
     "execution_count": 4,
     "metadata": {},
     "output_type": "execute_result"
    }
   ],
   "source": [
    "df_poison = by(df_mushrooms, :class_p, number=:class_p => col -> length(col))"
   ]
  },
  {
   "cell_type": "markdown",
   "metadata": {
    "slideshow": {
     "slide_type": "fragment"
    }
   },
   "source": [
    "The data did not include examples of all possible attribute types. \n",
    "\n",
    "- Ex: There were no mushrooms in the dataset with rhizomorphs stalk roots. Because of this, that attribute does not exsit in the cleaned data. \n",
    "\n",
    "It should also be noted that if there was only two features within an attribute it maintained as one attribute without being split into two. \n",
    "\n",
    "For this reason I wanted to print out all of the names of the attributes in the current data set for reference. "
   ]
  },
  {
   "cell_type": "code",
   "execution_count": 5,
   "metadata": {
    "slideshow": {
     "slide_type": "fragment"
    }
   },
   "outputs": [
    {
     "name": "stdout",
     "output_type": "stream",
     "text": [
      "class_p\n",
      "cap_shape_x\n",
      "cap_shape_b\n",
      "cap_shape_s\n",
      "cap_shape_f\n",
      "cap_shape_k\n",
      "cap_shape_c\n",
      "cap_surface_s\n",
      "cap_surface_y\n",
      "cap_surface_f\n",
      "cap_surface_g\n",
      "cap_color_n\n",
      "cap_color_y\n",
      "cap_color_w\n",
      "cap_color_g\n",
      "cap_color_e\n",
      "cap_color_p\n",
      "cap_color_b\n",
      "cap_color_u\n",
      "cap_color_c\n",
      "cap_color_r\n",
      "bruises_t\n",
      "odor_p\n",
      "odor_a\n",
      "odor_l\n",
      "odor_n\n",
      "odor_f\n",
      "odor_c\n",
      "odor_y\n",
      "odor_s\n",
      "odor_m\n",
      "gill_attachment_f\n",
      "gill_spacing_c\n",
      "gill_size_n\n",
      "gill_color_k\n",
      "gill_color_n\n",
      "gill_color_g\n",
      "gill_color_p\n",
      "gill_color_w\n",
      "gill_color_h\n",
      "gill_color_u\n",
      "gill_color_e\n",
      "gill_color_b\n",
      "gill_color_r\n",
      "gill_color_y\n",
      "gill_color_o\n",
      "stalk_shape_e\n",
      "stalk_root_e\n",
      "stalk_root_c\n",
      "stalk_root_b\n",
      "stalk_root_r\n",
      "stalk_root_?\n",
      "stalk_surface_above_ring_s\n",
      "stalk_surface_above_ring_f\n",
      "stalk_surface_above_ring_k\n",
      "stalk_surface_above_ring_y\n",
      "stalk_surface_below_ring_s\n",
      "stalk_surface_below_ring_f\n",
      "stalk_surface_below_ring_y\n",
      "stalk_surface_below_ring_k\n",
      "stalk_color_above_ring_w\n",
      "stalk_color_above_ring_g\n",
      "stalk_color_above_ring_p\n",
      "stalk_color_above_ring_n\n",
      "stalk_color_above_ring_b\n",
      "stalk_color_above_ring_e\n",
      "stalk_color_above_ring_o\n",
      "stalk_color_above_ring_c\n",
      "stalk_color_above_ring_y\n",
      "stalk_color_below_ring_w\n",
      "stalk_color_below_ring_p\n",
      "stalk_color_below_ring_g\n",
      "stalk_color_below_ring_b\n",
      "stalk_color_below_ring_n\n",
      "stalk_color_below_ring_e\n",
      "stalk_color_below_ring_y\n",
      "stalk_color_below_ring_o\n",
      "stalk_color_below_ring_c\n",
      "veil_type_p\n",
      "veil_color_w\n",
      "veil_color_n\n",
      "veil_color_o\n",
      "veil_color_y\n",
      "ring_number_o\n",
      "ring_number_t\n",
      "ring_number_n\n",
      "ring_type_p\n",
      "ring_type_e\n",
      "ring_type_l\n",
      "ring_type_f\n",
      "ring_type_n\n",
      "spore_print_color_k\n",
      "spore_print_color_n\n",
      "spore_print_color_u\n",
      "spore_print_color_h\n",
      "spore_print_color_w\n",
      "spore_print_color_r\n",
      "spore_print_color_o\n",
      "spore_print_color_y\n",
      "spore_print_color_b\n",
      "population_s\n",
      "population_n\n",
      "population_a\n",
      "population_v\n",
      "population_y\n",
      "population_c\n",
      "habitat_u\n",
      "habitat_g\n",
      "habitat_m\n",
      "habitat_d\n",
      "habitat_p\n",
      "habitat_w\n",
      "habitat_l\n"
     ]
    }
   ],
   "source": [
    "#names of all the attributes \n",
    "attributes = names(df_mushrooms)\n",
    "for i = 1:length(attributes)\n",
    "    println(string(attributes[i]))\n",
    "    \n",
    "end\n",
    "\n"
   ]
  },
  {
   "cell_type": "markdown",
   "metadata": {
    "slideshow": {
     "slide_type": "slide"
    }
   },
   "source": [
    "# Feature matrix and Target vector\n",
    "* feature matrix `X`, must be `n_mushrooms` by `n_features`\n",
    "* target vector `y`, must be `n_mushrooms` long \n",
    "\n",
    "While creating the feature matrix and target vector I needed to ensure that they were integers and not floats so that the machine learning algorithms would understand this as a classification problem and not a regression problem. "
   ]
  },
  {
   "cell_type": "code",
   "execution_count": 6,
   "metadata": {
    "slideshow": {
     "slide_type": "subslide"
    }
   },
   "outputs": [],
   "source": [
    "#number of mushrooms species in data\n",
    "n_mushrooms = nrow(df_mushrooms)\n",
    "\n",
    "#feature matrix\n",
    "X = zeros(Int, n_mushrooms, length(attributes)-1)\n",
    "#target vector\n",
    "y = zeros(Int, n_mushrooms)\n",
    "\n",
    "#itterate through each row in the data frame\n",
    "for (i, mushrooms) in enumerate(eachrow(df_mushrooms))\n",
    "    \n",
    "    #in each row I need to itterate over each individual attribute \n",
    "    for (j, attribute) in enumerate(attributes[2:end])\n",
    "        X[i, j] = mushrooms[attribute]\n",
    "    end\n",
    "    \n",
    "    #fill in the target vecor with whether or not the species is poisonous \n",
    "    y[i] = mushrooms[:class_p]\n",
    "end\n",
    "\n"
   ]
  },
  {
   "cell_type": "markdown",
   "metadata": {
    "slideshow": {
     "slide_type": "slide"
    }
   },
   "source": [
    "# DecisionTree: Pruned Tree Classifier"
   ]
  },
  {
   "cell_type": "markdown",
   "metadata": {
    "slideshow": {
     "slide_type": "notes"
    }
   },
   "source": [
    "I chose to use a decsion tree for this data set because it gives the user the opportunity to clearly see how the computer has chosen to classify a species and why. This could be a very helpful tool with this problem in actual practice. If you are out looking for mushrooms you want to be able to classify the mushrooms broadly at first so that you can easily spot possible edible or poisonous mushrooms then look for further traits to support your hypothesis. The Decision Tree model gives you a clear road map on how to get to a reasonably certain answer. \n",
    "\n",
    "\n",
    "Another advantage of using a decision tree is that it forces the consideration of all possible outcomes and traces each path to a conclusion. This is very important when trying to decide whether or not you want to eat a mushroom that may or may not be edible especially when traits are shared amoung the two. "
   ]
  },
  {
   "cell_type": "markdown",
   "metadata": {
    "slideshow": {
     "slide_type": "subslide"
    }
   },
   "source": [
    "A decision tree is structured with a root node, branches, and leaf nodes. \n",
    "\n",
    "- Each internal node is a test (or question) on the attribute. In this case it is does a species have this attribute? \n",
    "- Each branch is the outcome of this question(i.e yes or no).\n",
    "- Each leaf contains class information (i.e. what is the resulting composition of the data after asking the question). \n",
    "- The Depth of a tree is simply the length of the longest path from the root to a leaf. "
   ]
  },
  {
   "cell_type": "code",
   "execution_count": 7,
   "metadata": {
    "slideshow": {
     "slide_type": "slide"
    }
   },
   "outputs": [
    {
     "data": {
      "text/plain": [
       "Decision Tree\n",
       "Leaves: 12\n",
       "Depth:  6"
      ]
     },
     "execution_count": 7,
     "metadata": {},
     "output_type": "execute_result"
    }
   ],
   "source": [
    "model = build_tree(y, X)"
   ]
  },
  {
   "cell_type": "code",
   "execution_count": 8,
   "metadata": {
    "slideshow": {
     "slide_type": "subslide"
    }
   },
   "outputs": [
    {
     "name": "stdout",
     "output_type": "stream",
     "text": [
      "Feature 25, Threshold 1\n",
      "L-> Feature 21, Threshold 1\n",
      "    L-> 1 : 3252/3252\n",
      "    R-> Feature 48, Threshold 1\n",
      "        L-> Feature 58, Threshold 1\n",
      "            L-> Feature 32, Threshold 1\n",
      "                L-> 0 : 96/96\n",
      "                R-> 1 : 544/544\n",
      "            R-> 0 : 192/192\n",
      "        R-> 0 : 512/512\n",
      "R-> Feature 96, Threshold 1\n",
      "    L-> Feature 58, Threshold 1\n",
      "        L-> Feature 10, Threshold 1\n",
      "            L-> Feature 33, Threshold 1\n",
      "                L-> 0 : 3200/3200\n",
      "                R-> Feature 105, Threshold 1\n",
      "                    L-> 0 : 192/192\n",
      "                    R-> 1 : 4/4\n",
      "            R-> 1 : 4/4\n",
      "        R-> Feature 63, Threshold 1\n",
      "            L-> 1 : 40/40\n",
      "            R-> 0 : 16/16\n",
      "    R-> 1 : 72/72\n"
     ]
    }
   ],
   "source": [
    "print_tree(model)\n"
   ]
  },
  {
   "cell_type": "markdown",
   "metadata": {
    "slideshow": {
     "slide_type": "slide"
    }
   },
   "source": [
    "\n",
    "# Pruning"
   ]
  },
  {
   "cell_type": "markdown",
   "metadata": {
    "slideshow": {
     "slide_type": "notes"
    }
   },
   "source": [
    "Pruning is a technique that reduces the size of the decison tree. It does this by removing sections of the tree\n",
    "that do not hold very much weight in classifying. Doing this reduces the complexity of the final classifier and hence improves predictive accuracy by reduction of overfitting. "
   ]
  },
  {
   "cell_type": "code",
   "execution_count": 9,
   "metadata": {
    "slideshow": {
     "slide_type": "subslide"
    }
   },
   "outputs": [
    {
     "data": {
      "text/plain": [
       "Decision Tree\n",
       "Leaves: 9\n",
       "Depth:  5"
      ]
     },
     "execution_count": 9,
     "metadata": {},
     "output_type": "execute_result"
    }
   ],
   "source": [
    "model_new = prune_tree(model, 0.9)\n"
   ]
  },
  {
   "cell_type": "markdown",
   "metadata": {
    "slideshow": {
     "slide_type": "notes"
    }
   },
   "source": [
    "In this I have printed the decsion tree and what each feature represents. \n",
    "\n",
    "    If a species is in the the left branch it has that attribute.\n",
    "    If a species is in the right branch it does not have that attributes."
   ]
  },
  {
   "cell_type": "code",
   "execution_count": 10,
   "metadata": {
    "slideshow": {
     "slide_type": "subslide"
    }
   },
   "outputs": [
    {
     "name": "stdout",
     "output_type": "stream",
     "text": [
      "Feature 25, Threshold 1\n",
      "                                        L-> Feature 21, Threshold 1\n",
      "                                            L-> 1 : 3252/3252\n",
      "                                            R-> Feature 48, Threshold 1\n",
      "                                                L-> Feature 58, Threshold 1\n",
      "                                                    L-> Feature 32, Threshold 1\n",
      "                                                        L-> 0 : 96/96\n",
      "                                                        R-> 1 : 544/544\n",
      "                                                    R-> 0 : 192/192\n",
      "                                                R-> 0 : 512/512\n",
      "                                        R-> Feature 96, Threshold 1\n",
      "                                            L-> Feature 58, Threshold 1\n",
      "                                                L-> 0 : 3392/3400\n",
      "                                                R-> Feature 63, Threshold 1\n",
      "                                                    L-> 1 : 40/40\n",
      "                                                    R-> 0 : 16/16\n",
      "                                            R-> 1 : 72/72\n",
      "25: odor_a\n",
      "  L-> 21: cap_color_c\n",
      "    R-> 48: stalk_shape_e\n",
      "      L-> 58: stalk_surface_below_ring_s\n",
      "         L-> 109: habitat_g\n",
      "\n",
      "  R-> 96: spore_print_color_h\n",
      "    L-> 58: stalk_surface_below_ring_s\n",
      "      R-> 84: veil_color_y\n"
     ]
    }
   ],
   "source": [
    "print_tree(model_new, 5, 10)\n",
    "println(\"25: $(attributes[24])\")\n",
    "println(\"  L-> 21: $(attributes[20])\")\n",
    "println(\"    R-> 48: $(attributes[47])\")\n",
    "println(\"      L-> 58: $(attributes[57])\")\n",
    "println(\"         L-> 109: $(attributes[108])\\n\")\n",
    "println(\"  R-> 96: $(attributes[95])\")\n",
    "println(\"    L-> 58: $(attributes[57])\")\n",
    "println(\"      R-> 84: $(attributes[83])\")"
   ]
  },
  {
   "cell_type": "markdown",
   "metadata": {
    "slideshow": {
     "slide_type": "notes"
    }
   },
   "source": [
    "I then wanted to see the accuracy using cross validation. \n",
    "\n",
    "    *Kappa is a metric used to compare the observed accuracy with an expected accuracy. \n",
    "    \n",
    "This data produces a very high accuracy. Again this makes sense because there is a clear distinction for those mushrooms that are edible but any mushroom that is in any way ambiguous is classified as poisonous. "
   ]
  },
  {
   "cell_type": "code",
   "execution_count": 11,
   "metadata": {
    "scrolled": true,
    "slideshow": {
     "slide_type": "slide"
    }
   },
   "outputs": [
    {
     "name": "stdout",
     "output_type": "stream",
     "text": [
      "\n",
      "Fold 1\n",
      "Classes:  "
     ]
    },
    {
     "data": {
      "text/plain": [
       "2×2 Array{Int64,2}:\n",
       " 828    0\n",
       "   0  796"
      ]
     },
     "metadata": {},
     "output_type": "display_data"
    },
    {
     "name": "stdout",
     "output_type": "stream",
     "text": [
      "[0, 1]\n",
      "Matrix:   \n",
      "Accuracy: 1.0\n",
      "Kappa:    1.0\n"
     ]
    },
    {
     "data": {
      "text/plain": [
       "2×2 Array{Int64,2}:\n",
       " 836    0\n",
       "   3  785"
      ]
     },
     "metadata": {},
     "output_type": "display_data"
    },
    {
     "name": "stdout",
     "output_type": "stream",
     "text": [
      "\n",
      "Fold 2\n",
      "Classes:  [0, 1]\n",
      "Matrix:   \n",
      "Accuracy: 0.9981527093596059\n",
      "Kappa:    0.996301784131071"
     ]
    },
    {
     "data": {
      "text/plain": [
       "2×2 Array{Int64,2}:\n",
       " 845    0\n",
       "   3  776"
      ]
     },
     "metadata": {},
     "output_type": "display_data"
    },
    {
     "name": "stdout",
     "output_type": "stream",
     "text": [
      "\n",
      "\n",
      "Fold 3\n",
      "Classes:  [0, 1]\n",
      "Matrix:   \n",
      "Accuracy: 0.9981527093596059\n",
      "Kappa:    0.9962987498404633"
     ]
    },
    {
     "data": {
      "text/plain": [
       "2×2 Array{Int64,2}:\n",
       " 859    0\n",
       "   1  764"
      ]
     },
     "metadata": {},
     "output_type": "display_data"
    },
    {
     "name": "stdout",
     "output_type": "stream",
     "text": [
      "\n",
      "\n",
      "Fold 4\n",
      "Classes:  [0, 1]\n",
      "Matrix:   \n",
      "Accuracy: 0.999384236453202\n",
      "Kappa:    0.9987642446673809\n"
     ]
    },
    {
     "data": {
      "text/plain": [
       "2×2 Array{Int64,2}:\n",
       " 837    0\n",
       "   1  786"
      ]
     },
     "metadata": {},
     "output_type": "display_data"
    },
    {
     "name": "stdout",
     "output_type": "stream",
     "text": [
      "\n",
      "Fold 5\n",
      "Classes:  [0, 1]\n",
      "Matrix:   \n",
      "Accuracy: 0.999384236453202\n",
      "Kappa:    0.9987672576340455\n",
      "\n",
      "Mean Accuracy: 0.9990147783251231\n"
     ]
    },
    {
     "data": {
      "text/plain": [
       "5-element Array{Float64,1}:\n",
       " 1.0               \n",
       " 0.9981527093596059\n",
       " 0.9981527093596059\n",
       " 0.999384236453202 \n",
       " 0.999384236453202 "
      ]
     },
     "execution_count": 11,
     "metadata": {},
     "output_type": "execute_result"
    }
   ],
   "source": [
    "n_folds = 5\n",
    "accuracy = nfoldCV_tree(y, X, n_folds, 0.9)"
   ]
  },
  {
   "cell_type": "markdown",
   "metadata": {
    "slideshow": {
     "slide_type": "slide"
    }
   },
   "source": [
    "# Using Scikitlearn Decision Tree Classifier "
   ]
  },
  {
   "cell_type": "markdown",
   "metadata": {
    "slideshow": {
     "slide_type": "skip"
    }
   },
   "source": [
    "To use this package I will need to import the DescionTreeClassifier and the plot_tree which allows me to \n",
    "print out a pretty decsion tree graphic"
   ]
  },
  {
   "cell_type": "code",
   "execution_count": null,
   "metadata": {
    "slideshow": {
     "slide_type": "skip"
    }
   },
   "outputs": [],
   "source": [
    "@sk_import tree : DecisionTreeClassifier\n",
    "@sk_import tree : plot_tree \n"
   ]
  },
  {
   "cell_type": "markdown",
   "metadata": {
    "slideshow": {
     "slide_type": "notes"
    }
   },
   "source": [
    "Again I need to build the model "
   ]
  },
  {
   "cell_type": "code",
   "execution_count": null,
   "metadata": {
    "slideshow": {
     "slide_type": "subslide"
    }
   },
   "outputs": [],
   "source": [
    "mushroom_model = DecisionTreeClassifier()"
   ]
  },
  {
   "cell_type": "code",
   "execution_count": null,
   "metadata": {
    "slideshow": {
     "slide_type": "subslide"
    }
   },
   "outputs": [],
   "source": [
    "mushroom_model = mushroom_model.fit(X, y)"
   ]
  },
  {
   "cell_type": "markdown",
   "metadata": {
    "slideshow": {
     "slide_type": "slide"
    }
   },
   "source": [
    "# The Descion Tree \n",
    "    Gini: Is the measure of impuity or probability of a particular variable being wrongly classified when randomly chosen.\n",
    "    samples: How many species are in this group \n",
    "    values: [labeled edible, labeled poisonous]\n",
    "    filled: blue indicated the majority is poisonous, orange the majority are edible "
   ]
  },
  {
   "cell_type": "code",
   "execution_count": null,
   "metadata": {
    "scrolled": true,
    "slideshow": {
     "slide_type": "subslide"
    }
   },
   "outputs": [],
   "source": [
    "#need to increase the size of the figure so that it is legible \n",
    "fig, ax = subplots(figsize=(20,20))\n",
    "\n",
    "#feature_names = puts a label of the attribute that is being questioned in that cell instead of a number \n",
    "#class_names = gives the prodominant class in that group (1: poisinous, 0:edible)\n",
    "#filled = true means that it will color the box based on the prodominant class (blue=poisinous, orange=edible)\n",
    "#proportion=true reports the values and samples as percentage of the group with that label instead of the actual number of species with that label \n",
    "#rounded=true and fontsize are simply a formating thing to make it look nicer and more legible \n",
    "plot_tree(mushroom_model, feature_names=attributes, class_names=true, filled=true, proportion=true,\n",
    "    rounded=true, fontsize=15)\n"
   ]
  }
 ],
 "metadata": {
  "kernelspec": {
   "display_name": "Julia 1.2.0",
   "language": "julia",
   "name": "julia-1.2"
  },
  "language_info": {
   "file_extension": ".jl",
   "mimetype": "application/julia",
   "name": "julia",
   "version": "1.2.0"
  }
 },
 "nbformat": 4,
 "nbformat_minor": 2
}
