{
 "cells": [
  {
   "cell_type": "markdown",
   "metadata": {},
   "source": [
    "# CHE 599 Lecture notes from 10-2-19 and 10-4-19"
   ]
  },
  {
   "cell_type": "markdown",
   "metadata": {},
   "source": [
    "\"]\" # in terminal to add a pkg "
   ]
  },
  {
   "cell_type": "code",
   "execution_count": null,
   "metadata": {},
   "outputs": [],
   "source": [
    "rand() #random Float64 in [0,1)\n"
   ]
  },
  {
   "cell_type": "code",
   "execution_count": null,
   "metadata": {},
   "outputs": [],
   "source": [
    "collect(1:2)\n",
    "landed_on_tails = rand([1:2]) == 1\n",
    "\n"
   ]
  },
  {
   "cell_type": "code",
   "execution_count": null,
   "metadata": {},
   "outputs": [],
   "source": [
    "landed_on_tailes = rand() < 0.5"
   ]
  },
  {
   "cell_type": "markdown",
   "metadata": {},
   "source": [
    "a Gaussian Number"
   ]
  },
  {
   "cell_type": "code",
   "execution_count": null,
   "metadata": {},
   "outputs": [],
   "source": [
    "randn() # n for normal! "
   ]
  },
  {
   "cell_type": "code",
   "execution_count": null,
   "metadata": {},
   "outputs": [],
   "source": [
    "?randn"
   ]
  },
  {
   "cell_type": "code",
   "execution_count": null,
   "metadata": {},
   "outputs": [],
   "source": [
    "σ² #\\sigma tab over  "
   ]
  },
  {
   "cell_type": "code",
   "execution_count": null,
   "metadata": {
    "scrolled": true
   },
   "outputs": [],
   "source": [
    "using Random\n",
    "x = [1, 2, 3, 4, 5]\n",
    "shuffle!(x)\n",
    "x "
   ]
  },
  {
   "cell_type": "markdown",
   "metadata": {},
   "source": [
    "randomly select form a population with and without replacement "
   ]
  },
  {
   "cell_type": "code",
   "execution_count": null,
   "metadata": {
    "scrolled": true
   },
   "outputs": [],
   "source": [
    "Pkg.add(\"Statsbase\")"
   ]
  },
  {
   "cell_type": "code",
   "execution_count": null,
   "metadata": {},
   "outputs": [],
   "source": [
    "\n",
    "using Statsbase\n",
    "groceries = [:chicken, :carrots, :brocolli, :rice]\n",
    "sample(groceries, 2, replace = true) "
   ]
  },
  {
   "cell_type": "code",
   "execution_count": null,
   "metadata": {},
   "outputs": [],
   "source": [
    "sample([\"rain\", \"cloudy\", \"sun\"], ProbabilityWeights([0.1, 0.6, 0.3]))"
   ]
  },
  {
   "cell_type": "markdown",
   "metadata": {},
   "source": [
    "# mutable vs immutabel "
   ]
  },
  {
   "cell_type": "code",
   "execution_count": null,
   "metadata": {},
   "outputs": [],
   "source": [
    "struct Researcher \n",
    "    institution::String \n",
    "    nb_pubs::Int\n",
    "end\n",
    "\n",
    "publish_a_paper!(researcher::Researcher) = researcher.nb_pubs += 1 \n",
    "\n",
    "cory = Researcher(\"OSU\", 1) "
   ]
  },
  {
   "cell_type": "code",
   "execution_count": null,
   "metadata": {},
   "outputs": [],
   "source": [
    "publish_a_paper!(cory) #wont be able to be changed by default "
   ]
  },
  {
   "cell_type": "code",
   "execution_count": null,
   "metadata": {},
   "outputs": [],
   "source": [
    "mutable struct MutableResearcher \n",
    "    institution::String \n",
    "    nb_pubs::Int\n",
    "end\n",
    "\n",
    "publish_a_paper!(researcher::MutableResearcher) = researcher.nb_pubs += 1 \n",
    "\n",
    "cory = MutableResearcher(\"OSU\", 1) \n",
    "\n",
    "publish_a_paper!(cory)\n",
    "cory "
   ]
  },
  {
   "cell_type": "markdown",
   "metadata": {},
   "source": [
    "# DATAFRAMES"
   ]
  },
  {
   "cell_type": "code",
   "execution_count": 1,
   "metadata": {
    "scrolled": true
   },
   "outputs": [
    {
     "name": "stdout",
     "output_type": "stream",
     "text": [
      "\u001b[32m\u001b[1m  Updating\u001b[22m\u001b[39m registry at `C:\\Users\\Owner\\.julia\\registries\\General`\n",
      "\u001b[32m\u001b[1m  Updating\u001b[22m\u001b[39m git-repo `https://github.com/JuliaRegistries/General.git`\n",
      "\u001b[?25l\u001b[2K\u001b[?25h"
     ]
    },
    {
     "ename": "Pkg.Types.PkgError",
     "evalue": "The following package names could not be resolved:\n * Dataframes (not found in project, manifest or registry)\nPlease specify by known `name=uuid`.",
     "output_type": "error",
     "traceback": [
      "The following package names could not be resolved:\n * Dataframes (not found in project, manifest or registry)\nPlease specify by known `name=uuid`.",
      "",
      "Stacktrace:",
      " [1] pkgerror(::String) at C:\\cygwin\\home\\Administrator\\buildbot\\worker\\package_win64\\build\\usr\\share\\julia\\stdlib\\v1.2\\Pkg\\src\\Types.jl:112",
      " [2] #ensure_resolved#107(::Bool, ::typeof(Pkg.Types.ensure_resolved), ::Pkg.Types.EnvCache, ::Array{Pkg.Types.PackageSpec,1}) at C:\\cygwin\\home\\Administrator\\buildbot\\worker\\package_win64\\build\\usr\\share\\julia\\stdlib\\v1.2\\Pkg\\src\\Types.jl:910",
      " [3] #ensure_resolved at .\\none:0 [inlined]",
      " [4] #add#25(::Bool, ::Base.Iterators.Pairs{Union{},Union{},Tuple{},NamedTuple{(),Tuple{}}}, ::typeof(Pkg.API.add), ::Pkg.Types.Context, ::Array{Pkg.Types.PackageSpec,1}) at C:\\cygwin\\home\\Administrator\\buildbot\\worker\\package_win64\\build\\usr\\share\\julia\\stdlib\\v1.2\\Pkg\\src\\API.jl:94",
      " [5] add at C:\\cygwin\\home\\Administrator\\buildbot\\worker\\package_win64\\build\\usr\\share\\julia\\stdlib\\v1.2\\Pkg\\src\\API.jl:69 [inlined]",
      " [6] #add#24 at C:\\cygwin\\home\\Administrator\\buildbot\\worker\\package_win64\\build\\usr\\share\\julia\\stdlib\\v1.2\\Pkg\\src\\API.jl:67 [inlined]",
      " [7] add at C:\\cygwin\\home\\Administrator\\buildbot\\worker\\package_win64\\build\\usr\\share\\julia\\stdlib\\v1.2\\Pkg\\src\\API.jl:67 [inlined]",
      " [8] #add#21 at C:\\cygwin\\home\\Administrator\\buildbot\\worker\\package_win64\\build\\usr\\share\\julia\\stdlib\\v1.2\\Pkg\\src\\API.jl:65 [inlined]",
      " [9] add at C:\\cygwin\\home\\Administrator\\buildbot\\worker\\package_win64\\build\\usr\\share\\julia\\stdlib\\v1.2\\Pkg\\src\\API.jl:65 [inlined]",
      " [10] #add#20(::Base.Iterators.Pairs{Union{},Union{},Tuple{},NamedTuple{(),Tuple{}}}, ::typeof(Pkg.API.add), ::String) at C:\\cygwin\\home\\Administrator\\buildbot\\worker\\package_win64\\build\\usr\\share\\julia\\stdlib\\v1.2\\Pkg\\src\\API.jl:64",
      " [11] add(::String) at C:\\cygwin\\home\\Administrator\\buildbot\\worker\\package_win64\\build\\usr\\share\\julia\\stdlib\\v1.2\\Pkg\\src\\API.jl:64",
      " [12] top-level scope at In[1]:3"
     ]
    }
   ],
   "source": [
    "import Pkg \n",
    "using Pkg\n",
    "#Pkg.add(\"CSV\")\n",
    "Pkg.add(\"Dataframes\")"
   ]
  },
  {
   "cell_type": "code",
   "execution_count": 2,
   "metadata": {
    "scrolled": false
   },
   "outputs": [
    {
     "ename": "ArgumentError",
     "evalue": "ArgumentError: Package DataFrame not found in current path:\n- Run `import Pkg; Pkg.add(\"DataFrame\")` to install the DataFrame package.\n",
     "output_type": "error",
     "traceback": [
      "ArgumentError: Package DataFrame not found in current path:\n- Run `import Pkg; Pkg.add(\"DataFrame\")` to install the DataFrame package.\n",
      "",
      "Stacktrace:",
      " [1] require(::Module, ::Symbol) at .\\loading.jl:876",
      " [2] top-level scope at In[2]:1"
     ]
    }
   ],
   "source": [
    "using DataFrame\n",
    "using CSV \n"
   ]
  },
  {
   "cell_type": "markdown",
   "metadata": {},
   "source": [
    "# construct a 'Dataframe'"
   ]
  },
  {
   "cell_type": "code",
   "execution_count": null,
   "metadata": {
    "scrolled": false
   },
   "outputs": [],
   "source": [
    "city = [\"Corvallis\", \"Portland\", \"Eugene\"]\n",
    "pop = [57961, 67805, 168916]\n",
    "\n",
    "df_cities = DataFrame(city=city, pop=pop)\n",
    "df_cities"
   ]
  },
  {
   "cell_type": "code",
   "execution_count": null,
   "metadata": {},
   "outputs": [],
   "source": [
    "sort!(pop) #but this sucks because they are out of order now "
   ]
  },
  {
   "cell_type": "markdown",
   "metadata": {},
   "source": [
    "add rows to DataFrame "
   ]
  },
  {
   "cell_type": "code",
   "execution_count": null,
   "metadata": {},
   "outputs": [],
   "source": [
    "push!(df_cities, [\"Bend\", 94520])\n"
   ]
  },
  {
   "cell_type": "code",
   "execution_count": null,
   "metadata": {},
   "outputs": [],
   "source": [
    "push!(df_cities, Dict(:pop => 122324, :city => \"Berkley\"))"
   ]
  },
  {
   "cell_type": "markdown",
   "metadata": {},
   "source": [
    "retrieve a column "
   ]
  },
  {
   "cell_type": "code",
   "execution_count": null,
   "metadata": {},
   "outputs": [],
   "source": [
    "df_cities[:, :pop]"
   ]
  },
  {
   "cell_type": "code",
   "execution_count": null,
   "metadata": {},
   "outputs": [],
   "source": [
    "df_cities.pop"
   ]
  },
  {
   "cell_type": "markdown",
   "metadata": {},
   "source": [
    "add columns "
   ]
  },
  {
   "cell_type": "code",
   "execution_count": null,
   "metadata": {},
   "outputs": [],
   "source": [
    "df_cities[!, :state] = [\"OR\", \"OR\", \"OR\", \"OR\", \"CA\"]  #! = all the rows \n",
    "df_cities"
   ]
  },
  {
   "cell_type": "code",
   "execution_count": null,
   "metadata": {},
   "outputs": [],
   "source": [
    "insertcols!(df_cities, 1, states= [\"OR\", \"OR\", \"OR\", \"OR\", \"CA\"]) # another way to do it \n",
    "df_cities"
   ]
  },
  {
   "cell_type": "code",
   "execution_count": null,
   "metadata": {},
   "outputs": [],
   "source": [
    "size(df_cities)"
   ]
  },
  {
   "cell_type": "code",
   "execution_count": null,
   "metadata": {},
   "outputs": [],
   "source": [
    "names(df_cities) #names of columns "
   ]
  },
  {
   "cell_type": "markdown",
   "metadata": {},
   "source": [
    "###delete rows "
   ]
  },
  {
   "cell_type": "code",
   "execution_count": null,
   "metadata": {},
   "outputs": [],
   "source": [
    "deleterows!(df_cities, 3)\n",
    "df_cities\n"
   ]
  },
  {
   "cell_type": "code",
   "execution_count": null,
   "metadata": {},
   "outputs": [],
   "source": [
    "deletecols!(df_cities, 1)"
   ]
  },
  {
   "cell_type": "markdown",
   "metadata": {},
   "source": [
    "#iterate through the rows of dataframe "
   ]
  },
  {
   "cell_type": "code",
   "execution_count": null,
   "metadata": {},
   "outputs": [],
   "source": [
    "for row in eachrow(df_cities)\n",
    "    #row is like a dictionary \n",
    "    println(\"city = \", row[:city])\n",
    "    println(\"\\tpop = \", row[:pop])\n",
    "    println(\"\\tstate = \", row[:state])\n",
    "    \n",
    "end"
   ]
  },
  {
   "cell_type": "markdown",
   "metadata": {},
   "source": [
    "Lectuer 10.4 start "
   ]
  },
  {
   "cell_type": "markdown",
   "metadata": {},
   "source": [
    "Retrieve a column "
   ]
  },
  {
   "cell_type": "code",
   "execution_count": null,
   "metadata": {},
   "outputs": [],
   "source": [
    "df_cities[:, :pop]"
   ]
  },
  {
   "cell_type": "code",
   "execution_count": null,
   "metadata": {},
   "outputs": [],
   "source": [
    "df_cities.pop"
   ]
  },
  {
   "cell_type": "markdown",
   "metadata": {},
   "source": [
    "Retieves Rows"
   ]
  },
  {
   "cell_type": "code",
   "execution_count": null,
   "metadata": {},
   "outputs": [],
   "source": [
    "df_cities[2, :state]"
   ]
  },
  {
   "cell_type": "code",
   "execution_count": null,
   "metadata": {},
   "outputs": [],
   "source": [
    "df_cities[(1,3), [:city, :pop]] #slices out data row and colum wise "
   ]
  },
  {
   "cell_type": "code",
   "execution_count": null,
   "metadata": {},
   "outputs": [],
   "source": [
    "df_cities[:, :city] .== \"Corvallis\" #should olny get true on the corvallis row \n",
    "df_cities[df_cities[:, :city] .== \"Corvallis\", :] #gives only Corvallis "
   ]
  },
  {
   "cell_type": "code",
   "execution_count": null,
   "metadata": {},
   "outputs": [],
   "source": [
    "df_cities[df_cities[:, :pop] .> 500000, :] #only gives you cities with pop less than \n"
   ]
  },
  {
   "cell_type": "code",
   "execution_count": null,
   "metadata": {},
   "outputs": [],
   "source": [
    "keep_this_row = row -> row[:state] == \"OR\" #goes therough row wise and keeps row that is from oregon \n",
    "filter(keep_this_row, df_cities)  #creates a new copy of the dataframe with this information "
   ]
  },
  {
   "cell_type": "code",
   "execution_count": null,
   "metadata": {},
   "outputs": [],
   "source": [
    "sort!(df_cities, :pop, rev=true) #rev=descending "
   ]
  },
  {
   "cell_type": "code",
   "execution_count": null,
   "metadata": {},
   "outputs": [],
   "source": [
    "typeof(missing)"
   ]
  },
  {
   "cell_type": "code",
   "execution_count": null,
   "metadata": {},
   "outputs": [],
   "source": [
    "df_big[:, :state]"
   ]
  },
  {
   "cell_type": "code",
   "execution_count": null,
   "metadata": {},
   "outputs": [],
   "source": [
    "dropmissing(df_big)"
   ]
  },
  {
   "cell_type": "code",
   "execution_count": null,
   "metadata": {},
   "outputs": [],
   "source": [
    "dropmissing(df_big, :state)"
   ]
  },
  {
   "cell_type": "markdown",
   "metadata": {},
   "source": [
    "Unique"
   ]
  },
  {
   "cell_type": "code",
   "execution_count": null,
   "metadata": {},
   "outputs": [],
   "source": [
    "unique([1, 2, 2, 2, 5])"
   ]
  },
  {
   "cell_type": "code",
   "execution_count": null,
   "metadata": {},
   "outputs": [],
   "source": [
    "unique(df_big[:, :state])"
   ]
  },
  {
   "cell_type": "markdown",
   "metadata": {},
   "source": [
    "delete duplicate rows "
   ]
  },
  {
   "cell_type": "code",
   "execution_count": null,
   "metadata": {},
   "outputs": [],
   "source": [
    "push!(df_cities, df_cities[2, :])"
   ]
  },
  {
   "cell_type": "code",
   "execution_count": null,
   "metadata": {},
   "outputs": [],
   "source": [
    "sort!(df_cities, :pop) \n",
    "df_cities"
   ]
  },
  {
   "cell_type": "code",
   "execution_count": null,
   "metadata": {},
   "outputs": [],
   "source": [
    "unique!(df_cities)\n",
    "df_cities"
   ]
  },
  {
   "cell_type": "code",
   "execution_count": null,
   "metadata": {},
   "outputs": [],
   "source": [
    "CSV.write(\"big_df.csv\", df_big)"
   ]
  },
  {
   "cell_type": "markdown",
   "metadata": {},
   "source": [
    "# groupby: split rows of a DataFrame into groups "
   ]
  },
  {
   "cell_type": "code",
   "execution_count": null,
   "metadata": {},
   "outputs": [],
   "source": [
    "the groupby command "
   ]
  },
  {
   "cell_type": "code",
   "execution_count": null,
   "metadata": {},
   "outputs": [],
   "source": [
    "gb = groupby(df_cities, :state) "
   ]
  },
  {
   "cell_type": "code",
   "execution_count": null,
   "metadata": {},
   "outputs": [],
   "source": [
    "for df_by_state in groupby(df_cities, :state) \n",
    "        #inside this loop all data points belomg to the same state! \n",
    "#    print(df_by_state)\n",
    "    this_state = df_by_state[1, :state]\n",
    "    println(\"state = \", this_state)\n",
    "    \n",
    "    nb_cities = size(df_by_state)[1]\n",
    "    println(\"\\t# cities = \", nb_cities)\n",
    "    \n",
    "    avg_rainfall = mean(df_by_state[:, :rainfall])\n",
    "    println(\"\\t(rainfall ) =\", avg_rainfall)\n",
    "    \n",
    "end "
   ]
  },
  {
   "cell_type": "markdown",
   "metadata": {},
   "source": [
    "# by:split into groups, applu a function, combine back "
   ]
  },
  {
   "cell_type": "code",
   "execution_count": null,
   "metadata": {},
   "outputs": [],
   "source": [
    "by(df_cities, :state, avg_rainfall = :rainfall => mean)"
   ]
  },
  {
   "cell_type": "code",
   "execution_count": null,
   "metadata": {},
   "outputs": [],
   "source": [
    "aggregate(df_cities[:, [:state, :rainfall, :population]], :state, mean)"
   ]
  },
  {
   "cell_type": "code",
   "execution_count": null,
   "metadata": {},
   "outputs": [],
   "source": [
    "rename!(df_cities, :city => :City) \n",
    "df_cities"
   ]
  },
  {
   "cell_type": "markdown",
   "metadata": {},
   "source": [
    "# Steak Dataframe "
   ]
  },
  {
   "cell_type": "code",
   "execution_count": null,
   "metadata": {},
   "outputs": [],
   "source": [
    "steak_file = (\"steak.csv\")"
   ]
  },
  {
   "cell_type": "code",
   "execution_count": null,
   "metadata": {},
   "outputs": [],
   "source": [
    "df_steak = CSV.read(steak_file, header = [:eats_steak, :how_cooked], copycols=true) #this csv is missing a header so add one i\n",
    "#copycols=true makes dataframe mutable \n",
    "dropmissing!(df_steak) #must have !\n",
    "first(df_steak, 10)"
   ]
  },
  {
   "cell_type": "code",
   "execution_count": null,
   "metadata": {},
   "outputs": [],
   "source": [
    "groupby(df_steak, :eats_steak)"
   ]
  },
  {
   "cell_type": "code",
   "execution_count": null,
   "metadata": {},
   "outputs": [],
   "source": [
    "nb_preferences = unique(df_steak[:, :how_cooked])\n"
   ]
  },
  {
   "cell_type": "code",
   "execution_count": null,
   "metadata": {},
   "outputs": [],
   "source": [
    "\n",
    "df_count = by(df_steak, :how_cooked, nb_people = :how_cooked => length)"
   ]
  },
  {
   "cell_type": "code",
   "execution_count": null,
   "metadata": {},
   "outputs": [],
   "source": [
    "#import Pkg\n",
    "#Pkg.add(\"PyPlot\")\n",
    "df_prefs = df_count[[2, 1, 3, 4, 5], :]"
   ]
  },
  {
   "cell_type": "code",
   "execution_count": null,
   "metadata": {},
   "outputs": [],
   "source": [
    "using PyPlot\n",
    "figure()\n",
    "barh(1:nrow(df_count), df_count[:, :nb_people])\n",
    "yticks(1:nrow(df_count), df_count[:, :how_cooked])\n",
    "xlabel(\"# eaters\")\n",
    "title(\"how do you like your steak\")"
   ]
  },
  {
   "cell_type": "code",
   "execution_count": null,
   "metadata": {},
   "outputs": [],
   "source": [
    "hot_color_map = PyPlot.matplotlib.cm.get_cap(\"hot\")\n",
    "hot_colormap(0,0)"
   ]
  },
  {
   "cell_type": "code",
   "execution_count": null,
   "metadata": {},
   "outputs": [],
   "source": [
    "steak_colors = hot_colormap.(range(0, 0, stop=1.0, length=5))"
   ]
  }
 ],
 "metadata": {
  "kernelspec": {
   "display_name": "Julia 1.2.0",
   "language": "julia",
   "name": "julia-1.2"
  },
  "language_info": {
   "file_extension": ".jl",
   "mimetype": "application/julia",
   "name": "julia",
   "version": "1.2.0"
  }
 },
 "nbformat": 4,
 "nbformat_minor": 2
}
