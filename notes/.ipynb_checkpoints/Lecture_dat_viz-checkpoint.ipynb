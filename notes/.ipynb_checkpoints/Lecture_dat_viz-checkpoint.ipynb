{
 "cells": [
  {
   "cell_type": "markdown",
   "metadata": {},
   "source": [
    "# data visualization\n",
    "\n",
    "we will use `matplotlib`, an open-source data visualization library written for Python (but we call it from Julia using `PyPlot`). \n",
    "\n",
    "* [documentation](https://matplotlib.org/) for `matplotlib`\n",
    "* a `matplotlib` [gallery](https://matplotlib.org/gallery/index.html)."
   ]
  },
  {
   "cell_type": "code",
   "execution_count": 1,
   "metadata": {},
   "outputs": [
    {
     "data": {
      "text/plain": [
       "16"
      ]
     },
     "execution_count": 1,
     "metadata": {},
     "output_type": "execute_result"
    }
   ],
   "source": [
    "using DataFrames\n",
    "using CSV\n",
    "using PyPlot # plotting library\n",
    "\n",
    "# check out all of the styles! https://matplotlib.org/3.1.1/gallery/style_sheets/style_sheets_reference.html\n",
    "PyPlot.matplotlib.style.use(\"seaborn-pastel\")\n",
    "\n",
    "# change settings for all plots at once, e.g. font size\n",
    "rcParams = PyPlot.PyDict(PyPlot.matplotlib.\"rcParams\")\n",
    "rcParams[\"font.size\"] = 16"
   ]
  },
  {
   "cell_type": "markdown",
   "metadata": {},
   "source": [
    "## bar plots: steak preferences\n",
    "\n",
    "*goal*: visualize how Americans like their steak done [[source](https://fivethirtyeight.com/features/how-americans-like-their-steak/)] via a bar plot showing preference for rare, medium rare, etc."
   ]
  },
  {
   "cell_type": "markdown",
   "metadata": {},
   "source": [
    "a problem here when reading in the file: the column names missing from `steak.csv`!\n",
    "* first column: \"do you eat steak?\"\n",
    "* second column: \"how do you like your steak done?\"\n",
    "\n",
    "(for ambitious Beavers only) I'm running a shell command here from Julia to look at head (first 3 lines) of the file."
   ]
  },
  {
   "cell_type": "markdown",
   "metadata": {},
   "source": [
    "we can pass the column names to `CSV.read` manually via `header`. we also pass `copycols=true` to make the columns mutable, since we will later drop `missing` values."
   ]
  },
  {
   "cell_type": "code",
   "execution_count": null,
   "metadata": {
    "scrolled": true
   },
   "outputs": [],
   "source": [
    "df_steak = CSV.read(\"steak.csv\", header=[:eats_steak, :how_cooked], copycols=true)\n",
    "first(df_steak, 10) # diplay only the first ten rows to avoid clutter in notebook"
   ]
  },
  {
   "cell_type": "markdown",
   "metadata": {},
   "source": [
    "remove missing values (folks who do not eat steak should not count in our visualization)"
   ]
  },
  {
   "cell_type": "code",
   "execution_count": 5,
   "metadata": {
    "scrolled": false
   },
   "outputs": [
    {
     "ename": "UndefVarError",
     "evalue": "UndefVarError: df_steak not defined",
     "output_type": "error",
     "traceback": [
      "UndefVarError: df_steak not defined",
      "",
      "Stacktrace:",
      " [1] top-level scope at In[5]:1"
     ]
    }
   ],
   "source": [
    "dropmissing!(df_steak)\n",
    "first(df_steak, 10)"
   ]
  },
  {
   "cell_type": "markdown",
   "metadata": {},
   "source": [
    "let's make sure everyone in this data set now eats steak and thus can answer the question"
   ]
  },
  {
   "cell_type": "code",
   "execution_count": 6,
   "metadata": {},
   "outputs": [
    {
     "ename": "UndefVarError",
     "evalue": "UndefVarError: df_steak not defined",
     "output_type": "error",
     "traceback": [
      "UndefVarError: df_steak not defined",
      "",
      "Stacktrace:",
      " [1] top-level scope at In[6]:1"
     ]
    }
   ],
   "source": [
    "unique(df_steak[:, :eats_steak])"
   ]
  },
  {
   "cell_type": "markdown",
   "metadata": {},
   "source": [
    "now let's count the number of folks who prefer rare, medium rare, etc."
   ]
  },
  {
   "cell_type": "code",
   "execution_count": 7,
   "metadata": {},
   "outputs": [
    {
     "ename": "UndefVarError",
     "evalue": "UndefVarError: df_steak not defined",
     "output_type": "error",
     "traceback": [
      "UndefVarError: df_steak not defined",
      "",
      "Stacktrace:",
      " [1] top-level scope at In[7]:1"
     ]
    }
   ],
   "source": [
    "df_steak_pref = aggregate(df_steak, :how_cooked, length)"
   ]
  },
  {
   "cell_type": "markdown",
   "metadata": {},
   "source": [
    "let's re-order the rows since there is an ordinality in the rows via the time cooked."
   ]
  },
  {
   "cell_type": "code",
   "execution_count": 8,
   "metadata": {
    "scrolled": true
   },
   "outputs": [
    {
     "ename": "UndefVarError",
     "evalue": "UndefVarError: df_steak_pref not defined",
     "output_type": "error",
     "traceback": [
      "UndefVarError: df_steak_pref not defined",
      "",
      "Stacktrace:",
      " [1] top-level scope at In[8]:1"
     ]
    }
   ],
   "source": [
    "df_steak_pref = df_steak_pref[[2, 1, 3, 4, 5], :]"
   ]
  },
  {
   "cell_type": "code",
   "execution_count": 9,
   "metadata": {},
   "outputs": [
    {
     "ename": "LoadError",
     "evalue": "syntax: incomplete: invalid character literal",
     "output_type": "error",
     "traceback": [
      "syntax: incomplete: invalid character literal",
      ""
     ]
    }
   ],
   "source": [
    "let's define percentage of population that likes "
   ]
  },
  {
   "cell_type": "code",
   "execution_count": 10,
   "metadata": {},
   "outputs": [
    {
     "ename": "UndefVarError",
     "evalue": "UndefVarError: df_steak_pref not defined",
     "output_type": "error",
     "traceback": [
      "UndefVarError: df_steak_pref not defined",
      "",
      "Stacktrace:",
      " [1] top-level scope at In[10]:1"
     ]
    }
   ],
   "source": [
    "nb_preferences = size(df_steak_pref)[1] # will be useful later"
   ]
  },
  {
   "cell_type": "markdown",
   "metadata": {},
   "source": [
    "finally, let's make a bar graph!"
   ]
  },
  {
   "cell_type": "code",
   "execution_count": 11,
   "metadata": {},
   "outputs": [
    {
     "ename": "UndefVarError",
     "evalue": "UndefVarError: nb_preferences not defined",
     "output_type": "error",
     "traceback": [
      "UndefVarError: nb_preferences not defined",
      "",
      "Stacktrace:",
      " [1] top-level scope at In[11]:3"
     ]
    }
   ],
   "source": [
    "# construct a blank figure panel\n",
    "figure()\n",
    "# make bar plot (h = horizontal)\n",
    "#  first argument: y-positions to center the bars [1, 2, 3, 4, 5]\n",
    "#  second argument: length of the bars (which we want to set as the number of ppl that eat steak that way)\n",
    "barh(1:nb_preferences, df_steak_pref[!, :eats_steak_length])\n",
    "# specify wut to label the y-ticks\n",
    "#  first argument: where to draw the y-ticks\n",
    "#  second argument: wut text to put as a y-tick label\n",
    "yticks(1:nb_preferences, df_steak_pref[!, :how_cooked])\n",
    "# label x-axis, give a title\n",
    "xlabel(\"# responses\")\n",
    "title(\"how do you like your steak?\")\n",
    "# save as pdf\n",
    "tight_layout() # needed to adjust bounding box to include labels\n",
    "savefig(\"steak.pdf\", format=\"pdf\")"
   ]
  },
  {
   "cell_type": "markdown",
   "metadata": {},
   "source": [
    "... we can do better by using colors to indicate ordinality of the ways to cook the steak.\n",
    "\n",
    "see matplotlib's choice of [colormaps](https://matplotlib.org/3.1.0/tutorials/colors/colormaps.html) for representing numerical scales with color.\n",
    "\n",
    "let's construct the `hot` colormap. this is a function that takes in floating point numbers from 0 to 1 and returns an color (R,G,B, alpha) where R = red, G = green, B = blue, alpha = transparency."
   ]
  },
  {
   "cell_type": "code",
   "execution_count": 12,
   "metadata": {},
   "outputs": [
    {
     "data": {
      "text/plain": [
       "(0.0416, 0.0, 0.0, 1.0)"
      ]
     },
     "execution_count": 12,
     "metadata": {},
     "output_type": "execute_result"
    }
   ],
   "source": [
    "hot_colormap = PyPlot.matplotlib.cm.get_cmap(\"hot\")\n",
    "hot_colormap(0.0) # color representing 0.0"
   ]
  },
  {
   "cell_type": "markdown",
   "metadata": {},
   "source": [
    "assuming equal spacing between each way of cooking the steak, let's color each bar accordingly."
   ]
  },
  {
   "cell_type": "code",
   "execution_count": 13,
   "metadata": {},
   "outputs": [
    {
     "ename": "UndefVarError",
     "evalue": "UndefVarError: nb_preferences not defined",
     "output_type": "error",
     "traceback": [
      "UndefVarError: nb_preferences not defined",
      "",
      "Stacktrace:",
      " [1] top-level scope at In[13]:1"
     ]
    }
   ],
   "source": [
    "colors = [hot_colormap(1.0 - p / nb_preferences) for p = 1:nb_preferences]"
   ]
  },
  {
   "cell_type": "code",
   "execution_count": 14,
   "metadata": {},
   "outputs": [
    {
     "ename": "UndefVarError",
     "evalue": "UndefVarError: nb_preferences not defined",
     "output_type": "error",
     "traceback": [
      "UndefVarError: nb_preferences not defined",
      "",
      "Stacktrace:",
      " [1] top-level scope at In[14]:2"
     ]
    }
   ],
   "source": [
    "figure()\n",
    "# pass colors of each bar\n",
    "barh(1:nb_preferences, df_steak_pref[!, :eats_steak_length],color=colors)\n",
    "yticks(1:nb_preferences, df_steak_pref[!, :how_cooked])\n",
    "xlabel(\"# responses\")\n",
    "title(\"how do you like your steak?\")\n",
    "tight_layout()\n",
    "savefig(\"steak_colored.pdf\", format=\"pdf\")"
   ]
  },
  {
   "cell_type": "markdown",
   "metadata": {},
   "source": [
    "## histograms: salaries of professors at Oregon State University\n",
    "\n",
    "I extracted these from [here](https://hr.oregonstate.edu/employees/administrators-supervisors/classification-compensation/salary-reports).\n",
    "\n",
    "*goal*: visualize the distribution of 9-month salaries among OSU professors (assistant, associate, and full)"
   ]
  },
  {
   "cell_type": "code",
   "execution_count": 15,
   "metadata": {},
   "outputs": [
    {
     "data": {
      "text/plain": [
       "\"salaries\\\\osu_salaries.csv\""
      ]
     },
     "execution_count": 15,
     "metadata": {},
     "output_type": "execute_result"
    }
   ],
   "source": [
    "where_my_salary_file = joinpath(\"salaries\", \"osu_salaries.csv\")"
   ]
  },
  {
   "cell_type": "code",
   "execution_count": 16,
   "metadata": {
    "scrolled": true
   },
   "outputs": [
    {
     "ename": "ArgumentError",
     "evalue": "ArgumentError: \"salaries\\osu_salaries.csv\" is not a valid file",
     "output_type": "error",
     "traceback": [
      "ArgumentError: \"salaries\\osu_salaries.csv\" is not a valid file",
      "",
      "Stacktrace:",
      " [1] checkvalidsource at C:\\Users\\Owner\\.julia\\packages\\CSV\\t5ipc\\src\\CSV.jl:95 [inlined]",
      " [2] file(::String, ::Int64, ::Bool, ::Int64, ::Nothing, ::Int64, ::Int64, ::Bool, ::Nothing, ::Bool, ::Bool, ::Array{String,1}, ::String, ::Nothing, ::Bool, ::Char, ::Nothing, ::Nothing, ::Char, ::Nothing, ::UInt8, ::Nothing, ::Nothing, ::Nothing, ::Nothing, ::Dict{Int8,Int8}, ::Bool, ::Float64, ::Bool, ::Bool, ::Nothing, ::Bool, ::Bool, ::Nothing) at C:\\Users\\Owner\\.julia\\packages\\CSV\\t5ipc\\src\\CSV.jl:247",
      " [3] #File#19 at C:\\Users\\Owner\\.julia\\packages\\CSV\\t5ipc\\src\\CSV.jl:197 [inlined]",
      " [4] Type at C:\\Users\\Owner\\.julia\\packages\\CSV\\t5ipc\\src\\CSV.jl:197 [inlined]",
      " [5] #read#61 at C:\\Users\\Owner\\.julia\\packages\\CSV\\t5ipc\\src\\CSV.jl:830 [inlined]",
      " [6] (::getfield(CSV, Symbol(\"#kw##read\")))(::NamedTuple{(:copycols,),Tuple{Bool}}, ::typeof(CSV.read), ::String) at .\\none:0",
      " [7] top-level scope at In[16]:1"
     ]
    }
   ],
   "source": [
    "df_salaries = CSV.read(where_my_salary_file, copycols=true) # copycols so we have mutable columns\n",
    "first(df_salaries, 10)"
   ]
  },
  {
   "cell_type": "markdown",
   "metadata": {},
   "source": [
    "filter out all employees but professors: particulary, Assistant Professors, Associate Professors, and Professors"
   ]
  },
  {
   "cell_type": "code",
   "execution_count": 17,
   "metadata": {},
   "outputs": [
    {
     "ename": "UndefVarError",
     "evalue": "UndefVarError: df_salaries not defined",
     "output_type": "error",
     "traceback": [
      "UndefVarError: df_salaries not defined",
      "",
      "Stacktrace:",
      " [1] top-level scope at In[17]:1"
     ]
    }
   ],
   "source": [
    "filter!(row -> row[:job_title] in [\"Assistant Professor\", \"Associate Professor\", \"Professor\"], df_salaries)\n",
    "first(df_salaries, 10)"
   ]
  },
  {
   "cell_type": "markdown",
   "metadata": {},
   "source": [
    "for an equal comparison, only plot those on 9-month salaries"
   ]
  },
  {
   "cell_type": "code",
   "execution_count": 18,
   "metadata": {},
   "outputs": [
    {
     "ename": "UndefVarError",
     "evalue": "UndefVarError: df_salaries not defined",
     "output_type": "error",
     "traceback": [
      "UndefVarError: df_salaries not defined",
      "",
      "Stacktrace:",
      " [1] top-level scope at In[18]:1"
     ]
    }
   ],
   "source": [
    "filter!(row -> row[:nb_months] == 9, df_salaries)\n",
    "first(df_salaries, 10)"
   ]
  },
  {
   "cell_type": "code",
   "execution_count": 19,
   "metadata": {},
   "outputs": [
    {
     "ename": "UndefVarError",
     "evalue": "UndefVarError: df_salaries not defined",
     "output_type": "error",
     "traceback": [
      "UndefVarError: df_salaries not defined",
      "",
      "Stacktrace:",
      " [1] top-level scope at In[19]:2"
     ]
    }
   ],
   "source": [
    "figure()\n",
    "# hist for histogram\n",
    "hist(df_salaries[:, :salary])\n",
    "xlabel(\"9-month salary, \\$\")\n",
    "ylabel(\"# professors\")\n",
    "title(\"salary of OSU profs\")"
   ]
  },
  {
   "cell_type": "markdown",
   "metadata": {},
   "source": [
    "we can granularize by assistant, associate, full professor"
   ]
  },
  {
   "cell_type": "code",
   "execution_count": 20,
   "metadata": {},
   "outputs": [
    {
     "ename": "UndefVarError",
     "evalue": "UndefVarError: df_salaries not defined",
     "output_type": "error",
     "traceback": [
      "UndefVarError: df_salaries not defined",
      "",
      "Stacktrace:",
      " [1] top-level scope at .\\In[20]:2"
     ]
    }
   ],
   "source": [
    "figure()\n",
    "# partition data into groups by their job title, plot histograms separately on top of each other\n",
    "for df_s in groupby(df_salaries, :job_title)\n",
    "    job_in_this_group = df_s[1, :job_title]\n",
    "    # label will go into legend later\n",
    "    # alpha is transparency\n",
    "    hist(df_s[:, :salary], label=job_in_this_group, alpha=0.5)\n",
    "end\n",
    "legend()\n",
    "xlabel(\"9-month salary, \\$\")\n",
    "ylabel(\"# professors\")\n",
    "title(\"salary of OSU profs\")"
   ]
  },
  {
   "cell_type": "markdown",
   "metadata": {},
   "source": [
    "an awkward attribute of the above graph is that the bins are different for each histogram. let's specify the bins ourselves."
   ]
  },
  {
   "cell_type": "code",
   "execution_count": 21,
   "metadata": {},
   "outputs": [
    {
     "ename": "UndefVarError",
     "evalue": "UndefVarError: df_salaries not defined",
     "output_type": "error",
     "traceback": [
      "UndefVarError: df_salaries not defined",
      "",
      "Stacktrace:",
      " [1] top-level scope at In[21]:1"
     ]
    }
   ],
   "source": [
    "bins = range(minimum(df_salaries[:, :salary]), stop=maximum(df_salaries[:, :salary]), length=20)"
   ]
  },
  {
   "cell_type": "code",
   "execution_count": 22,
   "metadata": {},
   "outputs": [
    {
     "ename": "UndefVarError",
     "evalue": "UndefVarError: df_salaries not defined",
     "output_type": "error",
     "traceback": [
      "UndefVarError: df_salaries not defined",
      "",
      "Stacktrace:",
      " [1] top-level scope at .\\In[22]:2"
     ]
    }
   ],
   "source": [
    "figure()\n",
    "# partition data into groups by their job title, plot histograms separately on top of each other\n",
    "for df_s in groupby(df_salaries, :job_title)\n",
    "    job_in_this_group = df_s[1, :job_title]\n",
    "    # pass bins instead of letting matplotlib choose for us\n",
    "    hist(df_s[:, :salary], label=job_in_this_group, alpha=0.5, bins=bins)\n",
    "end\n",
    "legend()\n",
    "xlabel(\"9-month salary, \\$\")\n",
    "ylabel(\"# professors\")\n",
    "title(\"salary of OSU profs\")"
   ]
  },
  {
   "cell_type": "markdown",
   "metadata": {},
   "source": [
    "# line plots: Xe/Kr gas adsorption in a porous material, noria\n",
    "[source](https://onlinelibrary.wiley.com/doi/pdf/10.1002/chem.201602131)\n",
    "\n",
    "*goal*: visualize the amount of xenon and krypton (mmol/g) adsorbed in the material as a function of [pure-gas] pressure (bar). there will be two curves here, one for xenon, one for krypton"
   ]
  },
  {
   "cell_type": "code",
   "execution_count": 23,
   "metadata": {
    "scrolled": true
   },
   "outputs": [
    {
     "ename": "ArgumentError",
     "evalue": "ArgumentError: \"gas_adsorption\\Xe.csv\" is not a valid file",
     "output_type": "error",
     "traceback": [
      "ArgumentError: \"gas_adsorption\\Xe.csv\" is not a valid file",
      "",
      "Stacktrace:",
      " [1] checkvalidsource at C:\\Users\\Owner\\.julia\\packages\\CSV\\t5ipc\\src\\CSV.jl:95 [inlined]",
      " [2] file(::String, ::Int64, ::Bool, ::Int64, ::Nothing, ::Int64, ::Int64, ::Bool, ::Nothing, ::Bool, ::Bool, ::Array{String,1}, ::String, ::Nothing, ::Bool, ::Char, ::Nothing, ::Nothing, ::Char, ::Nothing, ::UInt8, ::Nothing, ::Nothing, ::Nothing, ::Nothing, ::Dict{Int8,Int8}, ::Bool, ::Float64, ::Bool, ::Bool, ::Nothing, ::Bool, ::Bool, ::Nothing) at C:\\Users\\Owner\\.julia\\packages\\CSV\\t5ipc\\src\\CSV.jl:247",
      " [3] Type at C:\\Users\\Owner\\.julia\\packages\\CSV\\t5ipc\\src\\CSV.jl:197 [inlined]",
      " [4] #read#61 at C:\\Users\\Owner\\.julia\\packages\\CSV\\t5ipc\\src\\CSV.jl:830 [inlined]",
      " [5] #read at .\\none:0 [inlined]",
      " [6] top-level scope at .\\In[23]:3"
     ]
    }
   ],
   "source": [
    "df_gas = Dict{String, DataFrame}()\n",
    "for gas in [\"Xe\", \"Kr\"] \n",
    "    df_gas[gas] = CSV.read(joinpath(\"gas_adsorption\", \"$gas.csv\"), copycols=true)\n",
    "end\n",
    "first(df_gas[\"Xe\"], 10)"
   ]
  },
  {
   "cell_type": "markdown",
   "metadata": {},
   "source": [
    "unfortunately column names are complicated and must be casted as `Symbol`s from `String`s. i.e. there is not a way to write the first column as `:pressure (torr)`."
   ]
  },
  {
   "cell_type": "code",
   "execution_count": 24,
   "metadata": {},
   "outputs": [
    {
     "ename": "KeyError",
     "evalue": "KeyError: key \"Xe\" not found",
     "output_type": "error",
     "traceback": [
      "KeyError: key \"Xe\" not found",
      "",
      "Stacktrace:",
      " [1] getindex(::Dict{String,DataFrame}, ::String) at .\\dict.jl:477",
      " [2] top-level scope at In[24]:1"
     ]
    }
   ],
   "source": [
    "names(df_gas[\"Xe\"])"
   ]
  },
  {
   "cell_type": "code",
   "execution_count": 25,
   "metadata": {},
   "outputs": [
    {
     "ename": "KeyError",
     "evalue": "KeyError: key \"Xe\" not found",
     "output_type": "error",
     "traceback": [
      "KeyError: key \"Xe\" not found",
      "",
      "Stacktrace:",
      " [1] getindex(::Dict{String,DataFrame}, ::String) at .\\dict.jl:477",
      " [2] top-level scope at .\\In[25]:5"
     ]
    }
   ],
   "source": [
    "figure()\n",
    "xlabel(\"pressure [torr]\")\n",
    "ylabel(\"gas uptake [mmol/g]\")\n",
    "for gas in [\"Xe\", \"Kr\"]\n",
    "    plot(df_gas[gas][:, Symbol(\"pressure (torr)\")], df_gas[gas][:, Symbol(\"gas uptake (mmol/g)\")],\n",
    "        linewidth=3, marker=\"o\", label=gas)\n",
    "end\n",
    "legend()\n",
    "title(\"gas adsorption in Noria\")"
   ]
  },
  {
   "cell_type": "markdown",
   "metadata": {},
   "source": [
    "## scatter plots: GDP vs life expectancy\n",
    "\n",
    "*goal*: scatter plot life expectancy against income per person, where each point is a country. use the data from the year 2011."
   ]
  },
  {
   "cell_type": "code",
   "execution_count": 26,
   "metadata": {},
   "outputs": [
    {
     "ename": "ArgumentError",
     "evalue": "ArgumentError: \"gapminder\\GDP_per_capita.csv\" is not a valid file",
     "output_type": "error",
     "traceback": [
      "ArgumentError: \"gapminder\\GDP_per_capita.csv\" is not a valid file",
      "",
      "Stacktrace:",
      " [1] checkvalidsource at C:\\Users\\Owner\\.julia\\packages\\CSV\\t5ipc\\src\\CSV.jl:95 [inlined]",
      " [2] file(::String, ::Int64, ::Bool, ::Int64, ::Nothing, ::Int64, ::Int64, ::Bool, ::Nothing, ::Bool, ::Bool, ::Array{String,1}, ::String, ::Nothing, ::Bool, ::Char, ::Nothing, ::Nothing, ::Char, ::Nothing, ::UInt8, ::Nothing, ::Nothing, ::Nothing, ::Nothing, ::Dict{Int8,Int8}, ::Bool, ::Float64, ::Bool, ::Bool, ::Nothing, ::Bool, ::Bool, ::Nothing) at C:\\Users\\Owner\\.julia\\packages\\CSV\\t5ipc\\src\\CSV.jl:247",
      " [3] Type at C:\\Users\\Owner\\.julia\\packages\\CSV\\t5ipc\\src\\CSV.jl:197 [inlined]",
      " [4] #read#61 at C:\\Users\\Owner\\.julia\\packages\\CSV\\t5ipc\\src\\CSV.jl:830 [inlined]",
      " [5] read(::String) at C:\\Users\\Owner\\.julia\\packages\\CSV\\t5ipc\\src\\CSV.jl:830",
      " [6] top-level scope at In[26]:1"
     ]
    }
   ],
   "source": [
    "df_income = CSV.read(joinpath(\"gapminder\", \"GDP_per_capita.csv\"))\n",
    "first(df_income, 10)"
   ]
  },
  {
   "cell_type": "code",
   "execution_count": 27,
   "metadata": {},
   "outputs": [
    {
     "ename": "ArgumentError",
     "evalue": "ArgumentError: \"gapminder\\life_expectancy.csv\" is not a valid file",
     "output_type": "error",
     "traceback": [
      "ArgumentError: \"gapminder\\life_expectancy.csv\" is not a valid file",
      "",
      "Stacktrace:",
      " [1] checkvalidsource at C:\\Users\\Owner\\.julia\\packages\\CSV\\t5ipc\\src\\CSV.jl:95 [inlined]",
      " [2] file(::String, ::Int64, ::Bool, ::Int64, ::Nothing, ::Int64, ::Int64, ::Bool, ::Nothing, ::Bool, ::Bool, ::Array{String,1}, ::String, ::Nothing, ::Bool, ::Char, ::Nothing, ::Nothing, ::Char, ::Nothing, ::UInt8, ::Nothing, ::Nothing, ::Nothing, ::Nothing, ::Dict{Int8,Int8}, ::Bool, ::Float64, ::Bool, ::Bool, ::Nothing, ::Bool, ::Bool, ::Nothing) at C:\\Users\\Owner\\.julia\\packages\\CSV\\t5ipc\\src\\CSV.jl:247",
      " [3] Type at C:\\Users\\Owner\\.julia\\packages\\CSV\\t5ipc\\src\\CSV.jl:197 [inlined]",
      " [4] #read#61 at C:\\Users\\Owner\\.julia\\packages\\CSV\\t5ipc\\src\\CSV.jl:830 [inlined]",
      " [5] read(::String) at C:\\Users\\Owner\\.julia\\packages\\CSV\\t5ipc\\src\\CSV.jl:830",
      " [6] top-level scope at In[27]:1"
     ]
    }
   ],
   "source": [
    "df_life = CSV.read(joinpath(\"gapminder\", \"life_expectancy.csv\"))\n",
    "first(df_life, 10)"
   ]
  },
  {
   "cell_type": "markdown",
   "metadata": {},
   "source": [
    "*problem 1*: the rows are not in the same order, so it's not as easy as:\n",
    "`plot(df_income[:, :2010], df_life[:, :2010]`\n",
    "\n",
    "so, we need to `join` the two `DataFrames`. we choose an `inner` join because, for a country to appear on our scatter plot, we need both income and life expectancy for that country. we use the `:country` column as the key for joining.\n",
    "\n",
    "*problem 2*: in both `DataFrame`s, `df_income` and `df_life`, the relevant column name is `:2010`. there is no way to join the two dataframes with these duplicate column names. so we rename these columns of interest so they are unique to the two `DataFrame`s"
   ]
  },
  {
   "cell_type": "code",
   "execution_count": 28,
   "metadata": {},
   "outputs": [
    {
     "ename": "UndefVarError",
     "evalue": "UndefVarError: df_life not defined",
     "output_type": "error",
     "traceback": [
      "UndefVarError: df_life not defined",
      "",
      "Stacktrace:",
      " [1] top-level scope at In[28]:1"
     ]
    }
   ],
   "source": [
    "rename!(df_life, Symbol(\"2010\") => :life_expectancy);\n",
    "rename!(df_income, Symbol(\"2010\") => :income);"
   ]
  },
  {
   "cell_type": "code",
   "execution_count": 29,
   "metadata": {},
   "outputs": [
    {
     "ename": "UndefVarError",
     "evalue": "UndefVarError: df_life not defined",
     "output_type": "error",
     "traceback": [
      "UndefVarError: df_life not defined",
      "",
      "Stacktrace:",
      " [1] top-level scope at In[29]:1"
     ]
    }
   ],
   "source": [
    "df_gap = join(df_life[:, [:country, :life_expectancy]], \n",
    "    df_income[:, [:country, :income]], \n",
    "    on=:country, kind=:inner)\n",
    "dropmissing!(df_gap)\n",
    "first(df_gap, 10)"
   ]
  },
  {
   "cell_type": "code",
   "execution_count": 30,
   "metadata": {},
   "outputs": [
    {
     "ename": "UndefVarError",
     "evalue": "UndefVarError: df_gap not defined",
     "output_type": "error",
     "traceback": [
      "UndefVarError: df_gap not defined",
      "",
      "Stacktrace:",
      " [1] top-level scope at In[30]:4"
     ]
    }
   ],
   "source": [
    "figure()\n",
    "xlabel(\"income per person [USD, \\$]\")\n",
    "ylabel(\"life expectancy [years]\")\n",
    "# scatter plot, pass x, then y\n",
    "scatter(df_gap[:, :income], df_gap[:, :life_expectancy])\n",
    "\n",
    "xscale(\"log\")"
   ]
  }
 ],
 "metadata": {
  "@webio": {
   "lastCommId": null,
   "lastKernelId": null
  },
  "kernelspec": {
   "display_name": "Julia 1.2.0",
   "language": "julia",
   "name": "julia-1.2"
  },
  "language_info": {
   "file_extension": ".jl",
   "mimetype": "application/julia",
   "name": "julia",
   "version": "1.2.0"
  }
 },
 "nbformat": 4,
 "nbformat_minor": 2
}
