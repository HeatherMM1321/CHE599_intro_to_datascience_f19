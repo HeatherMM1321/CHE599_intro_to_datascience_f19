{
 "cells": [
  {
   "cell_type": "markdown",
   "metadata": {},
   "source": [
    "# estimation and confidence intervals\n",
    "\n",
    "> An important part of data science consists of making conclusions based on the data in random samples. [source](https://www.inferentialthinking.com/chapters/10/Sampling_and_Empirical_Distributions.html)"
   ]
  },
  {
   "cell_type": "code",
   "execution_count": 1,
   "metadata": {},
   "outputs": [
    {
     "name": "stderr",
     "output_type": "stream",
     "text": [
      "┌ Info: Recompiling stale cache file C:\\Users\\Owner\\.julia\\compiled\\v1.2\\StatsBase\\EZjIG.ji for StatsBase [2913bbd2-ae8a-5f71-8c99-4fb6c76f3a91]\n",
      "└ @ Base loading.jl:1240\n"
     ]
    },
    {
     "data": {
      "text/plain": [
       "16"
      ]
     },
     "execution_count": 1,
     "metadata": {},
     "output_type": "execute_result"
    }
   ],
   "source": [
    "using DataFrames\n",
    "using CSV\n",
    "using StatsBase\n",
    "using PyPlot\n",
    "using Statistics # for mean, percentile\n",
    "\n",
    "# (optional) check out all of the styles! https://matplotlib.org/3.1.1/gallery/style_sheets/style_sheets_reference.html\n",
    "PyPlot.matplotlib.style.use(\"Solarize_Light2\")\n",
    "\n",
    "# (optional)change settings for all plots at once, e.g. font size\n",
    "rcParams = PyPlot.PyDict(PyPlot.matplotlib.\"rcParams\")\n",
    "rcParams[\"font.size\"] = 16"
   ]
  },
  {
   "cell_type": "markdown",
   "metadata": {},
   "source": [
    "## a random sample of Airbnb's\n",
    "\n",
    "> with high probability, the empirical distribution of a large random sample will resemble the distribution of the population from which the sample was drawn. [source](https://www.inferentialthinking.com/chapters/10/3/Empirical_Distribution_of_a_Statistic.html)\n",
    "\n",
    "\n",
    "**empirical distribution**: the distribution of observed data, often visualized by a histogram\n",
    "\n",
    "> A statistic (note the singular!) is any number computed using the data in a sample. The sample median, therefore, is a statistic. [source](https://www.inferentialthinking.com/chapters/10/3/Empirical_Distribution_of_a_Statistic.html#Statistic)\n",
    "\n",
    "`listings.csv` contains data on the *entire population* of Airbnb's in Seattle [[source](https://www.kaggle.com/airbnb/seattle#listings.csv)]. each row represents an Airbnb rental, and the `:price` column contains the price of the Airbnb."
   ]
  },
  {
   "cell_type": "code",
   "execution_count": 4,
   "metadata": {
    "scrolled": false
   },
   "outputs": [
    {
     "data": {
      "text/html": [
       "<table class=\"data-frame\"><thead><tr><th></th><th>id</th><th>listing_url</th><th>scrape_id</th><th>last_scraped</th><th>name</th></tr><tr><th></th><th>Int64</th><th>String</th><th>Int64</th><th>Dates…</th><th>String</th></tr></thead><tbody><p>6 rows × 92 columns (omitted printing of 87 columns)</p><tr><th>1</th><td>241032</td><td>https://www.airbnb.com/rooms/241032</td><td>20160104002432</td><td>2016-01-04</td><td>Stylish Queen Anne Apartment</td></tr><tr><th>2</th><td>953595</td><td>https://www.airbnb.com/rooms/953595</td><td>20160104002432</td><td>2016-01-04</td><td>Bright &amp; Airy Queen Anne Apartment</td></tr><tr><th>3</th><td>3308979</td><td>https://www.airbnb.com/rooms/3308979</td><td>20160104002432</td><td>2016-01-04</td><td>New Modern House-Amazing water view</td></tr><tr><th>4</th><td>7421966</td><td>https://www.airbnb.com/rooms/7421966</td><td>20160104002432</td><td>2016-01-04</td><td>Queen Anne Chateau</td></tr><tr><th>5</th><td>278830</td><td>https://www.airbnb.com/rooms/278830</td><td>20160104002432</td><td>2016-01-04</td><td>Charming craftsman 3 bdm house</td></tr><tr><th>6</th><td>5956968</td><td>https://www.airbnb.com/rooms/5956968</td><td>20160104002432</td><td>2016-01-04</td><td>Private unit in a 1920s mansion</td></tr></tbody></table>"
      ],
      "text/latex": [
       "\\begin{tabular}{r|cccccc}\n",
       "\t& id & listing\\_url & scrape\\_id & last\\_scraped & name & \\\\\n",
       "\t\\hline\n",
       "\t& Int64 & String & Int64 & Dates… & String & \\\\\n",
       "\t\\hline\n",
       "\t1 & 241032 & https://www.airbnb.com/rooms/241032 & 20160104002432 & 2016-01-04 & Stylish Queen Anne Apartment & $\\dots$ \\\\\n",
       "\t2 & 953595 & https://www.airbnb.com/rooms/953595 & 20160104002432 & 2016-01-04 & Bright \\& Airy Queen Anne Apartment & $\\dots$ \\\\\n",
       "\t3 & 3308979 & https://www.airbnb.com/rooms/3308979 & 20160104002432 & 2016-01-04 & New Modern House-Amazing water view & $\\dots$ \\\\\n",
       "\t4 & 7421966 & https://www.airbnb.com/rooms/7421966 & 20160104002432 & 2016-01-04 & Queen Anne Chateau & $\\dots$ \\\\\n",
       "\t5 & 278830 & https://www.airbnb.com/rooms/278830 & 20160104002432 & 2016-01-04 & Charming craftsman 3 bdm house & $\\dots$ \\\\\n",
       "\t6 & 5956968 & https://www.airbnb.com/rooms/5956968 & 20160104002432 & 2016-01-04 & Private unit in a 1920s mansion & $\\dots$ \\\\\n",
       "\\end{tabular}\n"
      ],
      "text/plain": [
       "6×92 DataFrame. Omitted printing of 89 columns\n",
       "│ Row │ id      │ listing_url                          │ scrape_id      │\n",
       "│     │ \u001b[90mInt64\u001b[39m   │ \u001b[90mString\u001b[39m                               │ \u001b[90mInt64\u001b[39m          │\n",
       "├─────┼─────────┼──────────────────────────────────────┼────────────────┤\n",
       "│ 1   │ 241032  │ https://www.airbnb.com/rooms/241032  │ 20160104002432 │\n",
       "│ 2   │ 953595  │ https://www.airbnb.com/rooms/953595  │ 20160104002432 │\n",
       "│ 3   │ 3308979 │ https://www.airbnb.com/rooms/3308979 │ 20160104002432 │\n",
       "│ 4   │ 7421966 │ https://www.airbnb.com/rooms/7421966 │ 20160104002432 │\n",
       "│ 5   │ 278830  │ https://www.airbnb.com/rooms/278830  │ 20160104002432 │\n",
       "│ 6   │ 5956968 │ https://www.airbnb.com/rooms/5956968 │ 20160104002432 │"
      ]
     },
     "execution_count": 4,
     "metadata": {},
     "output_type": "execute_result"
    }
   ],
   "source": [
    "df = CSV.read(\"listings.csv\", copycols=true)\n",
    "first(df, 6)"
   ]
  },
  {
   "cell_type": "markdown",
   "metadata": {},
   "source": [
    "how many Airbnb's are listed in Seattle?"
   ]
  },
  {
   "cell_type": "code",
   "execution_count": null,
   "metadata": {},
   "outputs": [],
   "source": []
  },
  {
   "cell_type": "markdown",
   "metadata": {},
   "source": [
    "look at the `:price` column. `CSV.jl` was unable to convert these to `Float64`s and instead kept them as `String`s."
   ]
  },
  {
   "cell_type": "code",
   "execution_count": null,
   "metadata": {
    "scrolled": false
   },
   "outputs": [],
   "source": []
  },
  {
   "cell_type": "markdown",
   "metadata": {},
   "source": [
    "if we try to `parse` them as `Float64`'s, we see the problem: there are dollar signs in the prices!"
   ]
  },
  {
   "cell_type": "code",
   "execution_count": null,
   "metadata": {},
   "outputs": [],
   "source": []
  },
  {
   "cell_type": "markdown",
   "metadata": {},
   "source": [
    "now let's remove the dollar signs from the strings using the `replace` command. "
   ]
  },
  {
   "cell_type": "code",
   "execution_count": null,
   "metadata": {},
   "outputs": [],
   "source": []
  },
  {
   "cell_type": "code",
   "execution_count": null,
   "metadata": {},
   "outputs": [],
   "source": []
  },
  {
   "cell_type": "markdown",
   "metadata": {},
   "source": [
    "great, dollar signs are successfully removed. now let's convert to `Float64`s so we can look at the mean price."
   ]
  },
  {
   "cell_type": "code",
   "execution_count": null,
   "metadata": {},
   "outputs": [],
   "source": []
  },
  {
   "cell_type": "markdown",
   "metadata": {},
   "source": [
    "still not there, the commas are causing trouble."
   ]
  },
  {
   "cell_type": "code",
   "execution_count": null,
   "metadata": {},
   "outputs": [],
   "source": []
  },
  {
   "cell_type": "markdown",
   "metadata": {},
   "source": [
    "now that the `:price` column is properly converted to `Float64`s, we can compute the mean price of an Airbnb in Seattle. note this is the population mean since this list is of *all* Airbnbs in Seattle, obtained via scraping the Airbnb website at a given time."
   ]
  },
  {
   "cell_type": "code",
   "execution_count": null,
   "metadata": {},
   "outputs": [],
   "source": []
  },
  {
   "cell_type": "markdown",
   "metadata": {},
   "source": [
    "plot the distribution of the Airbnb prices in Seattle."
   ]
  },
  {
   "cell_type": "code",
   "execution_count": null,
   "metadata": {},
   "outputs": [],
   "source": []
  },
  {
   "cell_type": "markdown",
   "metadata": {},
   "source": [
    "now let's take a *random sample* of the population of Airbnb's in Seattle and look at the *empirical distribution* of price based on this random sample. in practice, one takes a *random sample* from a population because taking a measurement on the *entire* population is usually prohibitively expensive and time-consuming."
   ]
  },
  {
   "cell_type": "code",
   "execution_count": null,
   "metadata": {},
   "outputs": [],
   "source": []
  },
  {
   "cell_type": "code",
   "execution_count": null,
   "metadata": {},
   "outputs": [],
   "source": []
  },
  {
   "cell_type": "markdown",
   "metadata": {},
   "source": [
    "indeed (most likely), the empirical histogram (from the random sample) resembles the distribution from the entire population. this is what justifies making conclusions about a *population* from a *random sample* of it, i.e. this is what justifies *statistical inference*! of course, (i) the empirical distribution from the random sample is more likely to closely resemble the distribution of the population if the random sample is large and (ii) there is an uncertainty associated with conclusions based on the random sample, since there is a possibility that the empirical distribution of the random sample differs significantly from the distribution of the population--especially if the sample size is small."
   ]
  },
  {
   "cell_type": "markdown",
   "metadata": {},
   "source": [
    "## estimation: point estimates, interval estimates and confidence intervals via bootstrap\n",
    "\n",
    "we aim to use the data from a random sample to *estimate* an unknown parameter of a population and quantify our uncertainty. here, we'll estimate the mean price of the Airbnb's in Seattle from the random sample we took and obtain a confidence interval via a powerful technique called bootstrapping [alternative resource here](https://www.inferentialthinking.com/chapters/13/2/Bootstrap.html). for our own academic satisfaction, we can compare to the actual mean price of the population that we computed above, `mean_airbnb_price`. but, consider, in real life, we do not know the actual mean of the population with which to compare.\n",
    "\n",
    "first, let's compute the estimated mean Airbnb price from our random sample."
   ]
  },
  {
   "cell_type": "code",
   "execution_count": null,
   "metadata": {},
   "outputs": [],
   "source": []
  },
  {
   "cell_type": "markdown",
   "metadata": {},
   "source": [
    "the sample mean differs from the population mean, but is close!\n",
    "\n",
    "**important**: if, in the random sampling, we had chosen a different set of Airbnb's by chance, our estimated mean would be different.\n",
    "\n",
    "so to quantify uncertainty in our current estimate of the mean price from our sample, we should address the question of how the estimated mean could differ from random sample to random sample.\n",
    "\n",
    "we can approximate the empirical distribution of the mean Seattle Airbnb price among possible random samples of this size via **bootstrapping**, a powerful method based on resampling. we can think of bootstrapping as approximately simulating the process of collecting a random sample from the population.\n",
    "\n",
    "the main idea is that we can **simulate a random sample of the population by collecting a random sample from the sample**. \n",
    "* this random sample of the sample must be the same size as the sample, since the number of samples affects the estimate\n",
    "* this sampling must be done with replacement (otherwise, we'd get the sample back)\n",
    "\n",
    "essentially, we are treating the random sample as the population and sampling from it. this is justified because the empirical distribution of the sample is likely to resemble the distribution of the population.\n",
    "\n",
    "let's take `nb_sims` bootstrap samples, compute the mean of each bootstrap sample, and keep track of it in an array so that we can visualize its distribution."
   ]
  },
  {
   "cell_type": "code",
   "execution_count": null,
   "metadata": {},
   "outputs": [],
   "source": []
  },
  {
   "cell_type": "markdown",
   "metadata": {},
   "source": [
    "the above is the **bootstrap empirical distribution of the sample mean** price of Airbnb's in Seattle. its spread quantifies the uncertainty in our estimated mean Airbnb price in Seattle. a wide spread implies that the mean Airbnb price varies dramatically from sample to sample (owing, e.g. to small sample size). \n",
    "\n",
    "for reference, we plotted the population mean as the red line, which in practice we wouldn't know, but have the convenience of knowing here since we took this random sample from the population in the first part of our notebook. satisfactorily, the bootstrap empirical distribution exhibits significant density at the true population mean.\n",
    "\n",
    "instead of reporting our **point estimate** of the mean price, `estimated_mean_airbnb_price`, we can report an **interval estimate** of the mean price defined to be the interval of Airbnb prices such that e.g., 95% of bootstrap sample means fall in this interval. more specifically, 2.5% of bootstrap sample means fall to the left of the interval, and 2.5% of bootstrap sample means fall to the right of the interval. we obtain the interval estimate by computing the 2.5% percentile and 97.5% percentile of the list of bootstrap sample means, `bootstrap_mean_prices`."
   ]
  },
  {
   "cell_type": "code",
   "execution_count": null,
   "metadata": {},
   "outputs": [],
   "source": []
  },
  {
   "cell_type": "markdown",
   "metadata": {},
   "source": [
    "instead of providing a point estimate, the interval estimate indicates a range of Airbnb prices that reflect our uncertainty owing to random sampling. drawing a random sample of this size from the population and obtaining a mean outside this interval is unlikely.\n",
    "\n",
    "let's plot the interval estimate on the bootstrap empirical distribution of the sample mean. satisfactorily, we see that this interval estimate includes the mean Airbnb price of the population."
   ]
  },
  {
   "cell_type": "code",
   "execution_count": null,
   "metadata": {},
   "outputs": [],
   "source": []
  },
  {
   "cell_type": "markdown",
   "metadata": {},
   "source": [
    "precisely, we can say that, if we were to randomly sample `nb_sample` Airbnb's over and over and compute the mean price from the random sample, we estimate that, 97.5% of the time, the mean price will be higher than `low_price_estimate` and, 97.5% of the time, the mean price will be lower than `high_price_estimate`. this gives us an idea of how much our estimate of the mean could vary from sample to sample. We call this the 95% **confidence interval**. as a warning, bootstrap does not work very well when the sample size is small (e.g. less than 15) since then the empirical sample distribution is not likely to resemble the population distribution."
   ]
  }
 ],
 "metadata": {
  "@webio": {
   "lastCommId": "5166d48d660c434292e6ae89c2dcafda",
   "lastKernelId": "fb88f81e-428f-4873-8c09-2a675da5da9b"
  },
  "kernelspec": {
   "display_name": "Julia 1.2.0",
   "language": "julia",
   "name": "julia-1.2"
  },
  "language_info": {
   "file_extension": ".jl",
   "mimetype": "application/julia",
   "name": "julia",
   "version": "1.2.0"
  }
 },
 "nbformat": 4,
 "nbformat_minor": 2
}
