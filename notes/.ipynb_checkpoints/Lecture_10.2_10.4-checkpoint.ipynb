{
 "cells": [
  {
   "cell_type": "markdown",
   "metadata": {},
   "source": [
    "# CHE 599 Lecture notes from 10-2-19 and 10-4-19"
   ]
  },
  {
   "cell_type": "markdown",
   "metadata": {},
   "source": [
    "\"]\" # in terminal to add a pkg "
   ]
  },
  {
   "cell_type": "code",
   "execution_count": 1,
   "metadata": {},
   "outputs": [
    {
     "data": {
      "text/plain": [
       "0.8694792438927115"
      ]
     },
     "execution_count": 1,
     "metadata": {},
     "output_type": "execute_result"
    }
   ],
   "source": [
    "rand() #random Float64 in [0,1)\n"
   ]
  },
  {
   "cell_type": "code",
   "execution_count": 2,
   "metadata": {},
   "outputs": [
    {
     "data": {
      "text/plain": [
       "false"
      ]
     },
     "execution_count": 2,
     "metadata": {},
     "output_type": "execute_result"
    }
   ],
   "source": [
    "collect(1:2)\n",
    "landed_on_tails = rand([1:2]) == 1\n",
    "\n"
   ]
  },
  {
   "cell_type": "code",
   "execution_count": 3,
   "metadata": {},
   "outputs": [
    {
     "data": {
      "text/plain": [
       "true"
      ]
     },
     "execution_count": 3,
     "metadata": {},
     "output_type": "execute_result"
    }
   ],
   "source": [
    "landed_on_tailes = rand() < 0.5"
   ]
  },
  {
   "cell_type": "markdown",
   "metadata": {},
   "source": [
    "a Gaussian Number"
   ]
  },
  {
   "cell_type": "code",
   "execution_count": 4,
   "metadata": {},
   "outputs": [
    {
     "data": {
      "text/plain": [
       "0.290986384805582"
      ]
     },
     "execution_count": 4,
     "metadata": {},
     "output_type": "execute_result"
    }
   ],
   "source": [
    "randn() # n for normal! "
   ]
  },
  {
   "cell_type": "code",
   "execution_count": 5,
   "metadata": {},
   "outputs": [
    {
     "name": "stdout",
     "output_type": "stream",
     "text": [
      "search: \u001b[0m\u001b[1mr\u001b[22m\u001b[0m\u001b[1ma\u001b[22m\u001b[0m\u001b[1mn\u001b[22m\u001b[0m\u001b[1md\u001b[22m\u001b[0m\u001b[1mn\u001b[22m \u001b[0m\u001b[1mr\u001b[22m\u001b[0m\u001b[1ma\u001b[22m\u001b[0m\u001b[1mn\u001b[22m\u001b[0m\u001b[1md\u001b[22m t\u001b[0m\u001b[1mr\u001b[22m\u001b[0m\u001b[1ma\u001b[22m\u001b[0m\u001b[1mn\u001b[22msco\u001b[0m\u001b[1md\u001b[22me mac\u001b[0m\u001b[1mr\u001b[22moexp\u001b[0m\u001b[1ma\u001b[22m\u001b[0m\u001b[1mn\u001b[22m\u001b[0m\u001b[1md\u001b[22m @mac\u001b[0m\u001b[1mr\u001b[22moexp\u001b[0m\u001b[1ma\u001b[22m\u001b[0m\u001b[1mn\u001b[22m\u001b[0m\u001b[1md\u001b[22m1 @mac\u001b[0m\u001b[1mr\u001b[22moexp\u001b[0m\u001b[1ma\u001b[22m\u001b[0m\u001b[1mn\u001b[22m\u001b[0m\u001b[1md\u001b[22m\n",
      "\n"
     ]
    },
    {
     "data": {
      "text/latex": [
       "\\begin{verbatim}\n",
       "randn([rng=GLOBAL_RNG], [T=Float64], [dims...])\n",
       "\\end{verbatim}\n",
       "Generate a normally-distributed random number of type \\texttt{T} with mean 0 and standard deviation 1. Optionally generate an array of normally-distributed random numbers. The \\texttt{Base} module currently provides an implementation for the types \\href{@ref}{\\texttt{Float16}}, \\href{@ref}{\\texttt{Float32}}, and \\href{@ref}{\\texttt{Float64}} (the default), and their \\href{@ref}{\\texttt{Complex}} counterparts. When the type argument is complex, the values are drawn from the circularly symmetric complex normal distribution.\n",
       "\n",
       "\\section{Examples}\n",
       "\\begin{verbatim}\n",
       "julia> using Random\n",
       "\n",
       "julia> rng = MersenneTwister(1234);\n",
       "\n",
       "julia> randn(rng, ComplexF64)\n",
       "0.6133070881429037 - 0.6376291670853887im\n",
       "\n",
       "julia> randn(rng, ComplexF32, (2, 3))\n",
       "2×3 Array{Complex{Float32},2}:\n",
       " -0.349649-0.638457im  0.376756-0.192146im  -0.396334-0.0136413im\n",
       "  0.611224+1.56403im   0.355204-0.365563im  0.0905552+1.31012im\n",
       "\\end{verbatim}\n"
      ],
      "text/markdown": [
       "```\n",
       "randn([rng=GLOBAL_RNG], [T=Float64], [dims...])\n",
       "```\n",
       "\n",
       "Generate a normally-distributed random number of type `T` with mean 0 and standard deviation 1. Optionally generate an array of normally-distributed random numbers. The `Base` module currently provides an implementation for the types [`Float16`](@ref), [`Float32`](@ref), and [`Float64`](@ref) (the default), and their [`Complex`](@ref) counterparts. When the type argument is complex, the values are drawn from the circularly symmetric complex normal distribution.\n",
       "\n",
       "# Examples\n",
       "\n",
       "```jldoctest\n",
       "julia> using Random\n",
       "\n",
       "julia> rng = MersenneTwister(1234);\n",
       "\n",
       "julia> randn(rng, ComplexF64)\n",
       "0.6133070881429037 - 0.6376291670853887im\n",
       "\n",
       "julia> randn(rng, ComplexF32, (2, 3))\n",
       "2×3 Array{Complex{Float32},2}:\n",
       " -0.349649-0.638457im  0.376756-0.192146im  -0.396334-0.0136413im\n",
       "  0.611224+1.56403im   0.355204-0.365563im  0.0905552+1.31012im\n",
       "```\n"
      ],
      "text/plain": [
       "\u001b[36m  randn([rng=GLOBAL_RNG], [T=Float64], [dims...])\u001b[39m\n",
       "\n",
       "  Generate a normally-distributed random number of type \u001b[36mT\u001b[39m with mean 0 and\n",
       "  standard deviation 1. Optionally generate an array of normally-distributed\n",
       "  random numbers. The \u001b[36mBase\u001b[39m module currently provides an implementation for the\n",
       "  types \u001b[36mFloat16\u001b[39m, \u001b[36mFloat32\u001b[39m, and \u001b[36mFloat64\u001b[39m (the default), and their \u001b[36mComplex\u001b[39m\n",
       "  counterparts. When the type argument is complex, the values are drawn from\n",
       "  the circularly symmetric complex normal distribution.\n",
       "\n",
       "\u001b[1m  Examples\u001b[22m\n",
       "\u001b[1m  ≡≡≡≡≡≡≡≡≡≡\u001b[22m\n",
       "\n",
       "\u001b[36m  julia> using Random\u001b[39m\n",
       "\u001b[36m  \u001b[39m\n",
       "\u001b[36m  julia> rng = MersenneTwister(1234);\u001b[39m\n",
       "\u001b[36m  \u001b[39m\n",
       "\u001b[36m  julia> randn(rng, ComplexF64)\u001b[39m\n",
       "\u001b[36m  0.6133070881429037 - 0.6376291670853887im\u001b[39m\n",
       "\u001b[36m  \u001b[39m\n",
       "\u001b[36m  julia> randn(rng, ComplexF32, (2, 3))\u001b[39m\n",
       "\u001b[36m  2×3 Array{Complex{Float32},2}:\u001b[39m\n",
       "\u001b[36m   -0.349649-0.638457im  0.376756-0.192146im  -0.396334-0.0136413im\u001b[39m\n",
       "\u001b[36m    0.611224+1.56403im   0.355204-0.365563im  0.0905552+1.31012im\u001b[39m"
      ]
     },
     "execution_count": 5,
     "metadata": {},
     "output_type": "execute_result"
    }
   ],
   "source": [
    "?randn"
   ]
  },
  {
   "cell_type": "code",
   "execution_count": 6,
   "metadata": {},
   "outputs": [
    {
     "ename": "UndefVarError",
     "evalue": "UndefVarError: σ² not defined",
     "output_type": "error",
     "traceback": [
      "UndefVarError: σ² not defined",
      "",
      "Stacktrace:",
      " [1] top-level scope at In[6]:1"
     ]
    }
   ],
   "source": [
    "σ² #\\sigma tab over  "
   ]
  },
  {
   "cell_type": "code",
   "execution_count": 7,
   "metadata": {
    "scrolled": true
   },
   "outputs": [
    {
     "data": {
      "text/plain": [
       "5-element Array{Int64,1}:\n",
       " 3\n",
       " 5\n",
       " 1\n",
       " 4\n",
       " 2"
      ]
     },
     "execution_count": 7,
     "metadata": {},
     "output_type": "execute_result"
    }
   ],
   "source": [
    "using Random\n",
    "x = [1, 2, 3, 4, 5]\n",
    "shuffle!(x)\n",
    "x "
   ]
  },
  {
   "cell_type": "markdown",
   "metadata": {},
   "source": [
    "randomly select form a population with and without replacement "
   ]
  },
  {
   "cell_type": "code",
   "execution_count": 8,
   "metadata": {
    "scrolled": true
   },
   "outputs": [
    {
     "ename": "UndefVarError",
     "evalue": "UndefVarError: Pkg not defined",
     "output_type": "error",
     "traceback": [
      "UndefVarError: Pkg not defined",
      "",
      "Stacktrace:",
      " [1] top-level scope at In[8]:1"
     ]
    }
   ],
   "source": [
    "Pkg.add(\"Statsbase\")"
   ]
  },
  {
   "cell_type": "code",
   "execution_count": 9,
   "metadata": {},
   "outputs": [
    {
     "ename": "ArgumentError",
     "evalue": "ArgumentError: Package Statsbase not found in current path:\n- Run `import Pkg; Pkg.add(\"Statsbase\")` to install the Statsbase package.\n",
     "output_type": "error",
     "traceback": [
      "ArgumentError: Package Statsbase not found in current path:\n- Run `import Pkg; Pkg.add(\"Statsbase\")` to install the Statsbase package.\n",
      "",
      "Stacktrace:",
      " [1] require(::Module, ::Symbol) at .\\loading.jl:876",
      " [2] top-level scope at In[9]:1"
     ]
    }
   ],
   "source": [
    "\n",
    "using Statsbase\n",
    "groceries = [:chicken, :carrots, :brocolli, :rice]\n",
    "sample(groceries, 2, replace = true) "
   ]
  },
  {
   "cell_type": "code",
   "execution_count": 10,
   "metadata": {},
   "outputs": [
    {
     "ename": "UndefVarError",
     "evalue": "UndefVarError: ProbabilityWeights not defined",
     "output_type": "error",
     "traceback": [
      "UndefVarError: ProbabilityWeights not defined",
      "",
      "Stacktrace:",
      " [1] top-level scope at In[10]:1"
     ]
    }
   ],
   "source": [
    "sample([\"rain\", \"cloudy\", \"sun\"], ProbabilityWeights([0.1, 0.6, 0.3]))"
   ]
  },
  {
   "cell_type": "markdown",
   "metadata": {},
   "source": [
    "# mutable vs immutabel "
   ]
  },
  {
   "cell_type": "code",
   "execution_count": 11,
   "metadata": {},
   "outputs": [
    {
     "data": {
      "text/plain": [
       "Researcher(\"OSU\", 1)"
      ]
     },
     "execution_count": 11,
     "metadata": {},
     "output_type": "execute_result"
    }
   ],
   "source": [
    "struct Researcher \n",
    "    institution::String \n",
    "    nb_pubs::Int\n",
    "end\n",
    "\n",
    "publish_a_paper!(researcher::Researcher) = researcher.nb_pubs += 1 \n",
    "\n",
    "cory = Researcher(\"OSU\", 1) "
   ]
  },
  {
   "cell_type": "code",
   "execution_count": 12,
   "metadata": {},
   "outputs": [
    {
     "ename": "ErrorException",
     "evalue": "setfield! immutable struct of type Researcher cannot be changed",
     "output_type": "error",
     "traceback": [
      "setfield! immutable struct of type Researcher cannot be changed",
      "",
      "Stacktrace:",
      " [1] setproperty! at .\\Base.jl:21 [inlined]",
      " [2] publish_a_paper!(::Researcher) at .\\In[11]:6",
      " [3] top-level scope at In[12]:1"
     ]
    }
   ],
   "source": [
    "publish_a_paper!(cory) #wont be able to be changed by default "
   ]
  },
  {
   "cell_type": "code",
   "execution_count": 13,
   "metadata": {},
   "outputs": [
    {
     "data": {
      "text/plain": [
       "MutableResearcher(\"OSU\", 2)"
      ]
     },
     "execution_count": 13,
     "metadata": {},
     "output_type": "execute_result"
    }
   ],
   "source": [
    "mutable struct MutableResearcher \n",
    "    institution::String \n",
    "    nb_pubs::Int\n",
    "end\n",
    "\n",
    "publish_a_paper!(researcher::MutableResearcher) = researcher.nb_pubs += 1 \n",
    "\n",
    "cory = MutableResearcher(\"OSU\", 1) \n",
    "\n",
    "publish_a_paper!(cory)\n",
    "cory "
   ]
  },
  {
   "cell_type": "markdown",
   "metadata": {},
   "source": [
    "# DATAFRAMES"
   ]
  },
  {
   "cell_type": "code",
   "execution_count": 47,
   "metadata": {
    "scrolled": false
   },
   "outputs": [
    {
     "name": "stdout",
     "output_type": "stream",
     "text": [
      "\u001b[32m\u001b[1m Resolving\u001b[22m\u001b[39m package versions...\n",
      "\u001b[32m\u001b[1m  Updating\u001b[22m\u001b[39m `C:\\Users\\Owner\\.julia\\environments\\v1.2\\Project.toml`\n",
      "\u001b[90m [no changes]\u001b[39m\n",
      "\u001b[32m\u001b[1m  Updating\u001b[22m\u001b[39m `C:\\Users\\Owner\\.julia\\environments\\v1.2\\Manifest.toml`\n",
      "\u001b[90m [no changes]\u001b[39m\n"
     ]
    },
    {
     "ename": "Pkg.Types.PkgError",
     "evalue": "The following package names could not be resolved:\n * DataFrame (not found in project, manifest or registry)\nPlease specify by known `name=uuid`.",
     "output_type": "error",
     "traceback": [
      "The following package names could not be resolved:\n * DataFrame (not found in project, manifest or registry)\nPlease specify by known `name=uuid`.",
      "",
      "Stacktrace:",
      " [1] pkgerror(::String) at C:\\cygwin\\home\\Administrator\\buildbot\\worker\\package_win64\\build\\usr\\share\\julia\\stdlib\\v1.2\\Pkg\\src\\Types.jl:112",
      " [2] #ensure_resolved#107(::Bool, ::typeof(Pkg.Types.ensure_resolved), ::Pkg.Types.EnvCache, ::Array{Pkg.Types.PackageSpec,1}) at C:\\cygwin\\home\\Administrator\\buildbot\\worker\\package_win64\\build\\usr\\share\\julia\\stdlib\\v1.2\\Pkg\\src\\Types.jl:910",
      " [3] #ensure_resolved at .\\none:0 [inlined]",
      " [4] #add#25(::Bool, ::Base.Iterators.Pairs{Union{},Union{},Tuple{},NamedTuple{(),Tuple{}}}, ::typeof(Pkg.API.add), ::Pkg.Types.Context, ::Array{Pkg.Types.PackageSpec,1}) at C:\\cygwin\\home\\Administrator\\buildbot\\worker\\package_win64\\build\\usr\\share\\julia\\stdlib\\v1.2\\Pkg\\src\\API.jl:94",
      " [5] add at C:\\cygwin\\home\\Administrator\\buildbot\\worker\\package_win64\\build\\usr\\share\\julia\\stdlib\\v1.2\\Pkg\\src\\API.jl:69 [inlined]",
      " [6] #add#24 at C:\\cygwin\\home\\Administrator\\buildbot\\worker\\package_win64\\build\\usr\\share\\julia\\stdlib\\v1.2\\Pkg\\src\\API.jl:67 [inlined]",
      " [7] add at C:\\cygwin\\home\\Administrator\\buildbot\\worker\\package_win64\\build\\usr\\share\\julia\\stdlib\\v1.2\\Pkg\\src\\API.jl:67 [inlined]",
      " [8] #add#21 at C:\\cygwin\\home\\Administrator\\buildbot\\worker\\package_win64\\build\\usr\\share\\julia\\stdlib\\v1.2\\Pkg\\src\\API.jl:65 [inlined]",
      " [9] add at C:\\cygwin\\home\\Administrator\\buildbot\\worker\\package_win64\\build\\usr\\share\\julia\\stdlib\\v1.2\\Pkg\\src\\API.jl:65 [inlined]",
      " [10] #add#20(::Base.Iterators.Pairs{Union{},Union{},Tuple{},NamedTuple{(),Tuple{}}}, ::typeof(Pkg.API.add), ::String) at C:\\cygwin\\home\\Administrator\\buildbot\\worker\\package_win64\\build\\usr\\share\\julia\\stdlib\\v1.2\\Pkg\\src\\API.jl:64",
      " [11] add(::String) at C:\\cygwin\\home\\Administrator\\buildbot\\worker\\package_win64\\build\\usr\\share\\julia\\stdlib\\v1.2\\Pkg\\src\\API.jl:64",
      " [12] top-level scope at In[47]:4"
     ]
    }
   ],
   "source": [
    "#import Pkg \n",
    "#using Pkg\n",
    "#Pkg.add(\"CSV\")\n",
    "#Pkg.add(\"DataFrame\")"
   ]
  },
  {
   "cell_type": "code",
   "execution_count": 48,
   "metadata": {
    "scrolled": false
   },
   "outputs": [
    {
     "ename": "ArgumentError",
     "evalue": "ArgumentError: Package DataFrame not found in current path:\n- Run `import Pkg; Pkg.add(\"DataFrame\")` to install the DataFrame package.\n",
     "output_type": "error",
     "traceback": [
      "ArgumentError: Package DataFrame not found in current path:\n- Run `import Pkg; Pkg.add(\"DataFrame\")` to install the DataFrame package.\n",
      "",
      "Stacktrace:",
      " [1] require(::Module, ::Symbol) at .\\loading.jl:876",
      " [2] top-level scope at In[48]:1"
     ]
    }
   ],
   "source": [
    "#using DataFrame\n",
    "#using CSV \n"
   ]
  },
  {
   "cell_type": "markdown",
   "metadata": {},
   "source": [
    "# construct a 'Dataframe'"
   ]
  },
  {
   "cell_type": "code",
   "execution_count": 49,
   "metadata": {
    "scrolled": true
   },
   "outputs": [
    {
     "data": {
      "text/html": [
       "<table class=\"data-frame\"><thead><tr><th></th><th>city</th><th>pop</th></tr><tr><th></th><th>String</th><th>Int64</th></tr></thead><tbody><p>3 rows × 2 columns</p><tr><th>1</th><td>Corvallis</td><td>57961</td></tr><tr><th>2</th><td>Portland</td><td>67805</td></tr><tr><th>3</th><td>Eugene</td><td>168916</td></tr></tbody></table>"
      ],
      "text/latex": [
       "\\begin{tabular}{r|cc}\n",
       "\t& city & pop\\\\\n",
       "\t\\hline\n",
       "\t& String & Int64\\\\\n",
       "\t\\hline\n",
       "\t1 & Corvallis & 57961 \\\\\n",
       "\t2 & Portland & 67805 \\\\\n",
       "\t3 & Eugene & 168916 \\\\\n",
       "\\end{tabular}\n"
      ],
      "text/plain": [
       "3×2 DataFrame\n",
       "│ Row │ city      │ pop    │\n",
       "│     │ \u001b[90mString\u001b[39m    │ \u001b[90mInt64\u001b[39m  │\n",
       "├─────┼───────────┼────────┤\n",
       "│ 1   │ Corvallis │ 57961  │\n",
       "│ 2   │ Portland  │ 67805  │\n",
       "│ 3   │ Eugene    │ 168916 │"
      ]
     },
     "execution_count": 49,
     "metadata": {},
     "output_type": "execute_result"
    }
   ],
   "source": [
    "city = [\"Corvallis\", \"Portland\", \"Eugene\"]\n",
    "pop = [57961, 67805, 168916]\n",
    "\n",
    "df_cities = DataFrame(city=city, pop=pop)\n",
    "df_cities"
   ]
  },
  {
   "cell_type": "code",
   "execution_count": 50,
   "metadata": {},
   "outputs": [
    {
     "data": {
      "text/plain": [
       "3-element Array{Int64,1}:\n",
       "  57961\n",
       "  67805\n",
       " 168916"
      ]
     },
     "execution_count": 50,
     "metadata": {},
     "output_type": "execute_result"
    }
   ],
   "source": [
    "sort!(pop) #but this sucks because they are out of order now "
   ]
  },
  {
   "cell_type": "markdown",
   "metadata": {},
   "source": [
    "add rows to DataFrame "
   ]
  },
  {
   "cell_type": "code",
   "execution_count": 51,
   "metadata": {},
   "outputs": [
    {
     "data": {
      "text/html": [
       "<table class=\"data-frame\"><thead><tr><th></th><th>city</th><th>pop</th></tr><tr><th></th><th>String</th><th>Int64</th></tr></thead><tbody><p>4 rows × 2 columns</p><tr><th>1</th><td>Corvallis</td><td>57961</td></tr><tr><th>2</th><td>Portland</td><td>67805</td></tr><tr><th>3</th><td>Eugene</td><td>168916</td></tr><tr><th>4</th><td>Bend</td><td>94520</td></tr></tbody></table>"
      ],
      "text/latex": [
       "\\begin{tabular}{r|cc}\n",
       "\t& city & pop\\\\\n",
       "\t\\hline\n",
       "\t& String & Int64\\\\\n",
       "\t\\hline\n",
       "\t1 & Corvallis & 57961 \\\\\n",
       "\t2 & Portland & 67805 \\\\\n",
       "\t3 & Eugene & 168916 \\\\\n",
       "\t4 & Bend & 94520 \\\\\n",
       "\\end{tabular}\n"
      ],
      "text/plain": [
       "4×2 DataFrame\n",
       "│ Row │ city      │ pop    │\n",
       "│     │ \u001b[90mString\u001b[39m    │ \u001b[90mInt64\u001b[39m  │\n",
       "├─────┼───────────┼────────┤\n",
       "│ 1   │ Corvallis │ 57961  │\n",
       "│ 2   │ Portland  │ 67805  │\n",
       "│ 3   │ Eugene    │ 168916 │\n",
       "│ 4   │ Bend      │ 94520  │"
      ]
     },
     "execution_count": 51,
     "metadata": {},
     "output_type": "execute_result"
    }
   ],
   "source": [
    "push!(df_cities, [\"Bend\", 94520])\n"
   ]
  },
  {
   "cell_type": "code",
   "execution_count": 52,
   "metadata": {},
   "outputs": [
    {
     "data": {
      "text/html": [
       "<table class=\"data-frame\"><thead><tr><th></th><th>city</th><th>pop</th></tr><tr><th></th><th>String</th><th>Int64</th></tr></thead><tbody><p>5 rows × 2 columns</p><tr><th>1</th><td>Corvallis</td><td>57961</td></tr><tr><th>2</th><td>Portland</td><td>67805</td></tr><tr><th>3</th><td>Eugene</td><td>168916</td></tr><tr><th>4</th><td>Bend</td><td>94520</td></tr><tr><th>5</th><td>Berkley</td><td>122324</td></tr></tbody></table>"
      ],
      "text/latex": [
       "\\begin{tabular}{r|cc}\n",
       "\t& city & pop\\\\\n",
       "\t\\hline\n",
       "\t& String & Int64\\\\\n",
       "\t\\hline\n",
       "\t1 & Corvallis & 57961 \\\\\n",
       "\t2 & Portland & 67805 \\\\\n",
       "\t3 & Eugene & 168916 \\\\\n",
       "\t4 & Bend & 94520 \\\\\n",
       "\t5 & Berkley & 122324 \\\\\n",
       "\\end{tabular}\n"
      ],
      "text/plain": [
       "5×2 DataFrame\n",
       "│ Row │ city      │ pop    │\n",
       "│     │ \u001b[90mString\u001b[39m    │ \u001b[90mInt64\u001b[39m  │\n",
       "├─────┼───────────┼────────┤\n",
       "│ 1   │ Corvallis │ 57961  │\n",
       "│ 2   │ Portland  │ 67805  │\n",
       "│ 3   │ Eugene    │ 168916 │\n",
       "│ 4   │ Bend      │ 94520  │\n",
       "│ 5   │ Berkley   │ 122324 │"
      ]
     },
     "execution_count": 52,
     "metadata": {},
     "output_type": "execute_result"
    }
   ],
   "source": [
    "push!(df_cities, Dict(:pop => 122324, :city => \"Berkley\"))"
   ]
  },
  {
   "cell_type": "markdown",
   "metadata": {},
   "source": [
    "retrieve a column "
   ]
  },
  {
   "cell_type": "code",
   "execution_count": 53,
   "metadata": {},
   "outputs": [
    {
     "data": {
      "text/plain": [
       "5-element Array{Int64,1}:\n",
       "  57961\n",
       "  67805\n",
       " 168916\n",
       "  94520\n",
       " 122324"
      ]
     },
     "execution_count": 53,
     "metadata": {},
     "output_type": "execute_result"
    }
   ],
   "source": [
    "df_cities[:, :pop]"
   ]
  },
  {
   "cell_type": "code",
   "execution_count": 54,
   "metadata": {},
   "outputs": [
    {
     "data": {
      "text/plain": [
       "5-element Array{Int64,1}:\n",
       "  57961\n",
       "  67805\n",
       " 168916\n",
       "  94520\n",
       " 122324"
      ]
     },
     "execution_count": 54,
     "metadata": {},
     "output_type": "execute_result"
    }
   ],
   "source": [
    "df_cities.pop"
   ]
  },
  {
   "cell_type": "markdown",
   "metadata": {},
   "source": [
    "add columns "
   ]
  },
  {
   "cell_type": "code",
   "execution_count": 55,
   "metadata": {},
   "outputs": [
    {
     "data": {
      "text/html": [
       "<table class=\"data-frame\"><thead><tr><th></th><th>city</th><th>pop</th><th>state</th></tr><tr><th></th><th>String</th><th>Int64</th><th>String</th></tr></thead><tbody><p>5 rows × 3 columns</p><tr><th>1</th><td>Corvallis</td><td>57961</td><td>OR</td></tr><tr><th>2</th><td>Portland</td><td>67805</td><td>OR</td></tr><tr><th>3</th><td>Eugene</td><td>168916</td><td>OR</td></tr><tr><th>4</th><td>Bend</td><td>94520</td><td>OR</td></tr><tr><th>5</th><td>Berkley</td><td>122324</td><td>CA</td></tr></tbody></table>"
      ],
      "text/latex": [
       "\\begin{tabular}{r|ccc}\n",
       "\t& city & pop & state\\\\\n",
       "\t\\hline\n",
       "\t& String & Int64 & String\\\\\n",
       "\t\\hline\n",
       "\t1 & Corvallis & 57961 & OR \\\\\n",
       "\t2 & Portland & 67805 & OR \\\\\n",
       "\t3 & Eugene & 168916 & OR \\\\\n",
       "\t4 & Bend & 94520 & OR \\\\\n",
       "\t5 & Berkley & 122324 & CA \\\\\n",
       "\\end{tabular}\n"
      ],
      "text/plain": [
       "5×3 DataFrame\n",
       "│ Row │ city      │ pop    │ state  │\n",
       "│     │ \u001b[90mString\u001b[39m    │ \u001b[90mInt64\u001b[39m  │ \u001b[90mString\u001b[39m │\n",
       "├─────┼───────────┼────────┼────────┤\n",
       "│ 1   │ Corvallis │ 57961  │ OR     │\n",
       "│ 2   │ Portland  │ 67805  │ OR     │\n",
       "│ 3   │ Eugene    │ 168916 │ OR     │\n",
       "│ 4   │ Bend      │ 94520  │ OR     │\n",
       "│ 5   │ Berkley   │ 122324 │ CA     │"
      ]
     },
     "execution_count": 55,
     "metadata": {},
     "output_type": "execute_result"
    }
   ],
   "source": [
    "df_cities[!, :state] = [\"OR\", \"OR\", \"OR\", \"OR\", \"CA\"]  #! = all the rows \n",
    "df_cities"
   ]
  },
  {
   "cell_type": "code",
   "execution_count": 56,
   "metadata": {},
   "outputs": [
    {
     "data": {
      "text/html": [
       "<table class=\"data-frame\"><thead><tr><th></th><th>states</th><th>city</th><th>pop</th><th>state</th></tr><tr><th></th><th>String</th><th>String</th><th>Int64</th><th>String</th></tr></thead><tbody><p>5 rows × 4 columns</p><tr><th>1</th><td>OR</td><td>Corvallis</td><td>57961</td><td>OR</td></tr><tr><th>2</th><td>OR</td><td>Portland</td><td>67805</td><td>OR</td></tr><tr><th>3</th><td>OR</td><td>Eugene</td><td>168916</td><td>OR</td></tr><tr><th>4</th><td>OR</td><td>Bend</td><td>94520</td><td>OR</td></tr><tr><th>5</th><td>CA</td><td>Berkley</td><td>122324</td><td>CA</td></tr></tbody></table>"
      ],
      "text/latex": [
       "\\begin{tabular}{r|cccc}\n",
       "\t& states & city & pop & state\\\\\n",
       "\t\\hline\n",
       "\t& String & String & Int64 & String\\\\\n",
       "\t\\hline\n",
       "\t1 & OR & Corvallis & 57961 & OR \\\\\n",
       "\t2 & OR & Portland & 67805 & OR \\\\\n",
       "\t3 & OR & Eugene & 168916 & OR \\\\\n",
       "\t4 & OR & Bend & 94520 & OR \\\\\n",
       "\t5 & CA & Berkley & 122324 & CA \\\\\n",
       "\\end{tabular}\n"
      ],
      "text/plain": [
       "5×4 DataFrame\n",
       "│ Row │ states │ city      │ pop    │ state  │\n",
       "│     │ \u001b[90mString\u001b[39m │ \u001b[90mString\u001b[39m    │ \u001b[90mInt64\u001b[39m  │ \u001b[90mString\u001b[39m │\n",
       "├─────┼────────┼───────────┼────────┼────────┤\n",
       "│ 1   │ OR     │ Corvallis │ 57961  │ OR     │\n",
       "│ 2   │ OR     │ Portland  │ 67805  │ OR     │\n",
       "│ 3   │ OR     │ Eugene    │ 168916 │ OR     │\n",
       "│ 4   │ OR     │ Bend      │ 94520  │ OR     │\n",
       "│ 5   │ CA     │ Berkley   │ 122324 │ CA     │"
      ]
     },
     "execution_count": 56,
     "metadata": {},
     "output_type": "execute_result"
    }
   ],
   "source": [
    "insertcols!(df_cities, 1, states= [\"OR\", \"OR\", \"OR\", \"OR\", \"CA\"]) # another way to do it \n",
    "df_cities"
   ]
  },
  {
   "cell_type": "code",
   "execution_count": 57,
   "metadata": {},
   "outputs": [
    {
     "data": {
      "text/plain": [
       "(5, 4)"
      ]
     },
     "execution_count": 57,
     "metadata": {},
     "output_type": "execute_result"
    }
   ],
   "source": [
    "size(df_cities)"
   ]
  },
  {
   "cell_type": "code",
   "execution_count": 58,
   "metadata": {},
   "outputs": [
    {
     "data": {
      "text/plain": [
       "4-element Array{Symbol,1}:\n",
       " :states\n",
       " :city  \n",
       " :pop   \n",
       " :state "
      ]
     },
     "execution_count": 58,
     "metadata": {},
     "output_type": "execute_result"
    }
   ],
   "source": [
    "names(df_cities) #names of columns "
   ]
  },
  {
   "cell_type": "markdown",
   "metadata": {},
   "source": [
    "###delete rows "
   ]
  },
  {
   "cell_type": "code",
   "execution_count": 59,
   "metadata": {},
   "outputs": [
    {
     "data": {
      "text/html": [
       "<table class=\"data-frame\"><thead><tr><th></th><th>states</th><th>city</th><th>pop</th><th>state</th></tr><tr><th></th><th>String</th><th>String</th><th>Int64</th><th>String</th></tr></thead><tbody><p>4 rows × 4 columns</p><tr><th>1</th><td>OR</td><td>Corvallis</td><td>57961</td><td>OR</td></tr><tr><th>2</th><td>OR</td><td>Portland</td><td>67805</td><td>OR</td></tr><tr><th>3</th><td>OR</td><td>Bend</td><td>94520</td><td>OR</td></tr><tr><th>4</th><td>CA</td><td>Berkley</td><td>122324</td><td>CA</td></tr></tbody></table>"
      ],
      "text/latex": [
       "\\begin{tabular}{r|cccc}\n",
       "\t& states & city & pop & state\\\\\n",
       "\t\\hline\n",
       "\t& String & String & Int64 & String\\\\\n",
       "\t\\hline\n",
       "\t1 & OR & Corvallis & 57961 & OR \\\\\n",
       "\t2 & OR & Portland & 67805 & OR \\\\\n",
       "\t3 & OR & Bend & 94520 & OR \\\\\n",
       "\t4 & CA & Berkley & 122324 & CA \\\\\n",
       "\\end{tabular}\n"
      ],
      "text/plain": [
       "4×4 DataFrame\n",
       "│ Row │ states │ city      │ pop    │ state  │\n",
       "│     │ \u001b[90mString\u001b[39m │ \u001b[90mString\u001b[39m    │ \u001b[90mInt64\u001b[39m  │ \u001b[90mString\u001b[39m │\n",
       "├─────┼────────┼───────────┼────────┼────────┤\n",
       "│ 1   │ OR     │ Corvallis │ 57961  │ OR     │\n",
       "│ 2   │ OR     │ Portland  │ 67805  │ OR     │\n",
       "│ 3   │ OR     │ Bend      │ 94520  │ OR     │\n",
       "│ 4   │ CA     │ Berkley   │ 122324 │ CA     │"
      ]
     },
     "execution_count": 59,
     "metadata": {},
     "output_type": "execute_result"
    }
   ],
   "source": [
    "deleterows!(df_cities, 3)\n",
    "df_cities\n"
   ]
  },
  {
   "cell_type": "code",
   "execution_count": 60,
   "metadata": {},
   "outputs": [
    {
     "name": "stderr",
     "output_type": "stream",
     "text": [
      "┌ Warning: `deletecols!(df::DataFrame, inds)` is deprecated, use `select!(df, Not(inds))` instead.\n",
      "│   caller = top-level scope at In[60]:1\n",
      "└ @ Core In[60]:1\n"
     ]
    },
    {
     "data": {
      "text/html": [
       "<table class=\"data-frame\"><thead><tr><th></th><th>city</th><th>pop</th><th>state</th></tr><tr><th></th><th>String</th><th>Int64</th><th>String</th></tr></thead><tbody><p>4 rows × 3 columns</p><tr><th>1</th><td>Corvallis</td><td>57961</td><td>OR</td></tr><tr><th>2</th><td>Portland</td><td>67805</td><td>OR</td></tr><tr><th>3</th><td>Bend</td><td>94520</td><td>OR</td></tr><tr><th>4</th><td>Berkley</td><td>122324</td><td>CA</td></tr></tbody></table>"
      ],
      "text/latex": [
       "\\begin{tabular}{r|ccc}\n",
       "\t& city & pop & state\\\\\n",
       "\t\\hline\n",
       "\t& String & Int64 & String\\\\\n",
       "\t\\hline\n",
       "\t1 & Corvallis & 57961 & OR \\\\\n",
       "\t2 & Portland & 67805 & OR \\\\\n",
       "\t3 & Bend & 94520 & OR \\\\\n",
       "\t4 & Berkley & 122324 & CA \\\\\n",
       "\\end{tabular}\n"
      ],
      "text/plain": [
       "4×3 DataFrame\n",
       "│ Row │ city      │ pop    │ state  │\n",
       "│     │ \u001b[90mString\u001b[39m    │ \u001b[90mInt64\u001b[39m  │ \u001b[90mString\u001b[39m │\n",
       "├─────┼───────────┼────────┼────────┤\n",
       "│ 1   │ Corvallis │ 57961  │ OR     │\n",
       "│ 2   │ Portland  │ 67805  │ OR     │\n",
       "│ 3   │ Bend      │ 94520  │ OR     │\n",
       "│ 4   │ Berkley   │ 122324 │ CA     │"
      ]
     },
     "execution_count": 60,
     "metadata": {},
     "output_type": "execute_result"
    }
   ],
   "source": [
    "deletecols!(df_cities, 1)"
   ]
  },
  {
   "cell_type": "markdown",
   "metadata": {},
   "source": [
    "#iterate through the rows of dataframe "
   ]
  },
  {
   "cell_type": "code",
   "execution_count": 61,
   "metadata": {},
   "outputs": [
    {
     "name": "stdout",
     "output_type": "stream",
     "text": [
      "city = Corvallis\n",
      "\tpop = 57961\n",
      "\tstate = OR\n",
      "city = Portland\n",
      "\tpop = 67805\n",
      "\tstate = OR\n",
      "city = Bend\n",
      "\tpop = 94520\n",
      "\tstate = OR\n",
      "city = Berkley\n",
      "\tpop = 122324\n",
      "\tstate = CA\n"
     ]
    }
   ],
   "source": [
    "for row in eachrow(df_cities)\n",
    "    #row is like a dictionary \n",
    "    println(\"city = \", row[:city])\n",
    "    println(\"\\tpop = \", row[:pop])\n",
    "    println(\"\\tstate = \", row[:state])\n",
    "    \n",
    "end"
   ]
  },
  {
   "cell_type": "markdown",
   "metadata": {},
   "source": [
    "Lectuer 10.4 start "
   ]
  },
  {
   "cell_type": "markdown",
   "metadata": {},
   "source": [
    "Retrieve a column "
   ]
  },
  {
   "cell_type": "code",
   "execution_count": 62,
   "metadata": {},
   "outputs": [
    {
     "data": {
      "text/plain": [
       "4-element Array{Int64,1}:\n",
       "  57961\n",
       "  67805\n",
       "  94520\n",
       " 122324"
      ]
     },
     "execution_count": 62,
     "metadata": {},
     "output_type": "execute_result"
    }
   ],
   "source": [
    "df_cities[:, :pop]"
   ]
  },
  {
   "cell_type": "code",
   "execution_count": 63,
   "metadata": {},
   "outputs": [
    {
     "data": {
      "text/plain": [
       "4-element Array{Int64,1}:\n",
       "  57961\n",
       "  67805\n",
       "  94520\n",
       " 122324"
      ]
     },
     "execution_count": 63,
     "metadata": {},
     "output_type": "execute_result"
    }
   ],
   "source": [
    "df_cities.pop"
   ]
  },
  {
   "cell_type": "markdown",
   "metadata": {},
   "source": [
    "Retieves Rows"
   ]
  },
  {
   "cell_type": "code",
   "execution_count": 64,
   "metadata": {},
   "outputs": [
    {
     "data": {
      "text/plain": [
       "\"OR\""
      ]
     },
     "execution_count": 64,
     "metadata": {},
     "output_type": "execute_result"
    }
   ],
   "source": [
    "df_cities[2, :state]"
   ]
  },
  {
   "cell_type": "code",
   "execution_count": 65,
   "metadata": {},
   "outputs": [
    {
     "ename": "MethodError",
     "evalue": "MethodError: no method matching getindex(::DataFrame, ::Tuple{Int64,Int64}, ::Array{Symbol,1})\nClosest candidates are:\n  getindex(::DataFrame, !Matched::Colon, ::Union{Colon, Regex, AbstractArray{T,1} where T, All, Between, InvertedIndex}) at C:\\Users\\Owner\\.julia\\packages\\DataFrames\\yH0f6\\src\\dataframe\\dataframe.jl:401\n  getindex(::DataFrame, !Matched::typeof(!), ::Union{Colon, Regex, AbstractArray{T,1} where T, All, Between, InvertedIndex}) at C:\\Users\\Owner\\.julia\\packages\\DataFrames\\yH0f6\\src\\dataframe\\dataframe.jl:405\n  getindex(::DataFrame, !Matched::AbstractArray{T,1}, ::Union{Regex, AbstractArray{T,1} where T, All, Between, InvertedIndex}) where T at C:\\Users\\Owner\\.julia\\packages\\DataFrames\\yH0f6\\src\\dataframe\\dataframe.jl:374\n  ...",
     "output_type": "error",
     "traceback": [
      "MethodError: no method matching getindex(::DataFrame, ::Tuple{Int64,Int64}, ::Array{Symbol,1})\nClosest candidates are:\n  getindex(::DataFrame, !Matched::Colon, ::Union{Colon, Regex, AbstractArray{T,1} where T, All, Between, InvertedIndex}) at C:\\Users\\Owner\\.julia\\packages\\DataFrames\\yH0f6\\src\\dataframe\\dataframe.jl:401\n  getindex(::DataFrame, !Matched::typeof(!), ::Union{Colon, Regex, AbstractArray{T,1} where T, All, Between, InvertedIndex}) at C:\\Users\\Owner\\.julia\\packages\\DataFrames\\yH0f6\\src\\dataframe\\dataframe.jl:405\n  getindex(::DataFrame, !Matched::AbstractArray{T,1}, ::Union{Regex, AbstractArray{T,1} where T, All, Between, InvertedIndex}) where T at C:\\Users\\Owner\\.julia\\packages\\DataFrames\\yH0f6\\src\\dataframe\\dataframe.jl:374\n  ...",
      "",
      "Stacktrace:",
      " [1] top-level scope at In[65]:1"
     ]
    }
   ],
   "source": [
    "df_cities[(1,3), [:city, :pop]] #slices out data row and colum wise "
   ]
  },
  {
   "cell_type": "code",
   "execution_count": 66,
   "metadata": {},
   "outputs": [
    {
     "data": {
      "text/html": [
       "<table class=\"data-frame\"><thead><tr><th></th><th>city</th><th>pop</th><th>state</th></tr><tr><th></th><th>String</th><th>Int64</th><th>String</th></tr></thead><tbody><p>1 rows × 3 columns</p><tr><th>1</th><td>Corvallis</td><td>57961</td><td>OR</td></tr></tbody></table>"
      ],
      "text/latex": [
       "\\begin{tabular}{r|ccc}\n",
       "\t& city & pop & state\\\\\n",
       "\t\\hline\n",
       "\t& String & Int64 & String\\\\\n",
       "\t\\hline\n",
       "\t1 & Corvallis & 57961 & OR \\\\\n",
       "\\end{tabular}\n"
      ],
      "text/plain": [
       "1×3 DataFrame\n",
       "│ Row │ city      │ pop   │ state  │\n",
       "│     │ \u001b[90mString\u001b[39m    │ \u001b[90mInt64\u001b[39m │ \u001b[90mString\u001b[39m │\n",
       "├─────┼───────────┼───────┼────────┤\n",
       "│ 1   │ Corvallis │ 57961 │ OR     │"
      ]
     },
     "execution_count": 66,
     "metadata": {},
     "output_type": "execute_result"
    }
   ],
   "source": [
    "df_cities[:, :city] .== \"Corvallis\" #should olny get true on the corvallis row \n",
    "df_cities[df_cities[:, :city] .== \"Corvallis\", :] #gives only Corvallis "
   ]
  },
  {
   "cell_type": "code",
   "execution_count": 67,
   "metadata": {},
   "outputs": [
    {
     "data": {
      "text/html": [
       "<table class=\"data-frame\"><thead><tr><th></th><th>city</th><th>pop</th><th>state</th></tr><tr><th></th><th>String</th><th>Int64</th><th>String</th></tr></thead><tbody><p>0 rows × 3 columns</p></tbody></table>"
      ],
      "text/latex": [
       "\\begin{tabular}{r|ccc}\n",
       "\t& city & pop & state\\\\\n",
       "\t\\hline\n",
       "\t& String & Int64 & String\\\\\n",
       "\t\\hline\n",
       "\\end{tabular}\n"
      ],
      "text/plain": [
       "0×3 DataFrame\n"
      ]
     },
     "execution_count": 67,
     "metadata": {},
     "output_type": "execute_result"
    }
   ],
   "source": [
    "df_cities[df_cities[:, :pop] .> 500000, :] #only gives you cities with pop less than \n"
   ]
  },
  {
   "cell_type": "code",
   "execution_count": 68,
   "metadata": {},
   "outputs": [
    {
     "data": {
      "text/html": [
       "<table class=\"data-frame\"><thead><tr><th></th><th>city</th><th>pop</th><th>state</th></tr><tr><th></th><th>String</th><th>Int64</th><th>String</th></tr></thead><tbody><p>3 rows × 3 columns</p><tr><th>1</th><td>Corvallis</td><td>57961</td><td>OR</td></tr><tr><th>2</th><td>Portland</td><td>67805</td><td>OR</td></tr><tr><th>3</th><td>Bend</td><td>94520</td><td>OR</td></tr></tbody></table>"
      ],
      "text/latex": [
       "\\begin{tabular}{r|ccc}\n",
       "\t& city & pop & state\\\\\n",
       "\t\\hline\n",
       "\t& String & Int64 & String\\\\\n",
       "\t\\hline\n",
       "\t1 & Corvallis & 57961 & OR \\\\\n",
       "\t2 & Portland & 67805 & OR \\\\\n",
       "\t3 & Bend & 94520 & OR \\\\\n",
       "\\end{tabular}\n"
      ],
      "text/plain": [
       "3×3 DataFrame\n",
       "│ Row │ city      │ pop   │ state  │\n",
       "│     │ \u001b[90mString\u001b[39m    │ \u001b[90mInt64\u001b[39m │ \u001b[90mString\u001b[39m │\n",
       "├─────┼───────────┼───────┼────────┤\n",
       "│ 1   │ Corvallis │ 57961 │ OR     │\n",
       "│ 2   │ Portland  │ 67805 │ OR     │\n",
       "│ 3   │ Bend      │ 94520 │ OR     │"
      ]
     },
     "execution_count": 68,
     "metadata": {},
     "output_type": "execute_result"
    }
   ],
   "source": [
    "keep_this_row = row -> row[:state] == \"OR\" #goes therough row wise and keeps row that is from oregon \n",
    "filter(keep_this_row, df_cities)  #creates a new copy of the dataframe with this information "
   ]
  },
  {
   "cell_type": "code",
   "execution_count": 69,
   "metadata": {},
   "outputs": [
    {
     "data": {
      "text/html": [
       "<table class=\"data-frame\"><thead><tr><th></th><th>city</th><th>pop</th><th>state</th></tr><tr><th></th><th>String</th><th>Int64</th><th>String</th></tr></thead><tbody><p>4 rows × 3 columns</p><tr><th>1</th><td>Berkley</td><td>122324</td><td>CA</td></tr><tr><th>2</th><td>Bend</td><td>94520</td><td>OR</td></tr><tr><th>3</th><td>Portland</td><td>67805</td><td>OR</td></tr><tr><th>4</th><td>Corvallis</td><td>57961</td><td>OR</td></tr></tbody></table>"
      ],
      "text/latex": [
       "\\begin{tabular}{r|ccc}\n",
       "\t& city & pop & state\\\\\n",
       "\t\\hline\n",
       "\t& String & Int64 & String\\\\\n",
       "\t\\hline\n",
       "\t1 & Berkley & 122324 & CA \\\\\n",
       "\t2 & Bend & 94520 & OR \\\\\n",
       "\t3 & Portland & 67805 & OR \\\\\n",
       "\t4 & Corvallis & 57961 & OR \\\\\n",
       "\\end{tabular}\n"
      ],
      "text/plain": [
       "4×3 DataFrame\n",
       "│ Row │ city      │ pop    │ state  │\n",
       "│     │ \u001b[90mString\u001b[39m    │ \u001b[90mInt64\u001b[39m  │ \u001b[90mString\u001b[39m │\n",
       "├─────┼───────────┼────────┼────────┤\n",
       "│ 1   │ Berkley   │ 122324 │ CA     │\n",
       "│ 2   │ Bend      │ 94520  │ OR     │\n",
       "│ 3   │ Portland  │ 67805  │ OR     │\n",
       "│ 4   │ Corvallis │ 57961  │ OR     │"
      ]
     },
     "execution_count": 69,
     "metadata": {},
     "output_type": "execute_result"
    }
   ],
   "source": [
    "sort!(df_cities, :pop, rev=true) #rev=descending "
   ]
  },
  {
   "cell_type": "code",
   "execution_count": 70,
   "metadata": {},
   "outputs": [
    {
     "data": {
      "text/plain": [
       "Missing"
      ]
     },
     "execution_count": 70,
     "metadata": {},
     "output_type": "execute_result"
    }
   ],
   "source": [
    "typeof(missing)"
   ]
  },
  {
   "cell_type": "code",
   "execution_count": 71,
   "metadata": {},
   "outputs": [
    {
     "ename": "UndefVarError",
     "evalue": "UndefVarError: df_big not defined",
     "output_type": "error",
     "traceback": [
      "UndefVarError: df_big not defined",
      "",
      "Stacktrace:",
      " [1] top-level scope at In[71]:1"
     ]
    }
   ],
   "source": [
    "df_big[:, :state]"
   ]
  },
  {
   "cell_type": "code",
   "execution_count": 72,
   "metadata": {},
   "outputs": [
    {
     "ename": "UndefVarError",
     "evalue": "UndefVarError: df_big not defined",
     "output_type": "error",
     "traceback": [
      "UndefVarError: df_big not defined",
      "",
      "Stacktrace:",
      " [1] top-level scope at In[72]:1"
     ]
    }
   ],
   "source": [
    "dropmissing(df_big)"
   ]
  },
  {
   "cell_type": "code",
   "execution_count": 73,
   "metadata": {},
   "outputs": [
    {
     "ename": "UndefVarError",
     "evalue": "UndefVarError: df_big not defined",
     "output_type": "error",
     "traceback": [
      "UndefVarError: df_big not defined",
      "",
      "Stacktrace:",
      " [1] top-level scope at In[73]:1"
     ]
    }
   ],
   "source": [
    "dropmissing(df_big, :state)"
   ]
  },
  {
   "cell_type": "markdown",
   "metadata": {},
   "source": [
    "Unique"
   ]
  },
  {
   "cell_type": "code",
   "execution_count": 74,
   "metadata": {},
   "outputs": [
    {
     "data": {
      "text/plain": [
       "3-element Array{Int64,1}:\n",
       " 1\n",
       " 2\n",
       " 5"
      ]
     },
     "execution_count": 74,
     "metadata": {},
     "output_type": "execute_result"
    }
   ],
   "source": [
    "unique([1, 2, 2, 2, 5])"
   ]
  },
  {
   "cell_type": "code",
   "execution_count": 75,
   "metadata": {},
   "outputs": [
    {
     "ename": "UndefVarError",
     "evalue": "UndefVarError: df_big not defined",
     "output_type": "error",
     "traceback": [
      "UndefVarError: df_big not defined",
      "",
      "Stacktrace:",
      " [1] top-level scope at In[75]:1"
     ]
    }
   ],
   "source": [
    "unique(df_big[:, :state])"
   ]
  },
  {
   "cell_type": "markdown",
   "metadata": {},
   "source": [
    "delete duplicate rows "
   ]
  },
  {
   "cell_type": "code",
   "execution_count": 76,
   "metadata": {},
   "outputs": [
    {
     "data": {
      "text/html": [
       "<table class=\"data-frame\"><thead><tr><th></th><th>city</th><th>pop</th><th>state</th></tr><tr><th></th><th>String</th><th>Int64</th><th>String</th></tr></thead><tbody><p>5 rows × 3 columns</p><tr><th>1</th><td>Berkley</td><td>122324</td><td>CA</td></tr><tr><th>2</th><td>Bend</td><td>94520</td><td>OR</td></tr><tr><th>3</th><td>Portland</td><td>67805</td><td>OR</td></tr><tr><th>4</th><td>Corvallis</td><td>57961</td><td>OR</td></tr><tr><th>5</th><td>Bend</td><td>94520</td><td>OR</td></tr></tbody></table>"
      ],
      "text/latex": [
       "\\begin{tabular}{r|ccc}\n",
       "\t& city & pop & state\\\\\n",
       "\t\\hline\n",
       "\t& String & Int64 & String\\\\\n",
       "\t\\hline\n",
       "\t1 & Berkley & 122324 & CA \\\\\n",
       "\t2 & Bend & 94520 & OR \\\\\n",
       "\t3 & Portland & 67805 & OR \\\\\n",
       "\t4 & Corvallis & 57961 & OR \\\\\n",
       "\t5 & Bend & 94520 & OR \\\\\n",
       "\\end{tabular}\n"
      ],
      "text/plain": [
       "5×3 DataFrame\n",
       "│ Row │ city      │ pop    │ state  │\n",
       "│     │ \u001b[90mString\u001b[39m    │ \u001b[90mInt64\u001b[39m  │ \u001b[90mString\u001b[39m │\n",
       "├─────┼───────────┼────────┼────────┤\n",
       "│ 1   │ Berkley   │ 122324 │ CA     │\n",
       "│ 2   │ Bend      │ 94520  │ OR     │\n",
       "│ 3   │ Portland  │ 67805  │ OR     │\n",
       "│ 4   │ Corvallis │ 57961  │ OR     │\n",
       "│ 5   │ Bend      │ 94520  │ OR     │"
      ]
     },
     "execution_count": 76,
     "metadata": {},
     "output_type": "execute_result"
    }
   ],
   "source": [
    "push!(df_cities, df_cities[2, :])"
   ]
  },
  {
   "cell_type": "code",
   "execution_count": 77,
   "metadata": {},
   "outputs": [
    {
     "data": {
      "text/html": [
       "<table class=\"data-frame\"><thead><tr><th></th><th>city</th><th>pop</th><th>state</th></tr><tr><th></th><th>String</th><th>Int64</th><th>String</th></tr></thead><tbody><p>5 rows × 3 columns</p><tr><th>1</th><td>Corvallis</td><td>57961</td><td>OR</td></tr><tr><th>2</th><td>Portland</td><td>67805</td><td>OR</td></tr><tr><th>3</th><td>Bend</td><td>94520</td><td>OR</td></tr><tr><th>4</th><td>Bend</td><td>94520</td><td>OR</td></tr><tr><th>5</th><td>Berkley</td><td>122324</td><td>CA</td></tr></tbody></table>"
      ],
      "text/latex": [
       "\\begin{tabular}{r|ccc}\n",
       "\t& city & pop & state\\\\\n",
       "\t\\hline\n",
       "\t& String & Int64 & String\\\\\n",
       "\t\\hline\n",
       "\t1 & Corvallis & 57961 & OR \\\\\n",
       "\t2 & Portland & 67805 & OR \\\\\n",
       "\t3 & Bend & 94520 & OR \\\\\n",
       "\t4 & Bend & 94520 & OR \\\\\n",
       "\t5 & Berkley & 122324 & CA \\\\\n",
       "\\end{tabular}\n"
      ],
      "text/plain": [
       "5×3 DataFrame\n",
       "│ Row │ city      │ pop    │ state  │\n",
       "│     │ \u001b[90mString\u001b[39m    │ \u001b[90mInt64\u001b[39m  │ \u001b[90mString\u001b[39m │\n",
       "├─────┼───────────┼────────┼────────┤\n",
       "│ 1   │ Corvallis │ 57961  │ OR     │\n",
       "│ 2   │ Portland  │ 67805  │ OR     │\n",
       "│ 3   │ Bend      │ 94520  │ OR     │\n",
       "│ 4   │ Bend      │ 94520  │ OR     │\n",
       "│ 5   │ Berkley   │ 122324 │ CA     │"
      ]
     },
     "execution_count": 77,
     "metadata": {},
     "output_type": "execute_result"
    }
   ],
   "source": [
    "sort!(df_cities, :pop) \n",
    "df_cities"
   ]
  },
  {
   "cell_type": "code",
   "execution_count": 78,
   "metadata": {},
   "outputs": [
    {
     "data": {
      "text/html": [
       "<table class=\"data-frame\"><thead><tr><th></th><th>city</th><th>pop</th><th>state</th></tr><tr><th></th><th>String</th><th>Int64</th><th>String</th></tr></thead><tbody><p>4 rows × 3 columns</p><tr><th>1</th><td>Corvallis</td><td>57961</td><td>OR</td></tr><tr><th>2</th><td>Portland</td><td>67805</td><td>OR</td></tr><tr><th>3</th><td>Bend</td><td>94520</td><td>OR</td></tr><tr><th>4</th><td>Berkley</td><td>122324</td><td>CA</td></tr></tbody></table>"
      ],
      "text/latex": [
       "\\begin{tabular}{r|ccc}\n",
       "\t& city & pop & state\\\\\n",
       "\t\\hline\n",
       "\t& String & Int64 & String\\\\\n",
       "\t\\hline\n",
       "\t1 & Corvallis & 57961 & OR \\\\\n",
       "\t2 & Portland & 67805 & OR \\\\\n",
       "\t3 & Bend & 94520 & OR \\\\\n",
       "\t4 & Berkley & 122324 & CA \\\\\n",
       "\\end{tabular}\n"
      ],
      "text/plain": [
       "4×3 DataFrame\n",
       "│ Row │ city      │ pop    │ state  │\n",
       "│     │ \u001b[90mString\u001b[39m    │ \u001b[90mInt64\u001b[39m  │ \u001b[90mString\u001b[39m │\n",
       "├─────┼───────────┼────────┼────────┤\n",
       "│ 1   │ Corvallis │ 57961  │ OR     │\n",
       "│ 2   │ Portland  │ 67805  │ OR     │\n",
       "│ 3   │ Bend      │ 94520  │ OR     │\n",
       "│ 4   │ Berkley   │ 122324 │ CA     │"
      ]
     },
     "execution_count": 78,
     "metadata": {},
     "output_type": "execute_result"
    }
   ],
   "source": [
    "unique!(df_cities)\n",
    "df_cities"
   ]
  },
  {
   "cell_type": "code",
   "execution_count": 79,
   "metadata": {},
   "outputs": [
    {
     "ename": "UndefVarError",
     "evalue": "UndefVarError: df_big not defined",
     "output_type": "error",
     "traceback": [
      "UndefVarError: df_big not defined",
      "",
      "Stacktrace:",
      " [1] top-level scope at In[79]:1"
     ]
    }
   ],
   "source": [
    "CSV.write(\"big_df.csv\", df_big)"
   ]
  },
  {
   "cell_type": "markdown",
   "metadata": {},
   "source": [
    "# groupby: split rows of a DataFrame into groups "
   ]
  },
  {
   "cell_type": "code",
   "execution_count": 80,
   "metadata": {},
   "outputs": [
    {
     "ename": "LoadError",
     "evalue": "syntax: extra token \"groupby\" after end of expression",
     "output_type": "error",
     "traceback": [
      "syntax: extra token \"groupby\" after end of expression",
      ""
     ]
    }
   ],
   "source": [
    "the groupby command "
   ]
  },
  {
   "cell_type": "code",
   "execution_count": 81,
   "metadata": {},
   "outputs": [
    {
     "data": {
      "text/html": [
       "<p><b>GroupedDataFrame with 2 groups based on key: state</b></p><p><i>First Group (3 rows): state = \"OR\"</i></p><table class=\"data-frame\"><thead><tr><th></th><th>city</th><th>pop</th><th>state</th></tr><tr><th></th><th>String</th><th>Int64</th><th>String</th></tr></thead><tbody><tr><th>1</th><td>Corvallis</td><td>57961</td><td>OR</td></tr><tr><th>2</th><td>Portland</td><td>67805</td><td>OR</td></tr><tr><th>3</th><td>Bend</td><td>94520</td><td>OR</td></tr></tbody></table><p>&vellip;</p><p><i>Last Group (1 row): state = \"CA\"</i></p><table class=\"data-frame\"><thead><tr><th></th><th>city</th><th>pop</th><th>state</th></tr><tr><th></th><th>String</th><th>Int64</th><th>String</th></tr></thead><tbody><tr><th>1</th><td>Berkley</td><td>122324</td><td>CA</td></tr></tbody></table>"
      ],
      "text/latex": [
       "GroupedDataFrame with 2 groups based on key: state\n",
       "\n",
       "First Group (3 rows): state = \"OR\"\n",
       "\n",
       "\\begin{tabular}{r|ccc}\n",
       "\t& city & pop & state\\\\\n",
       "\t\\hline\n",
       "\t& String & Int64 & String\\\\\n",
       "\t\\hline\n",
       "\t1 & Corvallis & 57961 & OR \\\\\n",
       "\t2 & Portland & 67805 & OR \\\\\n",
       "\t3 & Bend & 94520 & OR \\\\\n",
       "\\end{tabular}\n",
       "\n",
       "$\\dots$\n",
       "\n",
       "Last Group (1 row): state = \"CA\"\n",
       "\n",
       "\\begin{tabular}{r|ccc}\n",
       "\t& city & pop & state\\\\\n",
       "\t\\hline\n",
       "\t& String & Int64 & String\\\\\n",
       "\t\\hline\n",
       "\t1 & Berkley & 122324 & CA \\\\\n",
       "\\end{tabular}\n"
      ],
      "text/plain": [
       "GroupedDataFrame with 2 groups based on key: state\n",
       "First Group (3 rows): state = \"OR\"\n",
       "│ Row │ city      │ pop   │ state  │\n",
       "│     │ \u001b[90mString\u001b[39m    │ \u001b[90mInt64\u001b[39m │ \u001b[90mString\u001b[39m │\n",
       "├─────┼───────────┼───────┼────────┤\n",
       "│ 1   │ Corvallis │ 57961 │ OR     │\n",
       "│ 2   │ Portland  │ 67805 │ OR     │\n",
       "│ 3   │ Bend      │ 94520 │ OR     │\n",
       "⋮\n",
       "Last Group (1 row): state = \"CA\"\n",
       "│ Row │ city    │ pop    │ state  │\n",
       "│     │ \u001b[90mString\u001b[39m  │ \u001b[90mInt64\u001b[39m  │ \u001b[90mString\u001b[39m │\n",
       "├─────┼─────────┼────────┼────────┤\n",
       "│ 1   │ Berkley │ 122324 │ CA     │"
      ]
     },
     "execution_count": 81,
     "metadata": {},
     "output_type": "execute_result"
    }
   ],
   "source": [
    "gb = groupby(df_cities, :state) "
   ]
  },
  {
   "cell_type": "code",
   "execution_count": 83,
   "metadata": {},
   "outputs": [
    {
     "name": "stdout",
     "output_type": "stream",
     "text": [
      "state = OR\n",
      "\t# cities = 3\n"
     ]
    },
    {
     "ename": "ArgumentError",
     "evalue": "ArgumentError: column name :rainfall not found in the data frame",
     "output_type": "error",
     "traceback": [
      "ArgumentError: column name :rainfall not found in the data frame",
      "",
      "Stacktrace:",
      " [1] getindex(::SubDataFrame{DataFrame,DataFrames.Index,Array{Int64,1}}, ::Colon, ::Symbol) at C:\\Users\\Owner\\.julia\\packages\\DataFrames\\yH0f6\\src\\other\\index.jl:238",
      " [2] top-level scope at .\\In[83]:10"
     ]
    }
   ],
   "source": [
    "for df_by_state in groupby(df_cities, :state) \n",
    "        #inside this loop all data points belomg to the same state! \n",
    "#    print(df_by_state)\n",
    "    this_state = df_by_state[1, :state]\n",
    "    println(\"state = \", this_state)\n",
    "    \n",
    "    nb_cities = size(df_by_state)[1]\n",
    "    println(\"\\t# cities = \", nb_cities)\n",
    "    \n",
    "    avg_rainfall = mean(df_by_state[:, :rainfall])\n",
    "    println(\"\\t(rainfall ) =\", avg_rainfall)\n",
    "    \n",
    "end "
   ]
  },
  {
   "cell_type": "markdown",
   "metadata": {},
   "source": [
    "# by:split into groups, applu a function, combine back "
   ]
  },
  {
   "cell_type": "code",
   "execution_count": 84,
   "metadata": {},
   "outputs": [
    {
     "ename": "UndefVarError",
     "evalue": "UndefVarError: mean not defined",
     "output_type": "error",
     "traceback": [
      "UndefVarError: mean not defined",
      "",
      "Stacktrace:",
      " [1] top-level scope at In[84]:1"
     ]
    }
   ],
   "source": [
    "by(df_cities, :state, avg_rainfall = :rainfall => mean)"
   ]
  },
  {
   "cell_type": "code",
   "execution_count": 85,
   "metadata": {},
   "outputs": [
    {
     "ename": "ArgumentError",
     "evalue": "ArgumentError: column name :rainfall not found in the data frame",
     "output_type": "error",
     "traceback": [
      "ArgumentError: column name :rainfall not found in the data frame",
      "",
      "Stacktrace:",
      " [1] (::getfield(DataFrames, Symbol(\"##25#26\")){DataFrames.Index})(::Symbol) at C:\\Users\\Owner\\.julia\\packages\\DataFrames\\yH0f6\\src\\other\\index.jl:238",
      " [2] iterate at .\\generator.jl:47 [inlined]",
      " [3] collect_to! at .\\array.jl:651 [inlined]",
      " [4] collect_to_with_first!(::Array{Int64,1}, ::Int64, ::Base.Generator{Array{Symbol,1},getfield(DataFrames, Symbol(\"##25#26\")){DataFrames.Index}}, ::Int64) at .\\array.jl:630",
      " [5] collect(::Base.Generator{Array{Symbol,1},getfield(DataFrames, Symbol(\"##25#26\")){DataFrames.Index}}) at .\\array.jl:611",
      " [6] getindex at C:\\Users\\Owner\\.julia\\packages\\DataFrames\\yH0f6\\src\\other\\index.jl:250 [inlined]",
      " [7] #select#124 at C:\\Users\\Owner\\.julia\\packages\\DataFrames\\yH0f6\\src\\dataframe\\dataframe.jl:825 [inlined]",
      " [8] #select at .\\none:0 [inlined]",
      " [9] getindex(::DataFrame, ::Colon, ::Array{Symbol,1}) at C:\\Users\\Owner\\.julia\\packages\\DataFrames\\yH0f6\\src\\dataframe\\dataframe.jl:401",
      " [10] top-level scope at In[85]:1"
     ]
    }
   ],
   "source": [
    "aggregate(df_cities[:, [:state, :rainfall, :population]], :state, mean)"
   ]
  },
  {
   "cell_type": "code",
   "execution_count": 86,
   "metadata": {},
   "outputs": [
    {
     "data": {
      "text/html": [
       "<table class=\"data-frame\"><thead><tr><th></th><th>City</th><th>pop</th><th>state</th></tr><tr><th></th><th>String</th><th>Int64</th><th>String</th></tr></thead><tbody><p>4 rows × 3 columns</p><tr><th>1</th><td>Corvallis</td><td>57961</td><td>OR</td></tr><tr><th>2</th><td>Portland</td><td>67805</td><td>OR</td></tr><tr><th>3</th><td>Bend</td><td>94520</td><td>OR</td></tr><tr><th>4</th><td>Berkley</td><td>122324</td><td>CA</td></tr></tbody></table>"
      ],
      "text/latex": [
       "\\begin{tabular}{r|ccc}\n",
       "\t& City & pop & state\\\\\n",
       "\t\\hline\n",
       "\t& String & Int64 & String\\\\\n",
       "\t\\hline\n",
       "\t1 & Corvallis & 57961 & OR \\\\\n",
       "\t2 & Portland & 67805 & OR \\\\\n",
       "\t3 & Bend & 94520 & OR \\\\\n",
       "\t4 & Berkley & 122324 & CA \\\\\n",
       "\\end{tabular}\n"
      ],
      "text/plain": [
       "4×3 DataFrame\n",
       "│ Row │ City      │ pop    │ state  │\n",
       "│     │ \u001b[90mString\u001b[39m    │ \u001b[90mInt64\u001b[39m  │ \u001b[90mString\u001b[39m │\n",
       "├─────┼───────────┼────────┼────────┤\n",
       "│ 1   │ Corvallis │ 57961  │ OR     │\n",
       "│ 2   │ Portland  │ 67805  │ OR     │\n",
       "│ 3   │ Bend      │ 94520  │ OR     │\n",
       "│ 4   │ Berkley   │ 122324 │ CA     │"
      ]
     },
     "execution_count": 86,
     "metadata": {},
     "output_type": "execute_result"
    }
   ],
   "source": [
    "rename!(df_cities, :city => :City) \n",
    "df_cities"
   ]
  },
  {
   "cell_type": "markdown",
   "metadata": {},
   "source": [
    "# Steak Dataframe "
   ]
  },
  {
   "cell_type": "code",
   "execution_count": 87,
   "metadata": {},
   "outputs": [
    {
     "data": {
      "text/plain": [
       "\"steak.csv\""
      ]
     },
     "execution_count": 87,
     "metadata": {},
     "output_type": "execute_result"
    }
   ],
   "source": [
    "steak_file = (\"steak.csv\")"
   ]
  },
  {
   "cell_type": "code",
   "execution_count": 98,
   "metadata": {},
   "outputs": [
    {
     "data": {
      "text/html": [
       "<table class=\"data-frame\"><thead><tr><th></th><th>eats_steak</th><th>how_cooked</th></tr><tr><th></th><th>String</th><th>String</th></tr></thead><tbody><p>10 rows × 2 columns</p><tr><th>1</th><td>Yes</td><td>Medium rare</td></tr><tr><th>2</th><td>Yes</td><td>Rare</td></tr><tr><th>3</th><td>Yes</td><td>Medium</td></tr><tr><th>4</th><td>Yes</td><td>Medium</td></tr><tr><th>5</th><td>Yes</td><td>Medium rare</td></tr><tr><th>6</th><td>Yes</td><td>Medium rare</td></tr><tr><th>7</th><td>Yes</td><td>Medium</td></tr><tr><th>8</th><td>Yes</td><td>Medium rare</td></tr><tr><th>9</th><td>Yes</td><td>Medium rare</td></tr><tr><th>10</th><td>Yes</td><td>Medium rare</td></tr></tbody></table>"
      ],
      "text/latex": [
       "\\begin{tabular}{r|cc}\n",
       "\t& eats\\_steak & how\\_cooked\\\\\n",
       "\t\\hline\n",
       "\t& String & String\\\\\n",
       "\t\\hline\n",
       "\t1 & Yes & Medium rare \\\\\n",
       "\t2 & Yes & Rare \\\\\n",
       "\t3 & Yes & Medium \\\\\n",
       "\t4 & Yes & Medium \\\\\n",
       "\t5 & Yes & Medium rare \\\\\n",
       "\t6 & Yes & Medium rare \\\\\n",
       "\t7 & Yes & Medium \\\\\n",
       "\t8 & Yes & Medium rare \\\\\n",
       "\t9 & Yes & Medium rare \\\\\n",
       "\t10 & Yes & Medium rare \\\\\n",
       "\\end{tabular}\n"
      ],
      "text/plain": [
       "10×2 DataFrame\n",
       "│ Row │ eats_steak │ how_cooked  │\n",
       "│     │ \u001b[90mString\u001b[39m     │ \u001b[90mString\u001b[39m      │\n",
       "├─────┼────────────┼─────────────┤\n",
       "│ 1   │ Yes        │ Medium rare │\n",
       "│ 2   │ Yes        │ Rare        │\n",
       "│ 3   │ Yes        │ Medium      │\n",
       "│ 4   │ Yes        │ Medium      │\n",
       "│ 5   │ Yes        │ Medium rare │\n",
       "│ 6   │ Yes        │ Medium rare │\n",
       "│ 7   │ Yes        │ Medium      │\n",
       "│ 8   │ Yes        │ Medium rare │\n",
       "│ 9   │ Yes        │ Medium rare │\n",
       "│ 10  │ Yes        │ Medium rare │"
      ]
     },
     "execution_count": 98,
     "metadata": {},
     "output_type": "execute_result"
    }
   ],
   "source": [
    "df_steak = CSV.read(steak_file, header = [:eats_steak, :how_cooked], copycols=true) #this csv is missing a header so add one i\n",
    "#copycols=true makes dataframe mutable \n",
    "dropmissing!(df_steak) #must have !\n",
    "first(df_steak, 10)"
   ]
  },
  {
   "cell_type": "code",
   "execution_count": 99,
   "metadata": {},
   "outputs": [
    {
     "data": {
      "text/html": [
       "<p><b>GroupedDataFrame with 1 group based on key: eats_steak</b></p><p><i>First Group (430 rows): eats_steak = \"Yes\"</i></p><table class=\"data-frame\"><thead><tr><th></th><th>eats_steak</th><th>how_cooked</th></tr><tr><th></th><th>String</th><th>String</th></tr></thead><tbody><tr><th>1</th><td>Yes</td><td>Medium rare</td></tr><tr><th>2</th><td>Yes</td><td>Rare</td></tr><tr><th>3</th><td>Yes</td><td>Medium</td></tr><tr><th>4</th><td>Yes</td><td>Medium</td></tr><tr><th>5</th><td>Yes</td><td>Medium rare</td></tr><tr><th>6</th><td>Yes</td><td>Medium rare</td></tr><tr><th>7</th><td>Yes</td><td>Medium</td></tr><tr><th>8</th><td>Yes</td><td>Medium rare</td></tr><tr><th>9</th><td>Yes</td><td>Medium rare</td></tr><tr><th>10</th><td>Yes</td><td>Medium rare</td></tr><tr><th>11</th><td>Yes</td><td>Medium</td></tr><tr><th>12</th><td>Yes</td><td>Rare</td></tr><tr><th>13</th><td>Yes</td><td>Medium Well</td></tr><tr><th>14</th><td>Yes</td><td>Medium Well</td></tr><tr><th>15</th><td>Yes</td><td>Medium</td></tr><tr><th>16</th><td>Yes</td><td>Medium rare</td></tr><tr><th>17</th><td>Yes</td><td>Medium rare</td></tr><tr><th>18</th><td>Yes</td><td>Medium rare</td></tr><tr><th>19</th><td>Yes</td><td>Medium Well</td></tr><tr><th>20</th><td>Yes</td><td>Medium rare</td></tr><tr><th>21</th><td>Yes</td><td>Medium rare</td></tr><tr><th>22</th><td>Yes</td><td>Medium Well</td></tr><tr><th>23</th><td>Yes</td><td>Medium</td></tr><tr><th>24</th><td>Yes</td><td>Medium rare</td></tr><tr><th>25</th><td>Yes</td><td>Medium</td></tr><tr><th>26</th><td>Yes</td><td>Medium</td></tr><tr><th>27</th><td>Yes</td><td>Medium</td></tr><tr><th>28</th><td>Yes</td><td>Medium</td></tr><tr><th>29</th><td>Yes</td><td>Medium rare</td></tr><tr><th>30</th><td>Yes</td><td>Medium</td></tr><tr><th>&vellip;</th><td>&vellip;</td><td>&vellip;</td></tr></tbody></table>"
      ],
      "text/latex": [
       "GroupedDataFrame with 1 group based on key: eats\\_steak\n",
       "\n",
       "First Group (430 rows): eats\\_steak = \"Yes\"\n",
       "\n",
       "\\begin{tabular}{r|cc}\n",
       "\t& eats\\_steak & how\\_cooked\\\\\n",
       "\t\\hline\n",
       "\t& String & String\\\\\n",
       "\t\\hline\n",
       "\t1 & Yes & Medium rare \\\\\n",
       "\t2 & Yes & Rare \\\\\n",
       "\t3 & Yes & Medium \\\\\n",
       "\t4 & Yes & Medium \\\\\n",
       "\t5 & Yes & Medium rare \\\\\n",
       "\t6 & Yes & Medium rare \\\\\n",
       "\t7 & Yes & Medium \\\\\n",
       "\t8 & Yes & Medium rare \\\\\n",
       "\t9 & Yes & Medium rare \\\\\n",
       "\t10 & Yes & Medium rare \\\\\n",
       "\t11 & Yes & Medium \\\\\n",
       "\t12 & Yes & Rare \\\\\n",
       "\t13 & Yes & Medium Well \\\\\n",
       "\t14 & Yes & Medium Well \\\\\n",
       "\t15 & Yes & Medium \\\\\n",
       "\t16 & Yes & Medium rare \\\\\n",
       "\t17 & Yes & Medium rare \\\\\n",
       "\t18 & Yes & Medium rare \\\\\n",
       "\t19 & Yes & Medium Well \\\\\n",
       "\t20 & Yes & Medium rare \\\\\n",
       "\t21 & Yes & Medium rare \\\\\n",
       "\t22 & Yes & Medium Well \\\\\n",
       "\t23 & Yes & Medium \\\\\n",
       "\t24 & Yes & Medium rare \\\\\n",
       "\t25 & Yes & Medium \\\\\n",
       "\t26 & Yes & Medium \\\\\n",
       "\t27 & Yes & Medium \\\\\n",
       "\t28 & Yes & Medium \\\\\n",
       "\t29 & Yes & Medium rare \\\\\n",
       "\t30 & Yes & Medium \\\\\n",
       "\t$\\dots$ & $\\dots$ & $\\dots$ \\\\\n",
       "\\end{tabular}\n"
      ],
      "text/plain": [
       "GroupedDataFrame with 1 group based on key: eats_steak\n",
       "First Group (430 rows): eats_steak = \"Yes\"\n",
       "│ Row │ eats_steak │ how_cooked  │\n",
       "│     │ \u001b[90mString\u001b[39m     │ \u001b[90mString\u001b[39m      │\n",
       "├─────┼────────────┼─────────────┤\n",
       "│ 1   │ Yes        │ Medium rare │\n",
       "│ 2   │ Yes        │ Rare        │\n",
       "│ 3   │ Yes        │ Medium      │\n",
       "│ 4   │ Yes        │ Medium      │\n",
       "│ 5   │ Yes        │ Medium rare │\n",
       "│ 6   │ Yes        │ Medium rare │\n",
       "│ 7   │ Yes        │ Medium      │\n",
       "│ 8   │ Yes        │ Medium rare │\n",
       "│ 9   │ Yes        │ Medium rare │\n",
       "│ 10  │ Yes        │ Medium rare │\n",
       "⋮\n",
       "│ 420 │ Yes        │ Medium Well │\n",
       "│ 421 │ Yes        │ Medium rare │\n",
       "│ 422 │ Yes        │ Medium rare │\n",
       "│ 423 │ Yes        │ Medium      │\n",
       "│ 424 │ Yes        │ Medium      │\n",
       "│ 425 │ Yes        │ Medium rare │\n",
       "│ 426 │ Yes        │ Medium Well │\n",
       "│ 427 │ Yes        │ Medium Well │\n",
       "│ 428 │ Yes        │ Medium rare │\n",
       "│ 429 │ Yes        │ Medium rare │\n",
       "│ 430 │ Yes        │ Medium      │"
      ]
     },
     "execution_count": 99,
     "metadata": {},
     "output_type": "execute_result"
    }
   ],
   "source": [
    "groupby(df_steak, :eats_steak)"
   ]
  },
  {
   "cell_type": "code",
   "execution_count": 101,
   "metadata": {},
   "outputs": [
    {
     "data": {
      "text/plain": [
       "5-element Array{String,1}:\n",
       " \"Medium rare\"\n",
       " \"Rare\"       \n",
       " \"Medium\"     \n",
       " \"Medium Well\"\n",
       " \"Well\"       "
      ]
     },
     "execution_count": 101,
     "metadata": {},
     "output_type": "execute_result"
    }
   ],
   "source": [
    "nb_preferences = unique(df_steak[:, :how_cooked])\n"
   ]
  },
  {
   "cell_type": "code",
   "execution_count": 119,
   "metadata": {},
   "outputs": [
    {
     "data": {
      "text/html": [
       "<table class=\"data-frame\"><thead><tr><th></th><th>how_cooked</th><th>nb_people</th></tr><tr><th></th><th>String</th><th>Int64</th></tr></thead><tbody><p>5 rows × 2 columns</p><tr><th>1</th><td>Medium rare</td><td>166</td></tr><tr><th>2</th><td>Rare</td><td>23</td></tr><tr><th>3</th><td>Medium</td><td>132</td></tr><tr><th>4</th><td>Medium Well</td><td>74</td></tr><tr><th>5</th><td>Well</td><td>35</td></tr></tbody></table>"
      ],
      "text/latex": [
       "\\begin{tabular}{r|cc}\n",
       "\t& how\\_cooked & nb\\_people\\\\\n",
       "\t\\hline\n",
       "\t& String & Int64\\\\\n",
       "\t\\hline\n",
       "\t1 & Medium rare & 166 \\\\\n",
       "\t2 & Rare & 23 \\\\\n",
       "\t3 & Medium & 132 \\\\\n",
       "\t4 & Medium Well & 74 \\\\\n",
       "\t5 & Well & 35 \\\\\n",
       "\\end{tabular}\n"
      ],
      "text/plain": [
       "5×2 DataFrame\n",
       "│ Row │ how_cooked  │ nb_people │\n",
       "│     │ \u001b[90mString\u001b[39m      │ \u001b[90mInt64\u001b[39m     │\n",
       "├─────┼─────────────┼───────────┤\n",
       "│ 1   │ Medium rare │ 166       │\n",
       "│ 2   │ Rare        │ 23        │\n",
       "│ 3   │ Medium      │ 132       │\n",
       "│ 4   │ Medium Well │ 74        │\n",
       "│ 5   │ Well        │ 35        │"
      ]
     },
     "execution_count": 119,
     "metadata": {},
     "output_type": "execute_result"
    }
   ],
   "source": [
    "\n",
    "df_count = by(df_steak, :how_cooked, nb_people = :how_cooked => length)"
   ]
  },
  {
   "cell_type": "code",
   "execution_count": 112,
   "metadata": {},
   "outputs": [
    {
     "name": "stdout",
     "output_type": "stream",
     "text": [
      "\u001b[32m\u001b[1m Resolving\u001b[22m\u001b[39m package versions...\n",
      "\u001b[32m\u001b[1m  Updating\u001b[22m\u001b[39m `C:\\Users\\Owner\\.julia\\environments\\v1.2\\Project.toml`\n",
      "\u001b[90m [no changes]\u001b[39m\n",
      "\u001b[32m\u001b[1m  Updating\u001b[22m\u001b[39m `C:\\Users\\Owner\\.julia\\environments\\v1.2\\Manifest.toml`\n",
      "\u001b[90m [no changes]\u001b[39m\n"
     ]
    }
   ],
   "source": [
    "#import Pkg\n",
    "#Pkg.add(\"PyPlot\")"
   ]
  },
  {
   "cell_type": "code",
   "execution_count": 130,
   "metadata": {},
   "outputs": [
    {
     "data": {
      "image/png": "[encoded data removed]",
      "text/plain": [
       "Figure(PyObject <Figure size 640x480 with 1 Axes>)"
      ]
     },
     "metadata": {},
     "output_type": "display_data"
    },
    {
     "data": {
      "text/plain": [
       "PyObject Text(0.5, 1, 'how do you like your steak')"
      ]
     },
     "execution_count": 130,
     "metadata": {},
     "output_type": "execute_result"
    }
   ],
   "source": [
    "using PyPlot\n",
    "figure()\n",
    "barh(1:nrow(df_count), df_count[:, :nb_people])\n",
    "yticks(1:nrow(df_count), df_count[:, :how_cooked])\n",
    "xlabel(\"# eaters\")\n",
    "title(\"how do you like your steak\")"
   ]
  },
  {
   "cell_type": "code",
   "execution_count": null,
   "metadata": {},
   "outputs": [],
   "source": []
  }
 ],
 "metadata": {
  "kernelspec": {
   "display_name": "Julia 1.2.0",
   "language": "julia",
   "name": "julia-1.2"
  },
  "language_info": {
   "file_extension": ".jl",
   "mimetype": "application/julia",
   "name": "julia",
   "version": "1.2.0"
  }
 },
 "nbformat": 4,
 "nbformat_minor": 2
}
