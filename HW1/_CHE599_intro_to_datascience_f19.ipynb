{
 "cells": [
  {
   "cell_type": "code",
   "execution_count": null,
   "metadata": {},
   "outputs": [],
   "source": [
    "import Pkg\n",
    "Pkg.add(\"StatsBase\")\n",
    "\n",
    "using Random #for the \"Shuffle!\" function \n",
    "using StatsBase # for the \"sample\" function \n"
   ]
  },
  {
   "cell_type": "code",
   "execution_count": null,
   "metadata": {},
   "outputs": [],
   "source": [
    "Door = [1, 0, 0] #constructs an array of 3 doors with one door contaning a car(1) and 2 goats(0)\n",
    "\n",
    "function set_up_doors(Door)\n",
    "    shuffle!(Door)\n",
    "    return Door\n",
    "end\n",
    "\n",
    "Door = set_up_doors(Door)"
   ]
  },
  {
   "cell_type": "code",
   "execution_count": null,
   "metadata": {},
   "outputs": [],
   "source": [
    "\n",
    "function pick_a_door_at_random(x) #randomly picks a value between 1 & 3 to signify which door the contestant has chosen \n",
    "    x = rand(1:3)\n",
    "    return x\n",
    "end \n",
    "\n",
    "x = pick_a_door_at_random(x)"
   ]
  },
  {
   "cell_type": "code",
   "execution_count": null,
   "metadata": {},
   "outputs": [],
   "source": [
    "\n",
    "function open_a_door!(Door::Array{Int64,1}, x::Int)\n",
    "    Door[x] = 2 #replaces the value of the contestant picked door with 2 \n",
    "    y = findall(Door-> (Door == 1), x)\n",
    "    Door[y] = 2 \n",
    "    \n",
    "    return Door  \n",
    "end \n",
    "    \n",
    "open = open_a_door!(Door, x)"
   ]
  },
  {
   "cell_type": "code",
   "execution_count": null,
   "metadata": {},
   "outputs": [],
   "source": []
  }
 ],
 "metadata": {
  "kernelspec": {
   "display_name": "Julia 1.2.0",
   "language": "julia",
   "name": "julia-1.2"
  },
  "language_info": {
   "file_extension": ".jl",
   "mimetype": "application/julia",
   "name": "julia",
   "version": "1.2.0"
  }
 },
 "nbformat": 4,
 "nbformat_minor": 2
}
