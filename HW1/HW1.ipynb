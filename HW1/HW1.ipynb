{
 "cells": [
  {
   "cell_type": "markdown",
   "metadata": {},
   "source": [
    "# Homework 1: Monty Hall \n"
   ]
  },
  {
   "cell_type": "markdown",
   "metadata": {},
   "source": [
    "# Import \n"
   ]
  },
  {
   "cell_type": "code",
   "execution_count": 1,
   "metadata": {},
   "outputs": [],
   "source": [
    "using Random #for the \"Shuffle!\" function \n",
    "using StatsBase # for the \"sample\" function \n"
   ]
  },
  {
   "cell_type": "markdown",
   "metadata": {},
   "source": [
    "# Settings "
   ]
  },
  {
   "cell_type": "code",
   "execution_count": 2,
   "metadata": {},
   "outputs": [],
   "source": [
    "number_doors = 3 \n",
    "num_simulation = 1000; "
   ]
  },
  {
   "cell_type": "markdown",
   "metadata": {},
   "source": [
    "\n",
    "# mutable structure \n"
   ]
  },
  {
   "cell_type": "markdown",
   "metadata": {},
   "source": [
    "create a mutable structure Door to represent a door with 2 attributes: \n",
    "    #whether or not it has been opened by the game show host \n",
    "    #what is behinf the door (goat or car)\n",
    "    #it needs to be mutable so that the game show host can open it "
   ]
  },
  {
   "cell_type": "code",
   "execution_count": 3,
   "metadata": {},
   "outputs": [],
   "source": [
    "behind_the_door = Set{Symbol}([:goat, :car])  #setting up what will be behind the door\n",
    "\n",
    "mutable struct Door \n",
    "    open::Bool  #dictates whether door is open or closed. Open = true  False = True \n",
    "    contains::Symbol  #this is what is behind the door (car or goat)\n",
    "    \n",
    "  \n",
    "end \n",
    "    "
   ]
  },
  {
   "cell_type": "markdown",
   "metadata": {},
   "source": [
    "# Functions"
   ]
  },
  {
   "cell_type": "markdown",
   "metadata": {},
   "source": [
    "# pick_a_door_at_random()"
   ]
  },
  {
   "cell_type": "markdown",
   "metadata": {},
   "source": [
    "returns an interger (1, 2, 3) at random, representing the door that the contestant chose."
   ]
  },
  {
   "cell_type": "code",
   "execution_count": 4,
   "metadata": {},
   "outputs": [
    {
     "data": {
      "text/plain": [
       "2"
      ]
     },
     "execution_count": 4,
     "metadata": {},
     "output_type": "execute_result"
    }
   ],
   "source": [
    "\n",
    "function pick_a_door_at_random()  \n",
    "    door_id_pick = (rand(1:number_doors)) #randomly picks a value 1-3 to signify which door the contestant has chosen\n",
    "    return door_id_pick\n",
    "end\n",
    "\n",
    "door_id_pick = pick_a_door_at_random()"
   ]
  },
  {
   "cell_type": "markdown",
   "metadata": {},
   "source": [
    "# set_up_door()"
   ]
  },
  {
   "cell_type": "markdown",
   "metadata": {},
   "source": [
    "set up a function that constructs and returns an array of three Doors(Array{Door}) such that \n",
    "    #two doors have a goat behind them \n",
    "    #one door has a car behind it \n",
    "    #which door has the car is chosen at uniform random \n",
    "    #all doors are unopened "
   ]
  },
  {
   "cell_type": "code",
   "execution_count": 5,
   "metadata": {},
   "outputs": [
    {
     "data": {
      "text/plain": [
       "3-element Array{Door,1}:\n",
       " Door(false, :car) \n",
       " Door(false, :goat)\n",
       " Door(false, :goat)"
      ]
     },
     "execution_count": 5,
     "metadata": {},
     "output_type": "execute_result"
    }
   ],
   "source": [
    "\n",
    "function set_up_doors() #sets up the doors(2 goat, 1 car) all doors should be closed \n",
    "    doors = [Door(false, :goat) for _ in 1:number_doors]\n",
    "    doors[pick_a_door_at_random()].contains = :car #uses the pick_a_door_at_random() function to put a car behind one of the doors \n",
    "    return doors \n",
    "end\n",
    "\n",
    "doors = set_up_doors()"
   ]
  },
  {
   "cell_type": "markdown",
   "metadata": {},
   "source": [
    "# open_a_door(doors::Array{Door}, first_door_id_pick::Int)"
   ]
  },
  {
   "cell_type": "markdown",
   "metadata": {},
   "source": [
    "\n",
    "    #the door that the contestant picked is not opened \n",
    "    #the door with the car is not opened \n",
    "    #if two doors are viable to open, pick one at uniform random "
   ]
  },
  {
   "cell_type": "code",
   "execution_count": 6,
   "metadata": {},
   "outputs": [
    {
     "data": {
      "text/plain": [
       "open_a_door! (generic function with 1 method)"
      ]
     },
     "execution_count": 6,
     "metadata": {},
     "output_type": "execute_result"
    }
   ],
   "source": [
    "\n",
    "function open_a_door!(doors::Array{Door}, first_door_id_pick::Int64)\n",
    "    #this determines which door the host should open (not the contestants not the one with a car)\n",
    "    valid_doors = Array(1:number_doors)\n",
    "    deleteat!(valid_doors, valid_doors .== first_door_id_pick) #taking the door the contestant choose out \n",
    "    deleteat!(valid_doors,  [doors[i].contains == :car for i in valid_doors]) #taking the door with the car out (if not the same as the door the contestent choose)\n",
    "        if length(valid_doors) == 1 #if there is only one door left open that door \n",
    "            doors[valid_doors[1]].open = true\n",
    "            return doors[valid_doors[1]]\n",
    "        else #if there are 2 doors left (i.e the contestant choose the door with a car) randomly choose one of the remaining doors\n",
    "            which_door = rand(valid_doors)\n",
    "            doors[which_door].open = true\n",
    "            return which_door\n",
    "        end\n",
    "    \n",
    "end\n",
    "\n"
   ]
  },
  {
   "cell_type": "markdown",
   "metadata": {},
   "source": [
    "\n",
    "# switch_door_pick()"
   ]
  },
  {
   "cell_type": "markdown",
   "metadata": {},
   "source": [
    "returns the index in {1, 2, 3} of the door that the contestant must pick if he/she switches from his/her initial door choice to the other upopened door. It is assumed in this function that one of the Doors passed has been opened by the game host and has a goat behind it. "
   ]
  },
  {
   "cell_type": "code",
   "execution_count": 7,
   "metadata": {},
   "outputs": [
    {
     "data": {
      "text/plain": [
       "switch_door_pick (generic function with 1 method)"
      ]
     },
     "execution_count": 7,
     "metadata": {},
     "output_type": "execute_result"
    }
   ],
   "source": [
    "\n",
    "function switch_door_pick(doors::Array{Door}, first_door_id_pick::Int)\n",
    "    #this function gets called if the contestent chooses to switch doors \n",
    "    switch_door = Array(1:number_doors)\n",
    "    deleteat!(switch_door, [d.open for d in doors]) #takes the door that the host opened out of the options \n",
    "    deleteat!(switch_door, switch_door .== first_door_id_pick) #takes the origionally chosen door out of the options \n",
    "    return switch_door #this is the door the contestant can switch to \n",
    "end\n",
    "\n"
   ]
  },
  {
   "cell_type": "markdown",
   "metadata": {},
   "source": [
    "# contestant_wins_car(doors::array{Door}, door_id_pick::Int)"
   ]
  },
  {
   "cell_type": "markdown",
   "metadata": {},
   "source": [
    "returnns true if the contestant picked the door with the car behind it and false otherwise "
   ]
  },
  {
   "cell_type": "code",
   "execution_count": 8,
   "metadata": {},
   "outputs": [
    {
     "data": {
      "text/plain": [
       "contestant_wins_car (generic function with 1 method)"
      ]
     },
     "execution_count": 8,
     "metadata": {},
     "output_type": "execute_result"
    }
   ],
   "source": [
    "function contestant_wins_car(doors::Array{Door}, door_id_pick)\n",
    "    #this function states wether the contestant one the car when the final discion is made \n",
    "    if doors[door_id_pick].contains == :car \n",
    "        return true \n",
    "    else\n",
    "        return false  \n",
    "    end \n",
    "end \n",
    "\n"
   ]
  },
  {
   "cell_type": "markdown",
   "metadata": {},
   "source": [
    "# simulate_Monte_Hall(switch::Bool; verbose::Bool=true)"
   ]
  },
  {
   "cell_type": "markdown",
   "metadata": {},
   "source": [
    "Uses all above functions to simulate the Monte Hall game.\n",
    "    #returns true if the contestant wins and false otherwise \n",
    "    #switch argument specifies whether the contestant uses the strategy to switch doors.\n",
    "    #verbose arguement specifies whether the function (for debugging and illustration) print off details of the outcome\n",
    "        #what is behind each door \n",
    "        #what door the contestant picked \n",
    "        #what door the game show host opened to reveal goat\n",
    "        #(if applicable) the choice of the door after the contestant switches \n",
    "        #if contestant won or lost"
   ]
  },
  {
   "cell_type": "code",
   "execution_count": 9,
   "metadata": {},
   "outputs": [
    {
     "name": "stdout",
     "output_type": "stream",
     "text": [
      "Door[Door(false, :car), Door(false, :goat), Door(false, :goat)]\n"
     ]
    }
   ],
   "source": [
    "println(doors)"
   ]
  },
  {
   "cell_type": "code",
   "execution_count": 10,
   "metadata": {},
   "outputs": [
    {
     "name": "stdout",
     "output_type": "stream",
     "text": [
      "Door[Door(false, :car), Door(false, :goat), Door(false, :goat)]\n"
     ]
    }
   ],
   "source": [
    "#this will help when printing out the results of the simulation win=true lose=false \n",
    "do_they_win = Dict{Bool, String}(true => \"The Contestant Wins!\", false => \"The Contestant Loses\") \n",
    "\n",
    "\n",
    "function simulate_Monte_Hall(switch::Bool, verbose::Bool=true)\n",
    "    #this function performs the simulation by calling all of the functions \n",
    "    doors = set_up_doors()\n",
    "    first_door_id_pick = pick_a_door_at_random()\n",
    "    host_pick = open_a_door!(doors, first_door_id_pick)\n",
    "    \n",
    "    if switch \n",
    "        #if the simulation is running with the contestant switching doors \n",
    "        switch_pick = switch_door_pick(doors, first_door_id_pick)\n",
    "        outcome = contestant_wins_car(doors, switch_pick)\n",
    "    else \n",
    "        #if the simulation is running with the contestant sticking with the original door \n",
    "        outcome = contestant_wins_car(doors, first_door_id_pick)\n",
    "    \n",
    "    end\n",
    "\n",
    "    \n",
    "    if verbose \n",
    "        \n",
    "        #this is for printing out all of the results \n",
    "        for (i, d) in enumerate(doors)\n",
    "                #goes through each door and pulls out the number and what is behind the door \n",
    "                println(\"Behind door #\", i, \" is a \", d.contains)\n",
    "        end\n",
    "        println(\"Contestant picked Door #\", first_door_id_pick) \n",
    "        println(\"The game show host picked Door #\", host_pick)\n",
    "        switch ? \n",
    "            #this will only run if the contestant switched doors \n",
    "            println(\"Contestant switched to Door #\", switch_pick[1]) : print(\"Contestant keeps Door #\", first_door_id_pick )\n",
    "        println(do_they_win[outcome])\n",
    "    end\n",
    "   \n",
    "    return outcome \n",
    "end\n",
    "\n",
    "println(doors)"
   ]
  },
  {
   "cell_type": "markdown",
   "metadata": {},
   "source": [
    "# Simulation "
   ]
  },
  {
   "cell_type": "markdown",
   "metadata": {},
   "source": [
    "Run 1000 simulations of the Monte Hall problem under the two stategies. Print off how many times the contestant won under both of the strategies. "
   ]
  },
  {
   "cell_type": "code",
   "execution_count": 11,
   "metadata": {},
   "outputs": [
    {
     "ename": "ErrorException",
     "evalue": "type Array has no field contains",
     "output_type": "error",
     "traceback": [
      "type Array has no field contains",
      "",
      "Stacktrace:",
      " [1] getproperty(::Any, ::Symbol) at .\\Base.jl:20",
      " [2] contestant_wins_car(::Array{Door,1}, ::Array{Int64,1}) at .\\In[8]:3",
      " [3] simulate_Monte_Hall(::Bool, ::Bool) at .\\In[10]:14",
      " [4] top-level scope at .\\In[11]:17"
     ]
    }
   ],
   "source": [
    "#running the simulation! \n",
    "\n",
    "#which way will the simulation be ran? \n",
    "strategies = Dict{Bool, String}(\n",
    "    true => \"Switch Doors\",\n",
    "    false => \"Sticking with the original door\")\n",
    "\n",
    "#tracks the number of wins for each simulation \n",
    "wins = Dict{Bool, Int}(\n",
    "    true => 0, \n",
    "    false => 0)\n",
    "\n",
    "number_switches = length(strategies) #tracks how many switches happen. Should be the same as number of simulation \n",
    "    for s in 1:num_simulation #runs for however many simulations are ran \n",
    "        for switch in keys(wins) \n",
    "            #switch will be true(switch doors) then false(keep original door)\n",
    "            wins[switch] += simulate_Monte_Hall(switch, false) #dont want to print all 1000 outcomes so verbose = false\n",
    "        end\n",
    "    end\n",
    "\n",
    "print(\"In this simulation there were \")\n",
    "for (n, switch) in enumerate(keys(wins)) \n",
    "    #will pull all of the information from the wins dictionary i = true or false, switch = # of wins for each stategy \n",
    "    num_wins = wins[switch] #number wins for each strategy \n",
    "    percent = 100 * Float64(num_wins)/Float64(num_simulation) #percentage of wins for each strategy \n",
    "    strategy = strategies[switch] #gives the string that says what stratedy was used \n",
    "    print(num_wins, \" wins \", \"(\", percent, \"%) from \", strategy)\n",
    "    (n < number_switches) ? print(\"and\") : print(\".\")\n",
    "    \n",
    "end\n",
    "    "
   ]
  },
  {
   "cell_type": "code",
   "execution_count": null,
   "metadata": {},
   "outputs": [],
   "source": []
  }
 ],
 "metadata": {
  "kernelspec": {
   "display_name": "Julia 1.2.0",
   "language": "julia",
   "name": "julia-1.2"
  },
  "language_info": {
   "file_extension": ".jl",
   "mimetype": "application/julia",
   "name": "julia",
   "version": "1.2.0"
  }
 },
 "nbformat": 4,
 "nbformat_minor": 2
}
