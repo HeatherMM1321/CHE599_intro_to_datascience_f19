{
 "cells": [
  {
   "cell_type": "markdown",
   "metadata": {},
   "source": [
    "# Homework 1: Monty Hall \n"
   ]
  },
  {
   "cell_type": "markdown",
   "metadata": {},
   "source": [
    "# Import \n"
   ]
  },
  {
   "cell_type": "code",
   "execution_count": null,
   "metadata": {},
   "outputs": [],
   "source": [
    "using Random #for the \"Shuffle!\" function \n",
    "using StatsBase # for the \"sample\" function \n"
   ]
  },
  {
   "cell_type": "markdown",
   "metadata": {},
   "source": [
    "# Settings "
   ]
  },
  {
   "cell_type": "code",
   "execution_count": null,
   "metadata": {},
   "outputs": [],
   "source": [
    "number_doors = 3 \n",
    "num_simulation = 1000; "
   ]
  },
  {
   "cell_type": "markdown",
   "metadata": {},
   "source": [
    "\n",
    "# mutable structure \n"
   ]
  },
  {
   "cell_type": "markdown",
   "metadata": {},
   "source": [
    "create a mutable structure Door to represent a door with 2 attributes: \n",
    "    #whether or not it has been opened by the game show host \n",
    "    #what is behinf the door (goat or car)\n",
    "    #it needs to be mutable so that the game show host can open it "
   ]
  },
  {
   "cell_type": "code",
   "execution_count": null,
   "metadata": {},
   "outputs": [],
   "source": [
    "behind_the_door = Set{Symbol}([:goat, :car])\n",
    "\n",
    "mutable struct Door \n",
    "    open::Bool \n",
    "    contains::Symbol \n",
    "    \n",
    "  \n",
    "end \n",
    "    "
   ]
  },
  {
   "cell_type": "markdown",
   "metadata": {},
   "source": [
    "# Functions"
   ]
  },
  {
   "cell_type": "markdown",
   "metadata": {},
   "source": [
    "# pick_a_door_at_random()"
   ]
  },
  {
   "cell_type": "markdown",
   "metadata": {},
   "source": [
    "returns an interger (1, 2, 3) at random, representing the door that the contestant chose."
   ]
  },
  {
   "cell_type": "code",
   "execution_count": null,
   "metadata": {},
   "outputs": [],
   "source": [
    "\n",
    "function pick_a_door_at_random() #randomly picks a value between 1 & 3 to signify which door the contestant has chosen \n",
    "    first_door_id_pick = rand(1:number_doors)\n",
    "    return first_door_id_pick\n",
    "end\n",
    "\n",
    "pick_a_door_at_random()"
   ]
  },
  {
   "cell_type": "markdown",
   "metadata": {},
   "source": [
    "# set_up_door()"
   ]
  },
  {
   "cell_type": "markdown",
   "metadata": {},
   "source": [
    "set up a function that constructs and returns an array of three Doors(Array{Door}) such that \n",
    "    #two doors have a goat behind them \n",
    "    #one door has a car behind it \n",
    "    #which door has the car is chosen at uniform random \n",
    "    #all doors are unopened "
   ]
  },
  {
   "cell_type": "code",
   "execution_count": null,
   "metadata": {},
   "outputs": [],
   "source": [
    "\n",
    "function set_up_doors()\n",
    "    doors = [Door(false, :goat) for _ in 1:number_doors]\n",
    "    doors[pick_a_door_at_random()].contains = :car\n",
    "    return doors \n",
    "end\n",
    "\n",
    "set_up_doors()"
   ]
  },
  {
   "cell_type": "markdown",
   "metadata": {},
   "source": [
    "# open_a_door(doors::Array{Door}, first_door_id_pick::Int)"
   ]
  },
  {
   "cell_type": "markdown",
   "metadata": {},
   "source": [
    "\n",
    "    #the door that the contestant picked is not opened \n",
    "    #the door with the car is not opened \n",
    "    #if two doors are viable to open, pick one at uniform random "
   ]
  },
  {
   "cell_type": "code",
   "execution_count": null,
   "metadata": {},
   "outputs": [],
   "source": [
    "\n",
    "function open_a_door!(doors::Array{Door}, first_door_id_pick::Int)\n",
    "    valid_doors = Array(1:number_doors)\n",
    "    deleteat!(valid_doors, valid_doors .== first_door_id_pick)\n",
    "    deleteat!(valid_doors,  [doors[i].contains == :car for i in valid_doors])\n",
    "        if length(valid_doors) == 1\n",
    "            doors[valid_doors[1]].open = true\n",
    "            return doors[valid_doors[1]]\n",
    "        else\n",
    "            which_door = rand(valid_doors)\n",
    "            doors[which_door].open = true\n",
    "            return which_door\n",
    "        end\n",
    "    \n",
    "end\n",
    "\n",
    "open_a_door!(doors, first_door_id_pick)\n"
   ]
  },
  {
   "cell_type": "markdown",
   "metadata": {},
   "source": [
    "\n",
    "# switch_door_pick()"
   ]
  },
  {
   "cell_type": "markdown",
   "metadata": {},
   "source": [
    "returns the index in {1, 2, 3} of the door that the contestant must pick if he/she switches from his/her initial door choice to the other upopened door. It is assumed in this function that one of the Doors passed has been opened by the game host and has a goat behind it. "
   ]
  },
  {
   "cell_type": "code",
   "execution_count": null,
   "metadata": {},
   "outputs": [],
   "source": [
    "\n",
    "function switch_door_pick(doors::Array{Door}, first_door_id_pick::Int)\n",
    "    switch_door = Array(1:number_doors)\n",
    "    deleteat!(switch_door, [d.open for d in doors])\n",
    "    return switch_door\n",
    "end\n"
   ]
  },
  {
   "cell_type": "markdown",
   "metadata": {},
   "source": [
    "# contestant_wins_car(doors::array{Door}, door_id_pick::Int)"
   ]
  },
  {
   "cell_type": "markdown",
   "metadata": {},
   "source": [
    "returnns true if the contestant picked the door with the car behind it and false otherwise "
   ]
  },
  {
   "cell_type": "code",
   "execution_count": null,
   "metadata": {},
   "outputs": [],
   "source": [
    "function contestant_wins_car(doors::Array{Door}, first_door_id_pick::Int)\n",
    "    if doors[first_door_id_pick].contains == :car \n",
    "        return true \n",
    "    else\n",
    "        return false  \n",
    "    end \n",
    "end \n"
   ]
  },
  {
   "cell_type": "markdown",
   "metadata": {},
   "source": [
    "# simulate_Monte_Hall(switch::Bool; verbose::Bool=true)"
   ]
  },
  {
   "cell_type": "markdown",
   "metadata": {},
   "source": [
    "Uses all above functions to simulate the Monte Hall game.\n",
    "    #returns true if the contestant wins and false otherwise \n",
    "    #switch argument specifies whether the contestant uses the strategy to switch doors.\n",
    "    #verbose arguement specifies whether the function (for debugging and illustration) print off details of the outcome\n",
    "        #what is behind each door \n",
    "        #what door the contestant picked \n",
    "        #what door the game show host opened to reveal goat\n",
    "        #(if applicable) the choice of the door after the contestant switches \n",
    "        #if contestant won or lost"
   ]
  },
  {
   "cell_type": "code",
   "execution_count": null,
   "metadata": {},
   "outputs": [],
   "source": [
    "do_they_win = Dict{Bool, String}(true => \"Contestant Wins!\", false => \"Contestant Loses\") \n",
    "\n",
    "function simulate_Monte_Hall(switch::Bool; verbose::Bool=true)\n",
    "    doors = set_up_doors()\n",
    "    first_door_id_pick = pick_a_door_at_random()\n",
    "    open_a_door!(doors, first_door_id_pick)\n",
    "    \n",
    "    if switch \n",
    "        switch_pick = switch_door_pick(doors, first_door_id_pick)\n",
    "        outcome = contestant_wins_car(doors, switch_pick)\n",
    "    else \n",
    "        outcome = contestant_wins_car(doors, first_door_id_pick)\n",
    "        \n",
    "    if verbose \n",
    "        for (num, thing) in enumerate(doors)\n",
    "                println(\"Behind door #\", num, \"is a\", thing.contains)\n",
    "        end\n",
    "        println(\"Contestant picked Door #\", first_door_id_pick)\n",
    "        println(\"The game show host picked Door #\", )\n",
    "        "
   ]
  }
 ],
 "metadata": {
  "kernelspec": {
   "display_name": "Julia 1.2.0",
   "language": "julia",
   "name": "julia-1.2"
  },
  "language_info": {
   "file_extension": ".jl",
   "mimetype": "application/julia",
   "name": "julia",
   "version": "1.2.0"
  }
 },
 "nbformat": 4,
 "nbformat_minor": 2
}
