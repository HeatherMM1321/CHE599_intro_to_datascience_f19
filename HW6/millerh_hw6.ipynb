{
 "cells": [
  {
   "cell_type": "markdown",
   "metadata": {},
   "source": [
    "# hw 6: estimators\n",
    "learning objectives:\n",
    "* solidify \"what is an estimator\"\n",
    "* evaluate the effectiveness of an estimator computationally (through simulation)\n",
    "* understand the notion of unbiasedness, consistency, and efficiency of an estimator and evaluate these qualities computationally (through simulation)"
   ]
  },
  {
   "cell_type": "code",
   "execution_count": 45,
   "metadata": {},
   "outputs": [],
   "source": [
    "using StatsBase\n",
    "using Random\n",
    "using Statistics\n",
    "using PyPlot\n",
    "using Random \n"
   ]
  },
  {
   "cell_type": "markdown",
   "metadata": {},
   "source": [
    "### what is the most important problem in your field?\n",
    "\n",
    "(0) It is important to effectively communicate with people from different fields. Introduce yourself to someone in the class from a different field of study (someone you haven't met). Ask them, \"what is the most important problem in your field of study?\". Then, argue/explain what you think is the most important problem in *your* field of study.\n",
    "\n",
    "Write the name of the student you spoke with and their field of study.\n",
    "\n",
    "I'd also be interested to read about what you think is the most important problem in your field (a few sentences), but this is not required.\n",
    "\n",
    "(\"field of study\" can be as general as \"chemistry\" or as specific as \"self-assembly of nanoparticles\".)"
   ]
  },
  {
   "cell_type": "markdown",
   "metadata": {},
   "source": [
    "Mick Carter: Works in the field of combustion but more specificly detenation cell size measurments. Although he doesnt work very much on it Mick says that the most important problem in his field is energy conservation and renewable energy sources.\n",
    "\n",
    "I work in Engineering Design, but more specifically, Humanitarian Engineering. I would say that the biggest problem in my field is working to find ways to design solutions that are appropriate not only for the problem but also for the individuals that we are desgining for. This is often not given enough consideration which leads to culturally inapporpriate solutions that inevitably fail. "
   ]
  },
  {
   "cell_type": "markdown",
   "metadata": {},
   "source": [
    "### counting\n",
    "(1) A biologist takes a random sample of six fish from a lake. The lake has ten distinct species of fish. It is possible for the biologist to select more than one fish of any given species. e.g., one outcome is: one fish of species $X$, two fish of species $Y$, and four fish of species $Z$. How many different samples could the biologist draw from the lake?\n",
    "* the sampling is done without replacement, but this is irrelevant since the lake contains more than six fish of each species\n",
    "* the order in which the fish are sampled does not matter\n",
    "* fish of a given species are indistinguishable"
   ]
  },
  {
   "cell_type": "markdown",
   "metadata": {},
   "source": [
    " ((n+k-1)/(k-1)) = (n+k-1)!/((k-1)!n!) =  (10+6-1)!/((6-1)!10!) = 3003"
   ]
  },
  {
   "cell_type": "markdown",
   "metadata": {},
   "source": [
    "### capture, mark, release, recapture\n",
    "\n",
    "In ecology, one wishes to estimate the size of a population (e.g. turtles). It is too costly and impractical to count *every* member of a population. One strategy is to:\n",
    "1. capture a random sample from the population, without replacement\n",
    "2. mark/tag each member of this random sample\n",
    "3. release the marked sample back into the population\n",
    "4. after sufficient time has passed, recapture another sample\n",
    "5. count the number of marked members from the recaptured sample\n",
    "\n",
    "We assume that:\n",
    "* when the captured and marked sample is released back into the wild, they randomly (homogenously) mix with the rest of the (unmarked) population before we recapture\n",
    "* marking a member of the population does not change its likelihood of being recaptured\n",
    "* the time between capture/mark/release and recapture/count is short enough to neglect deaths, births, and migration out of the population\n",
    "\n",
    "define the variables:\n",
    "* $n$: the total number of turtles in the population (unknown)\n",
    "* $k$: number of turtles captured, marked, and released in the first phase\n",
    "* $k_r$: number of turtles recaptured\n",
    "* $m$: the number of recaptured turtles that had marks on them\n",
    "\n",
    "##### Lincoln-Petersen estimator\n",
    "A very intuitive estimator is found by imposing that the proportion found marked in the recaptured sample is equal to the proportion of the population that was captured/marked/released in the first phase.\n",
    "\n",
    "\\begin{equation}\n",
    "\\frac{k}{n}=\\frac{m}{k_r}\n",
    "\\end{equation}\n",
    "\n",
    "giving the Lincoln-Petersen estimator for the population size $n$:\n",
    "\\begin{equation}\n",
    "\\hat{n} = \\frac{k k_r}{m}\n",
    "\\end{equation}\n",
    "\n",
    "##### Chapmen estimator\n",
    "Chapmen derived a different estimator that we will compare to the Lincoln-Petersen estimator below.\n",
    "\\begin{equation}\n",
    "\\hat{n} = \\frac{(k + 1) (k_r +1)}{m+1} - 1\n",
    "\\end{equation}\n",
    "\n",
    "#### estimating the population of turtles on a small island\n",
    "We wish to estimate the population of turtles on a small island by a capture, mark, release, and recapture strategy.\n",
    "\n",
    "(2) create a mutable data structure `Turtle` that represents a turtle in the population. It should have a single attribute, `marked`, that indicates whether it has been marked or not."
   ]
  },
  {
   "cell_type": "code",
   "execution_count": 33,
   "metadata": {},
   "outputs": [],
   "source": [
    "\n",
    "mutable struct Turtle \n",
    "    #marked = 0 is unmarked \n",
    "    #marked = 1 turtle is marked\n",
    "    marked::Int\n",
    "end \n"
   ]
  },
  {
   "cell_type": "markdown",
   "metadata": {},
   "source": [
    "(3) write a function `create_population(nb_turtles::Int)` that creates a population of `nb_turtles` unmarked `Turtle`s. return the turtles as an `Array{Turtle}`."
   ]
  },
  {
   "cell_type": "code",
   "execution_count": 34,
   "metadata": {
    "scrolled": false
   },
   "outputs": [
    {
     "data": {
      "text/plain": [
       "create_population (generic function with 1 method)"
      ]
     },
     "execution_count": 34,
     "metadata": {},
     "output_type": "execute_result"
    }
   ],
   "source": [
    "function create_population(nb_turtles::Int)\n",
    "    #creates an array of unmrked turtles\n",
    "    return[Turtle(0) for s= 1:nb_turtles]\n",
    "        \n",
    "end\n"
   ]
  },
  {
   "cell_type": "markdown",
   "metadata": {},
   "source": [
    "(4) write a function `count_marked(turtles::Array{Turtle})` that takes in a population of turtles and returns the number of these turtles that are marked. \n",
    "\n",
    "```julia\n",
    "turtles = create_population(500)\n",
    "count_marked(turtles) # should return zero\n",
    "```"
   ]
  },
  {
   "cell_type": "code",
   "execution_count": 35,
   "metadata": {},
   "outputs": [
    {
     "data": {
      "text/plain": [
       "count_marked (generic function with 1 method)"
      ]
     },
     "execution_count": 35,
     "metadata": {},
     "output_type": "execute_result"
    }
   ],
   "source": [
    "function count_marked(turtles::Array{Turtle})\n",
    "    marked_turtles = 0 \n",
    "    for (i, turt) in enumerate(turtles)\n",
    "        #the turtle marked indication should only be a 1 or 0 \n",
    "        #could use more checks here \n",
    "        if turtles[i].marked > 1 \n",
    "            print(\"Turtle $i was marked incorrectly, counting was not completed!\")\n",
    "            #stops counting if a turtle was marked incorrectly \n",
    "            break \n",
    "        end\n",
    "        #adding 1 for every marked turtle \n",
    "        marked_turtles += turtles[i].marked\n",
    "    end\n",
    "   return marked_turtles\n",
    "end\n"
   ]
  },
  {
   "cell_type": "markdown",
   "metadata": {},
   "source": [
    "(5) write a function `capture_mark_release!` that takes in two arguments:\n",
    "* `turtles::Array{Turtle}` the population of turtles\n",
    "* `nb_capture_mark_release::Int` the number of turtles to randomly capture (select without replacement) and mark\n",
    "\n",
    "and modifies the `marked` attribute of `nb_capture_mark_release` randomly selected turtles in `turtles` to denote that they have been marked. think about why the function has an `!`.\n",
    "\n",
    "```julia\n",
    "turtles = create_population(500)\n",
    "capture_mark_release!(turtles, 45)\n",
    "count_marked(turtles) # should return 45\n",
    "```"
   ]
  },
  {
   "cell_type": "code",
   "execution_count": 37,
   "metadata": {},
   "outputs": [
    {
     "data": {
      "text/plain": [
       "capture_mark_release! (generic function with 1 method)"
      ]
     },
     "execution_count": 37,
     "metadata": {},
     "output_type": "execute_result"
    }
   ],
   "source": [
    "function capture_mark_release!(turtles::Array{Turtle}, nb_captured_mark_release::Int)\n",
    "    #captures a random sample of turtles \n",
    "    captured_turtles = sample(1:length(turtles), nb_captured_mark_release, replace = false)\n",
    "    \n",
    "    #loops through the captured turtles \n",
    "    for i = 1:nb_captured_mark_release\n",
    "        #changes the value of the captured turtle to 1 to indicate that it has been marked\n",
    "        turtles[captured_turtles[i]].marked = 1\n",
    "    end\n",
    "    return turtles\n",
    "end\n"
   ]
  },
  {
   "cell_type": "markdown",
   "metadata": {},
   "source": [
    "(6) write a function `recapture(turtles::Array{Turtle}, nb_recapture::Int)` that returns a random sample (without replacement) of `nb_recapture` turtles from `turtles` in the form of an `Array{Turtle}`.\n",
    "\n",
    "```julia\n",
    "turtles = create_population(500)\n",
    "capture_mark_release!(turtles, 45)\n",
    "recaptured_turtles = recapture(turtles, 50) # should return Array{Turtle} with 50 elements\n",
    "```"
   ]
  },
  {
   "cell_type": "code",
   "execution_count": 38,
   "metadata": {},
   "outputs": [
    {
     "data": {
      "text/plain": [
       "recapture (generic function with 1 method)"
      ]
     },
     "execution_count": 38,
     "metadata": {},
     "output_type": "execute_result"
    }
   ],
   "source": [
    "function recapture(turtles::Array{Turtle}, nb_recapture::Int)\n",
    "    #captures a random sample of turtles from the same population that turtles were previous caught\n",
    "    recaptured = [turtles[s] for s in sample(1:length(turtles), nb_recapture, replace = false)]\n",
    "    return recaptured\n",
    "end\n",
    "\n"
   ]
  },
  {
   "cell_type": "markdown",
   "metadata": {},
   "source": [
    "(7) write two functions, one for each estimator:\n",
    "\n",
    "* `chapman_estimator(nb_capture_mark_release::Int, nb_recapture::Int, nb_marked_in_recaptured::Int)`\n",
    "* `lincoln_petersen_estimator(nb_capture_mark_release::Int, nb_recapture::Int, nb_marked_in_recaptured::Int)`\n",
    "\n",
    "that each take in the entire population of turtles (marked and unmarked), `turtles`, and the array of recaptured turtles, `recaptured_turtles`, and returns the respective estimate $\\hat{n}$ of the number of turtles. here, `nb_capture_mark_release` is $k$, `nb_recapture` is $k_r$, and `nb_marked_in_recaptured` is $m$."
   ]
  },
  {
   "cell_type": "code",
   "execution_count": 39,
   "metadata": {},
   "outputs": [
    {
     "data": {
      "text/plain": [
       "chapman_estimator (generic function with 1 method)"
      ]
     },
     "execution_count": 39,
     "metadata": {},
     "output_type": "execute_result"
    }
   ],
   "source": [
    "\n",
    "function chapman_estimator(nb_capture_mark_release::Int, nb_recapture::Int, nb_marked_in_recaptured::Int)\n",
    "    k = nb_capture_mark_release\n",
    "    k_r = nb_recapture\n",
    "    m = nb_marked_in_recaptured\n",
    "    #estimated population size \n",
    "    n = (((k+1)*(k_r+1))/(m+1))-1\n",
    "    return n\n",
    "end"
   ]
  },
  {
   "cell_type": "code",
   "execution_count": 40,
   "metadata": {},
   "outputs": [
    {
     "data": {
      "text/plain": [
       "lincoln_petersen_estimator (generic function with 1 method)"
      ]
     },
     "execution_count": 40,
     "metadata": {},
     "output_type": "execute_result"
    }
   ],
   "source": [
    "function lincoln_petersen_estimator(nb_capture_mark_release::Int, nb_recapture::Int, nb_marked_in_recaptured::Int)\n",
    "    k = nb_capture_mark_release\n",
    "    k_r = nb_recapture\n",
    "    m = nb_marked_in_recaptured\n",
    "    #estimated population size \n",
    "    n = (k*k_r)/m \n",
    "    return n\n",
    "end"
   ]
  },
  {
   "cell_type": "markdown",
   "metadata": {},
   "source": [
    "(8) write a function `sim_capture_mark_release_recapture` that takes in:\n",
    "\n",
    "* `nb_turtles::Int` $=n$\n",
    "* `nb_capture_mark_release::Int` $=k$\n",
    "* `nb_recapture::Int` $=k_r$\n",
    "* `estimator::Function` either `chapman_estimator` or `lincoln_peterson_estimator` that you wrote above\n",
    "\n",
    "and returns $\\hat{n}$, the estimate of the number of turtles in this simulation.\n",
    "\n",
    "use all of the functions you wrote above.\n",
    "\n",
    "```julia\n",
    "nb_turtles = 200\n",
    "nb_capture_mark_release = 50\n",
    "nb_recapture = 42\n",
    "estimator = lincoln_petersen_estimator\n",
    "n̂ = sim_capture_mark_release_recapture(nb_turtles, nb_capture_mark_release, \n",
    "                                            nb_recapture, estimator)\n",
    "```"
   ]
  },
  {
   "cell_type": "code",
   "execution_count": 41,
   "metadata": {},
   "outputs": [
    {
     "data": {
      "text/plain": [
       "sim_capture_mark_release_recapture (generic function with 1 method)"
      ]
     },
     "execution_count": 41,
     "metadata": {},
     "output_type": "execute_result"
    }
   ],
   "source": [
    "function sim_capture_mark_release_recapture(nb_turtles::Int, nb_capture_mark_release::Int, \n",
    "                                            nb_recapture::Int, estimator::Function)\n",
    "    #creates the population of turtles \n",
    "    turtles = create_population(nb_turtles)\n",
    "    \n",
    "    #captures a number of turtles, marks them, then replaces them back into the population \n",
    "    capture_mark_release!(turtles, nb_capture_mark_release)\n",
    "    \n",
    "    #recaputes a sample of the turtle population \n",
    "    recaptured_turtles = recapture(turtles, nb_recapture)\n",
    "    \n",
    "    #counts how many turtles in the recaptured group have marks \n",
    "    nb_marked_in_recaptured = count_marked(recaptured_turtles)\n",
    "    \n",
    "    #return the population estimation \n",
    "    return estimator(nb_capture_mark_release, nb_recapture, nb_marked_in_recaptured)\n",
    "end\n",
    "\n",
    "\n"
   ]
  },
  {
   "cell_type": "markdown",
   "metadata": {},
   "source": [
    "(9) evaluate/compare the biasedness of the Chapman and Lincoln-Peterson estimators by plotting the distribution of $\\hat{n}$ over many capture, mark, release, recapture simulations. Label which histogram corresponds to which estimator (in a legend if in the same histogram panel or in a title if in two subplots). plot as a vertical line the true number of turtles for comparison. print off the average and standard deviation of $\\hat{n}$ over the simulations."
   ]
  },
  {
   "cell_type": "code",
   "execution_count": 42,
   "metadata": {},
   "outputs": [
    {
     "data": {
      "text/plain": [
       "5000"
      ]
     },
     "execution_count": 42,
     "metadata": {},
     "output_type": "execute_result"
    }
   ],
   "source": [
    "nb_turtles = 200\n",
    "nb_capture_mark_release = 50\n",
    "nb_recapture = 42\n",
    "estimators = [chapman_estimator, lincoln_petersen_estimator]\n",
    "estimator_names = [\"Chapman\", \"Lincoln-Petersen\"]\n",
    "\n",
    "nb_sims = 5000 # number of simulations\n"
   ]
  },
  {
   "cell_type": "code",
   "execution_count": 43,
   "metadata": {
    "scrolled": false
   },
   "outputs": [
    {
     "data": {
      "image/png": "[encoded data removed]",
      "text/plain": [
       "Figure(PyObject <Figure size 640x480 with 1 Axes>)"
      ]
     },
     "metadata": {},
     "output_type": "display_data"
    },
    {
     "data": {
      "text/plain": [
       "PyObject <matplotlib.legend.Legend object at 0x0000000037B1FF98>"
      ]
     },
     "execution_count": 43,
     "metadata": {},
     "output_type": "execute_result"
    }
   ],
   "source": [
    "#based on the range of population estimations\n",
    "bins = range(50, stop=800, length=25)\n",
    "\n",
    "for (i, estimate) in enumerate(estimators)\n",
    "    #create an array large enough to fit in the population estimates\n",
    "    population_estimations = zeros(nb_sims)\n",
    "    fill!(population_estimations, NaN)\n",
    "\n",
    "    for s = 1:nb_sims\n",
    "        #fill in population estimations \n",
    "        population_estimations[s] = sim_capture_mark_release_recapture(nb_turtles, nb_capture_mark_release, \n",
    "                                            nb_recapture, estimate)\n",
    "    end\n",
    "\n",
    "hist(population_estimations, alpha = 0.4, label=estimator_names[i], bins=bins)\n",
    "axvline(x=nb_turtles, color=\"k\")\n",
    "end\n",
    "xlabel(\"estimated # turtles\")\n",
    "ylabel(\"# simulations\")\n",
    "legend()"
   ]
  },
  {
   "cell_type": "markdown",
   "metadata": {},
   "source": [
    "(10) comment on which estimator, Chapman or Lincoln-Petersen, that appears to be most unbiased."
   ]
  },
  {
   "cell_type": "markdown",
   "metadata": {},
   "source": [
    "Although they are very similar, the Lincon-Peterson appears to be more unbiased because its estimations are more closely clustered around the true value. "
   ]
  },
  {
   "cell_type": "markdown",
   "metadata": {},
   "source": [
    "(11) evaluate the consistency of the Lincoln-Petersen estimator by plotting the simulated distribution of $\\hat{n}$ for several different values of `nb_recapture`. Use 10000 simulations for each value of `nb_recapture`."
   ]
  },
  {
   "cell_type": "code",
   "execution_count": 44,
   "metadata": {},
   "outputs": [
    {
     "data": {
      "image/png": "[encoded data removed]",
      "text/plain": [
       "Figure(PyObject <Figure size 640x480 with 1 Axes>)"
      ]
     },
     "metadata": {},
     "output_type": "display_data"
    },
    {
     "data": {
      "text/plain": [
       "PyObject <matplotlib.legend.Legend object at 0x0000000037CD4DD8>"
      ]
     },
     "execution_count": 44,
     "metadata": {},
     "output_type": "execute_result"
    }
   ],
   "source": [
    "nb_sims = 10000\n",
    "\n",
    "color_norm = PyPlot.matplotlib.colors.Normalize(vmin=50, vmax=150)\n",
    "kr_to_color = PyPlot.cm.ScalarMappable(norm=color_norm, cmap=get_cmap(\"viridis\")).to_rgba\n",
    "bins = range(50, stop=550, length=25)\n",
    "\n",
    "figure()\n",
    "#loop over simulations given different values of recaptured turtles \n",
    "for nb_recapture in 50:25:150\n",
    "    \n",
    "    nb_turtles = 200\n",
    "    nb_capture_mark_release = 50\n",
    "    \n",
    "    #create an array large enough to fit all of the population estimates \n",
    "    n = zeros(nb_sims)\n",
    "    fill!(n, NaN)\n",
    "\n",
    "    #loop over the population estimate for a number of simulations \n",
    "    for s = 1:nb_sims\n",
    "        #fill in population estimations \n",
    "        n[s] = sim_capture_mark_release_recapture(nb_turtles, nb_capture_mark_release, \n",
    "                                            nb_recapture, lincoln_petersen_estimator)\n",
    "    end\n",
    "\n",
    "    axvline(x=nb_turtles, color=\"k\")\n",
    "    hist(n, label=\"# recapture = $nb_recapture\", alpha=0.4, color=kr_to_color(nb_recapture), bins=bins)\n",
    "end\n",
    "xlabel(\"estimated # turtles\")\n",
    "ylabel(\"# simulations\")\n",
    "legend()"
   ]
  },
  {
   "cell_type": "code",
   "execution_count": null,
   "metadata": {},
   "outputs": [],
   "source": []
  }
 ],
 "metadata": {
  "@webio": {
   "lastCommId": "6dc8e64649644b9689a2fbff2a14b46f",
   "lastKernelId": "2f962af5-48b8-4f19-acc6-77781a18abb0"
  },
  "kernelspec": {
   "display_name": "Julia 1.2.0",
   "language": "julia",
   "name": "julia-1.2"
  },
  "language_info": {
   "file_extension": ".jl",
   "mimetype": "application/julia",
   "name": "julia",
   "version": "1.2.0"
  }
 },
 "nbformat": 4,
 "nbformat_minor": 2
}
