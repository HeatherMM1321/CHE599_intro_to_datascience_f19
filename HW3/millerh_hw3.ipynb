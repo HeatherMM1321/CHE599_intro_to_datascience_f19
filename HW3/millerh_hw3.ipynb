{
 "cells": [
  {
   "cell_type": "markdown",
   "metadata": {},
   "source": [
    "# homework 3: permutation tests"
   ]
  },
  {
   "cell_type": "code",
   "execution_count": 1,
   "metadata": {},
   "outputs": [
    {
     "data": {
      "text/plain": [
       "300"
      ]
     },
     "execution_count": 1,
     "metadata": {},
     "output_type": "execute_result"
    }
   ],
   "source": [
    "using DataFrames\n",
    "using CSV\n",
    "using PyPlot\n",
    "using Random\n",
    "\n",
    "# (optional) change the style. see styles here: https://matplotlib.org/3.1.1/gallery/style_sheets/style_sheets_reference.html\n",
    "PyPlot.matplotlib.style.use(\"bmh\")                                    \n",
    "                                                                                  \n",
    "# (optional) change settings for all plots at once, e.g. I like larger font size                           \n",
    "rcParams = PyPlot.PyDict(PyPlot.matplotlib.rcParams)                           \n",
    "rcParams[\"font.size\"] = 16\n",
    "\n",
    "# (optional) change the max width of columns of `DataFrame`\n",
    "#  that are displayed in the Juptyer Notebook.\n",
    "ENV[\"COLUMNS\"] = 300 # characters"
   ]
  },
  {
   "cell_type": "markdown",
   "metadata": {},
   "source": [
    "### modifying the Cavendish banana to make it more resistant to Panama disease\n",
    "\n",
    "The Cavendish [banana is threatened](https://www.theguardian.com/science/2018/aug/05/science-search-for-a-super-banana-panama-disease-gm-gene-editing) by Panama disease, which is caused by a fungus. An active area of research is to genetically modify the Cavendish banana plant to make it resistant to Panama disease.\n",
    "\n",
    "<img src=https://upload.wikimedia.org/wikipedia/commons/thumb/9/9b/Cavendish_Banana_DS.jpg/1920px-Cavendish_Banana_DS.jpg width=200>\n",
    "\n",
    "In this homework assignment, we have identified a gene in the banana plant, gene X, that is thought to be associated with resistance to fungal infection. Using modern gene editing tools such as CRISPR, we are able to make a precise, single-nucleotide edit to the gene X that appears in the wild. The hope is that this single nucleotide polymorphism will confer protection against fungal infection. \n",
    "\n",
    "To experimentally test whether a certain mutation of gene X will confer greater resistance to Panama disease, we randomly select 60 healthy banana plants from different regions/farms that have not been exposed to the fungus causing Panama disease (all free of Panama disease). Of these 60 plants, we randomly select 30 to receive the genetic mutation on gene X. We then collect one seed from all 60 plants. \n",
    "\n",
    "A botanist then plants each seed in a pot whose soil is known to harbor the fungus that causes Panama disease. The plants are all contained in a single greenhouse. After one year, the botanist records whether or not each grown banana plant has been infected with Panama disease. The study is \"blind\" because we never told the botanist which seeds are modified and which are not. This way, the botanist cannot (advertently or inadvertently) treat the two different variants of plants differently and thereby influence the outcome of the experiment in a biased manner.\n",
    "\n",
    "(1) the results of our randomized experiment are in `banana_study.csv`. each row represents a banana plant. the `:gene_x` attribute indicates whether gene X in the banana plant is the wild type or mutant. the `:outcome` attribute indicates the outcome of the experiment (infected or not infected). read in `banana_study.csv` as a `DataFrame`, `df`."
   ]
  },
  {
   "cell_type": "code",
   "execution_count": 2,
   "metadata": {},
   "outputs": [
    {
     "data": {
      "text/html": [
       "<table class=\"data-frame\"><thead><tr><th></th><th>gene_x</th><th>outcome</th></tr><tr><th></th><th>String</th><th>String</th></tr></thead><tbody><p>60 rows × 2 columns</p><tr><th>1</th><td>wild type</td><td>not infected</td></tr><tr><th>2</th><td>wild type</td><td>infected</td></tr><tr><th>3</th><td>wild type</td><td>not infected</td></tr><tr><th>4</th><td>wild type</td><td>not infected</td></tr><tr><th>5</th><td>wild type</td><td>not infected</td></tr><tr><th>6</th><td>wild type</td><td>not infected</td></tr><tr><th>7</th><td>wild type</td><td>infected</td></tr><tr><th>8</th><td>wild type</td><td>infected</td></tr><tr><th>9</th><td>wild type</td><td>not infected</td></tr><tr><th>10</th><td>wild type</td><td>not infected</td></tr><tr><th>11</th><td>wild type</td><td>not infected</td></tr><tr><th>12</th><td>wild type</td><td>not infected</td></tr><tr><th>13</th><td>wild type</td><td>not infected</td></tr><tr><th>14</th><td>wild type</td><td>not infected</td></tr><tr><th>15</th><td>wild type</td><td>not infected</td></tr><tr><th>16</th><td>wild type</td><td>not infected</td></tr><tr><th>17</th><td>wild type</td><td>not infected</td></tr><tr><th>18</th><td>wild type</td><td>not infected</td></tr><tr><th>19</th><td>wild type</td><td>infected</td></tr><tr><th>20</th><td>wild type</td><td>not infected</td></tr><tr><th>21</th><td>wild type</td><td>not infected</td></tr><tr><th>22</th><td>wild type</td><td>not infected</td></tr><tr><th>23</th><td>wild type</td><td>not infected</td></tr><tr><th>24</th><td>wild type</td><td>not infected</td></tr><tr><th>25</th><td>wild type</td><td>not infected</td></tr><tr><th>26</th><td>wild type</td><td>not infected</td></tr><tr><th>27</th><td>wild type</td><td>not infected</td></tr><tr><th>28</th><td>wild type</td><td>not infected</td></tr><tr><th>29</th><td>wild type</td><td>not infected</td></tr><tr><th>30</th><td>wild type</td><td>not infected</td></tr><tr><th>&vellip;</th><td>&vellip;</td><td>&vellip;</td></tr></tbody></table>"
      ],
      "text/latex": [
       "\\begin{tabular}{r|cc}\n",
       "\t& gene\\_x & outcome\\\\\n",
       "\t\\hline\n",
       "\t& String & String\\\\\n",
       "\t\\hline\n",
       "\t1 & wild type & not infected \\\\\n",
       "\t2 & wild type & infected \\\\\n",
       "\t3 & wild type & not infected \\\\\n",
       "\t4 & wild type & not infected \\\\\n",
       "\t5 & wild type & not infected \\\\\n",
       "\t6 & wild type & not infected \\\\\n",
       "\t7 & wild type & infected \\\\\n",
       "\t8 & wild type & infected \\\\\n",
       "\t9 & wild type & not infected \\\\\n",
       "\t10 & wild type & not infected \\\\\n",
       "\t11 & wild type & not infected \\\\\n",
       "\t12 & wild type & not infected \\\\\n",
       "\t13 & wild type & not infected \\\\\n",
       "\t14 & wild type & not infected \\\\\n",
       "\t15 & wild type & not infected \\\\\n",
       "\t16 & wild type & not infected \\\\\n",
       "\t17 & wild type & not infected \\\\\n",
       "\t18 & wild type & not infected \\\\\n",
       "\t19 & wild type & infected \\\\\n",
       "\t20 & wild type & not infected \\\\\n",
       "\t21 & wild type & not infected \\\\\n",
       "\t22 & wild type & not infected \\\\\n",
       "\t23 & wild type & not infected \\\\\n",
       "\t24 & wild type & not infected \\\\\n",
       "\t25 & wild type & not infected \\\\\n",
       "\t26 & wild type & not infected \\\\\n",
       "\t27 & wild type & not infected \\\\\n",
       "\t28 & wild type & not infected \\\\\n",
       "\t29 & wild type & not infected \\\\\n",
       "\t30 & wild type & not infected \\\\\n",
       "\t$\\dots$ & $\\dots$ & $\\dots$ \\\\\n",
       "\\end{tabular}\n"
      ],
      "text/plain": [
       "60×2 DataFrame\n",
       "│ Row │ gene_x    │ outcome      │\n",
       "│     │ \u001b[90mString\u001b[39m    │ \u001b[90mString\u001b[39m       │\n",
       "├─────┼───────────┼──────────────┤\n",
       "│ 1   │ wild type │ not infected │\n",
       "│ 2   │ wild type │ infected     │\n",
       "│ 3   │ wild type │ not infected │\n",
       "│ 4   │ wild type │ not infected │\n",
       "│ 5   │ wild type │ not infected │\n",
       "│ 6   │ wild type │ not infected │\n",
       "│ 7   │ wild type │ infected     │\n",
       "│ 8   │ wild type │ infected     │\n",
       "│ 9   │ wild type │ not infected │\n",
       "│ 10  │ wild type │ not infected │\n",
       "⋮\n",
       "│ 50  │ mutant    │ not infected │\n",
       "│ 51  │ mutant    │ not infected │\n",
       "│ 52  │ mutant    │ infected     │\n",
       "│ 53  │ mutant    │ not infected │\n",
       "│ 54  │ mutant    │ infected     │\n",
       "│ 55  │ mutant    │ not infected │\n",
       "│ 56  │ mutant    │ not infected │\n",
       "│ 57  │ mutant    │ not infected │\n",
       "│ 58  │ mutant    │ not infected │\n",
       "│ 59  │ mutant    │ infected     │\n",
       "│ 60  │ mutant    │ not infected │"
      ]
     },
     "execution_count": 2,
     "metadata": {},
     "output_type": "execute_result"
    }
   ],
   "source": [
    "df = CSV.read(\"banana_study.csv\", copycols=true)"
   ]
  },
  {
   "cell_type": "markdown",
   "metadata": {},
   "source": [
    "(2) use the `by` command to group the banana plants in `df` by genetic variant and create a new `DataFrame`, `df_outcome`, with a new column, `p_infected`, that contains the proportion of plants of that variant that are infected by the fungus.\n",
    "\n",
    "i.e. create a dataframe, `df_outcome`:\n",
    "```\n",
    "     gene_x      p_infected\n",
    "    wild type       ...\n",
    "     mutant         ...\n",
    "```"
   ]
  },
  {
   "cell_type": "code",
   "execution_count": 3,
   "metadata": {},
   "outputs": [
    {
     "data": {
      "text/html": [
       "<table class=\"data-frame\"><thead><tr><th></th><th>gene_x</th><th>p_infected</th><th>total</th></tr><tr><th></th><th>String</th><th>Int64</th><th>Int64</th></tr></thead><tbody><p>2 rows × 3 columns</p><tr><th>1</th><td>wild type</td><td>4</td><td>30</td></tr><tr><th>2</th><td>mutant</td><td>9</td><td>30</td></tr></tbody></table>"
      ],
      "text/latex": [
       "\\begin{tabular}{r|ccc}\n",
       "\t& gene\\_x & p\\_infected & total\\\\\n",
       "\t\\hline\n",
       "\t& String & Int64 & Int64\\\\\n",
       "\t\\hline\n",
       "\t1 & wild type & 4 & 30 \\\\\n",
       "\t2 & mutant & 9 & 30 \\\\\n",
       "\\end{tabular}\n"
      ],
      "text/plain": [
       "2×3 DataFrame\n",
       "│ Row │ gene_x    │ p_infected │ total │\n",
       "│     │ \u001b[90mString\u001b[39m    │ \u001b[90mInt64\u001b[39m      │ \u001b[90mInt64\u001b[39m │\n",
       "├─────┼───────────┼────────────┼───────┤\n",
       "│ 1   │ wild type │ 4          │ 30    │\n",
       "│ 2   │ mutant    │ 9          │ 30    │"
      ]
     },
     "execution_count": 3,
     "metadata": {},
     "output_type": "execute_result"
    }
   ],
   "source": [
    "df_types = by(df, :gene_x, p_infected=:outcome => x -> \n",
    "    ((sum([occursin(\"infected\", lowercase(e)) for e in x]))-(sum([occursin(\"not\", lowercase(i)) for i in x]))), total=\n",
    "    :outcome => y -> (sum([occursin(\"infected\", lowercase(i)) for i in y])))"
   ]
  },
  {
   "cell_type": "code",
   "execution_count": 4,
   "metadata": {
    "scrolled": true
   },
   "outputs": [
    {
     "data": {
      "text/html": [
       "<table class=\"data-frame\"><thead><tr><th></th><th>gene_x</th><th>p_infected</th></tr><tr><th></th><th>String</th><th>Float64</th></tr></thead><tbody><p>2 rows × 2 columns</p><tr><th>1</th><td>wild type</td><td>0.133333</td></tr><tr><th>2</th><td>mutant</td><td>0.3</td></tr></tbody></table>"
      ],
      "text/latex": [
       "\\begin{tabular}{r|cc}\n",
       "\t& gene\\_x & p\\_infected\\\\\n",
       "\t\\hline\n",
       "\t& String & Float64\\\\\n",
       "\t\\hline\n",
       "\t1 & wild type & 0.133333 \\\\\n",
       "\t2 & mutant & 0.3 \\\\\n",
       "\\end{tabular}\n"
      ],
      "text/plain": [
       "2×2 DataFrame\n",
       "│ Row │ gene_x    │ p_infected │\n",
       "│     │ \u001b[90mString\u001b[39m    │ \u001b[90mFloat64\u001b[39m    │\n",
       "├─────┼───────────┼────────────┤\n",
       "│ 1   │ wild type │ 0.133333   │\n",
       "│ 2   │ mutant    │ 0.3        │"
      ]
     },
     "execution_count": 4,
     "metadata": {},
     "output_type": "execute_result"
    }
   ],
   "source": [
    "df_outcome = by(df, :gene_x, p_infected=:outcome => x -> \n",
    "    ((sum([occursin(\"infected\", lowercase(e)) for e in x]))-(sum([occursin(\"not\", lowercase(i)) for i in x])))/(sum([occursin(\"infected\", lowercase(e)) for e in x])))"
   ]
  },
  {
   "cell_type": "markdown",
   "metadata": {},
   "source": [
    "(3) create a data visualization representing `df_outcome`. particularly, make a bar plot with two bars, one corresponding to wild type, the other to mutant. Then make the bar heights equal to the respective proportion of banana plants of that genetic variant that were infected by the fungus. With a different color, stack a bar *on top* of these bars to represent the proportion that were not infected. The total height of each bar (sum of the two bars of different colors, stacked on top of each other) should be 1.0 to represent the entire set of bananas falling in that group. A skeleton code is shown below as an example. properly label your x-axis, y-axis, and x-ticks, and place a legend to denote the colors."
   ]
  },
  {
   "cell_type": "code",
   "execution_count": 5,
   "metadata": {},
   "outputs": [
    {
     "ename": "LoadError",
     "evalue": "syntax: space before \"[\" not allowed in \"2 [\"",
     "output_type": "error",
     "traceback": [
      "syntax: space before \"[\" not allowed in \"2 [\"",
      ""
     ]
    }
   ],
   "source": [
    "figure()\n",
    "bar(1:2 [0.1, 0.5])\n",
    "#bar(1:2, [0.9, 0.5], bottom=[0.1, 0.5])"
   ]
  },
  {
   "cell_type": "code",
   "execution_count": 6,
   "metadata": {
    "scrolled": false
   },
   "outputs": [
    {
     "data": {
      "image/png": "[encoded data removed]",
      "text/plain": [
       "Figure(PyObject <Figure size 640x480 with 1 Axes>)"
      ]
     },
     "metadata": {},
     "output_type": "display_data"
    },
    {
     "data": {
      "text/plain": [
       "(PyCall.PyObject[PyObject <matplotlib.axis.XTick object at 0x00000000332D5908>, PyObject <matplotlib.axis.XTick object at 0x00000000332EAEB8>], PyCall.PyObject[PyObject Text(1, 0, 'Wild Type'), PyObject Text(2, 0, 'Mutant')])"
      ]
     },
     "execution_count": 6,
     "metadata": {},
     "output_type": "execute_result"
    }
   ],
   "source": [
    "num_genes = size(df_outcome)[1]\n",
    "\n",
    "figure()\n",
    "#bar(1:2, [0.1, 0.5])\n",
    "#bar(1:2, [0.9, 0.5], bottom=[0.1, 0.5])\n",
    "\n",
    "plot_color = Dict(:infected =>\"r\",\n",
    "            :not_infected => \"b\") \n",
    "\n",
    "\n",
    "for i in 1:num_genes\n",
    "    infection_rate = df_outcome[i, :p_infected] #infection proportion \n",
    "    #return infection_rate\n",
    "    bar(i, \n",
    "        infection_rate, \n",
    "        color = plot_color[:infected])\n",
    "    bar(i,\n",
    "        1 - infection_rate,\n",
    "        bottom=infection_rate, \n",
    "        color = plot_color[:not_infected])\n",
    "end \n",
    "legend([\"Infected\", \"Not Infected\"])\n",
    "xlabel(\"Gene Type of Bananas\")\n",
    "ylabel(\"Proportion of Banana Population Infected\")\n",
    "title(\"Panama Disease Infection Rates in Bananas\")\n",
    "xticks(1:num_genes, [titlecase(name) for name in df_outcome[!, :gene_x]])"
   ]
  },
  {
   "cell_type": "markdown",
   "metadata": {},
   "source": [
    "(4) Which genetic variant has the smallest proportion of infected plants? Can we conclude that this genetic variant is **certainly** more resistant to Panama disease than the other? If not, state a hypothetical but concrete reason why this outcome could be due to chance."
   ]
  },
  {
   "cell_type": "markdown",
   "metadata": {},
   "source": [
    "The wild type has the smallest proportion of infected plants. However, this does NOT mean that we can conclude that they are more resistant to the Panama disease. The lower proportion could be due to the location of the plants sample. A change in location could effect temperature, humidity, airflow, and sun exposer all of which would have an effect on the growth of fungus ion the plant. "
   ]
  },
  {
   "cell_type": "markdown",
   "metadata": {},
   "source": [
    "(5) Formally state the null hypothesis and alternative hypothesis that pertains to this experiment.\n",
    "\n",
    "Among the population of banana plants exposed to the fungus that causes Panama disease:\n",
    "\n",
    "the **null hypothesis** : In this population the proportion of infected bannana plants is the same for both the mutant and wild type.(the proportion difference we see is due to chance)\n",
    "the **alternative hypothesis**: In this population of bannana plants the proportion of infected plants is different between the mutant and wild type plants. (the proportion difference we see is not due to chance)"
   ]
  },
  {
   "cell_type": "markdown",
   "metadata": {},
   "source": [
    "(6) Let us define and use the following test statistic, which would differ depending on whether the null or alternative hypothesis were true:\n",
    "\n",
    "**test statistic** := (proportion of plants harboring mutant gene X that were infected) - (proportion of plants harboring wild type gene X that were infected)\n",
    "\n",
    "(6a) write a function `proportion_infected` that takes in three arguments:\n",
    "* `df_banana`, a `DataFrame` where each row is a banana, with an `:outcome` column (:infected\" or \"not infected\") and another column indicating which variant of gene X (\"wild type\" or \"mutant\") that plant harbors. `df` from (1) is an example input argument.\n",
    "* `gene_x_col_name`, a `Symbol`, the name of the column in `df_banana` that indicates which gene X variant the plants harbor (\"wild type\" or \"mutant\"). so `df_banana[1, gene_x_col_name]` gives us the variant of banana 1.\n",
    "* `gene_x`, a `String`, that can be either \"wild type\" or \"mutant\"\n",
    "\n",
    "and returns the proportion of banana plants harboring `gene_x` (`=\"wild type\"` or `=\"mutant\"`) gene X that were infected by fungus."
   ]
  },
  {
   "cell_type": "code",
   "execution_count": 7,
   "metadata": {},
   "outputs": [
    {
     "data": {
      "text/plain": [
       "0.3"
      ]
     },
     "execution_count": 7,
     "metadata": {},
     "output_type": "execute_result"
    }
   ],
   "source": [
    "\"\"\"\n",
    "return the proportion of banana plants infected by the fungus that harbor a certain gene X variant\n",
    "\"\"\"\n",
    "function proportion_infected(df_banana::DataFrame, gene_x_col_name::Symbol, gene_x::String)\n",
    "    banana_type = filter(row -> row[gene_x_col_name] == gene_x, df_banana)\n",
    "    total_bananas = size(banana_type)[1]\n",
    "    infected_bananas = size(filter(row -> row[:outcome] == \"infected\", banana_type))[1]\n",
    "    \n",
    "    return infected_bananas/total_bananas\n",
    "end\n",
    "\n",
    "proportion_infected(df, :gene_x, \"mutant\")"
   ]
  },
  {
   "cell_type": "markdown",
   "metadata": {},
   "source": [
    "(6b) write a function `difference_in_proportions_infected` that takes in two arguments:\n",
    "* `df_banana::DataFrame` as above\n",
    "* `gene_x_col_name::Symbol` as above\n",
    "\n",
    "and returns the test statistic. Inside this function, you should call your function from (6a) directly above, twice.\n",
    "\n",
    "compute the actual, observed (as opposed to simulated under the null hypothesis, which we will do next) test statistic of our data set using `df` from (1)."
   ]
  },
  {
   "cell_type": "code",
   "execution_count": 12,
   "metadata": {},
   "outputs": [
    {
     "data": {
      "text/plain": [
       "0.16666666666666666"
      ]
     },
     "execution_count": 12,
     "metadata": {},
     "output_type": "execute_result"
    }
   ],
   "source": [
    "\"\"\"\n",
    "p_wild_type := proportion of banana plants harboring wild type gene X infected by fungus\n",
    "p_mutant := proportion of banana plants harboring mutant gene X infected by fungus\n",
    "\n",
    "test statistic := p_mutant - p_wild_type.\n",
    "\"\"\"\n",
    "function difference_in_proportions_infected(df_banana::DataFrame, gene_x_col_name::Symbol)\n",
    "    p_wild_type = proportion_infected(df_banana, gene_x_col_name, \"wild type\")\n",
    "    p_mutant = proportion_infected(df_banana, gene_x_col_name, \"mutant\")\n",
    "    return p_mutant-p_wild_type\n",
    "end\n",
    "\n",
    "actual_difference = difference_in_proportions_infected(df, :gene_x)"
   ]
  },
  {
   "cell_type": "markdown",
   "metadata": {},
   "source": [
    "(7) imagine we are at the beginning of the experiment where we selected 60 banana plants. at this point, we are randomly selecting which banana plants receive the genetic modification on gene X and which do not. now, simulate one repetition of the banana study, **operating under the assumption that the null hypothesis is true**, by permuting the labels in the `gene_x` column of `df`. this effectively simulates the random allocation of healthy banana plants to the two groups:\n",
    "* group A: do not receive genetic modification on gene X (wild type)\n",
    "* group B: receive genetic modification on gene X (mutant)\n",
    "\n",
    "assume that the botanist plants these banana plant seeds in exactly the same pots in the greenhouse. in this conceptual experiment, the outcome (infected vs. not) would be exactly the same **if the null hypothesis were true**, since then the genetic modification makes no difference in susceptibility to fungal infection. assign the permuted labels to be a new column in `df` called `:shuffled_gene_x`."
   ]
  },
  {
   "cell_type": "code",
   "execution_count": 9,
   "metadata": {
    "scrolled": true
   },
   "outputs": [
    {
     "data": {
      "text/html": [
       "<table class=\"data-frame\"><thead><tr><th></th><th>gene_x</th><th>outcome</th><th>shuffled_group</th></tr><tr><th></th><th>String</th><th>String</th><th>String</th></tr></thead><tbody><p>6 rows × 3 columns</p><tr><th>1</th><td>wild type</td><td>not infected</td><td>wild type</td></tr><tr><th>2</th><td>wild type</td><td>infected</td><td>mutant</td></tr><tr><th>3</th><td>wild type</td><td>not infected</td><td>mutant</td></tr><tr><th>4</th><td>wild type</td><td>not infected</td><td>mutant</td></tr><tr><th>5</th><td>wild type</td><td>not infected</td><td>wild type</td></tr><tr><th>6</th><td>wild type</td><td>not infected</td><td>mutant</td></tr></tbody></table>"
      ],
      "text/latex": [
       "\\begin{tabular}{r|ccc}\n",
       "\t& gene\\_x & outcome & shuffled\\_group\\\\\n",
       "\t\\hline\n",
       "\t& String & String & String\\\\\n",
       "\t\\hline\n",
       "\t1 & wild type & not infected & wild type \\\\\n",
       "\t2 & wild type & infected & mutant \\\\\n",
       "\t3 & wild type & not infected & mutant \\\\\n",
       "\t4 & wild type & not infected & mutant \\\\\n",
       "\t5 & wild type & not infected & wild type \\\\\n",
       "\t6 & wild type & not infected & mutant \\\\\n",
       "\\end{tabular}\n"
      ],
      "text/plain": [
       "6×3 DataFrame\n",
       "│ Row │ gene_x    │ outcome      │ shuffled_group │\n",
       "│     │ \u001b[90mString\u001b[39m    │ \u001b[90mString\u001b[39m       │ \u001b[90mString\u001b[39m         │\n",
       "├─────┼───────────┼──────────────┼────────────────┤\n",
       "│ 1   │ wild type │ not infected │ wild type      │\n",
       "│ 2   │ wild type │ infected     │ mutant         │\n",
       "│ 3   │ wild type │ not infected │ mutant         │\n",
       "│ 4   │ wild type │ not infected │ mutant         │\n",
       "│ 5   │ wild type │ not infected │ wild type      │\n",
       "│ 6   │ wild type │ not infected │ mutant         │"
      ]
     },
     "execution_count": 9,
     "metadata": {},
     "output_type": "execute_result"
    }
   ],
   "source": [
    "df[!, :shuffled_group] = df[shuffle(1:nrow(df)), :gene_x]\n",
    "first(df, 6)"
   ]
  },
  {
   "cell_type": "markdown",
   "metadata": {},
   "source": [
    "(8) **operating under the assumption that the null hypothesis is true:**\n",
    "\n",
    "(8a) simulate 10,000 repetitions of the randomized banana experiment. keep track of the test statistic observed from each simulation. \n",
    "\n",
    "(8b) plot the distribution of the test statistic. make your bins for the histogram manually to ensure the bin that includes zero is centered at zero. draw a red, vertical line at the actual test statistic observed in the experiment. the mean value of the test statistic should be around zero. make sure you understand why.\n",
    "\n",
    "(8c) compute the p-value associated with our null hypothesis that you obtained from your **random permutation test**.\n",
    "\n",
    "(8d) precisely explain in a few sentences or less what this p-value represents."
   ]
  },
  {
   "cell_type": "code",
   "execution_count": 27,
   "metadata": {},
   "outputs": [
    {
     "data": {
      "text/plain": [
       "10000-element Array{Float64,1}:\n",
       " -0.033333333333333326\n",
       "  0.1                 \n",
       "  0.2333333333333333  \n",
       "  0.16666666666666666 \n",
       " -0.1                 \n",
       " -0.1                 \n",
       "  0.033333333333333326\n",
       " -0.033333333333333326\n",
       "  0.033333333333333326\n",
       " -0.033333333333333326\n",
       " -0.16666666666666666 \n",
       " -0.033333333333333326\n",
       "  0.033333333333333326\n",
       "  ⋮                   \n",
       " -0.033333333333333326\n",
       "  0.033333333333333326\n",
       "  0.16666666666666666 \n",
       "  0.033333333333333326\n",
       "  0.1                 \n",
       " -0.1                 \n",
       "  0.1                 \n",
       "  0.2333333333333333  \n",
       "  0.033333333333333326\n",
       " -0.033333333333333326\n",
       " -0.1                 \n",
       "  0.033333333333333326"
      ]
     },
     "execution_count": 27,
     "metadata": {},
     "output_type": "execute_result"
    }
   ],
   "source": [
    "nb_sims = 10000\n",
    "\n",
    "difference_p_infected = [NaN for s = 1:nb_sims]\n",
    "\n",
    "for s = 1:nb_sims\n",
    "    df[!, :shuffled_group] = df[shuffle(1:nrow(df)), :gene_x]\n",
    "    difference_p_infected[s]= difference_in_proportions_infected(df, :shuffled_group)\n",
    "end\n",
    "\n"
   ]
  },
  {
   "cell_type": "code",
   "execution_count": 48,
   "metadata": {
    "scrolled": false
   },
   "outputs": [
    {
     "data": {
      "image/png": "[encoded data removed]",
      "text/plain": [
       "Figure(PyObject <Figure size 640x480 with 1 Axes>)"
      ]
     },
     "metadata": {},
     "output_type": "display_data"
    }
   ],
   "source": [
    "bins = range(-0.5, stop=0.5, length=14)\n",
    "\n",
    "figure()\n",
    "xlabel(\"Differnce in Proportion of Infection (Mutant-Wild)\")\n",
    "ylabel(\"# experiments\")\n",
    "title(\"Null Hypothesis\")\n",
    "# plot the actual test statistic as a vertical line\n",
    "axvline(x=actual_difference, color=\"C2\")\n",
    "hist(difference_p_infected, bins=bins)\n",
    "show()"
   ]
  },
  {
   "cell_type": "code",
   "execution_count": 47,
   "metadata": {},
   "outputs": [
    {
     "data": {
      "text/plain": [
       "0.1034"
      ]
     },
     "execution_count": 47,
     "metadata": {},
     "output_type": "execute_result"
    }
   ],
   "source": [
    "p_value = sum(difference_p_infected .>= actual_difference)/nb_sims"
   ]
  },
  {
   "cell_type": "markdown",
   "metadata": {},
   "source": [
    "what is the p-value in this context? \n",
    "\n",
    "\n",
    "In this context the p-value represents the probablity that the infection rates of the two different gene types are actually identical and the difference that we observed in the first data set was simply due to chance. "
   ]
  },
  {
   "cell_type": "markdown",
   "metadata": {},
   "source": [
    "(9) if the level of significance is set at $\\alpha=0.05$, you may have the tendency to make a bold conclusion, such as \"mutating gene X confers resistance to fungal infection\" or \"mutating gene X does not influence the susceptibility to fungal infection\". however, such \"dichotomization\" is a mis-interpretation of the p-value. we must embrace uncertainty! see [this recent article in Nature](https://www.nature.com/articles/d41586-019-00857-9) where, owing to the tendency to misinterpret p-values, some scientists call for abandoning the notion of statistical significance.\n",
    "\n",
    "> \"We are calling for a stop to the use of P values in the conventional, dichotomous way -- to decide whether a result refutes or supports a scientific hypothesis\" [source](https://www.nature.com/articles/d41586-019-00857-9)\n"
   ]
  },
  {
   "cell_type": "markdown",
   "metadata": {},
   "source": [
    "## warning\n",
    "it is very easy to follow the steps and permute the labels in the `:gene_x` column without understanding *why*. please make sure to think carefully about why you can permute the labels to simualte the experiment under the null hypothesis. also think about why you cannot simulate the experiment under the alternative hypothesis.\n",
    "\n",
    "## random note on bananas\n",
    "for those interested, [here](https://www.youtube.com/watch?v=YkI3zkQ4WBo&t) is an interesting, 20-minute YouTube documentary on the banana and how it is threatened by Panama disease."
   ]
  }
 ],
 "metadata": {
  "@webio": {
   "lastCommId": null,
   "lastKernelId": null
  },
  "kernelspec": {
   "display_name": "Julia 1.2.0",
   "language": "julia",
   "name": "julia-1.2"
  },
  "language_info": {
   "file_extension": ".jl",
   "mimetype": "application/julia",
   "name": "julia",
   "version": "1.2.0"
  }
 },
 "nbformat": 4,
 "nbformat_minor": 2
}
