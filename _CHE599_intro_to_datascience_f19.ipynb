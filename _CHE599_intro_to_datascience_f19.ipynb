{
 "cells": [
  {
   "cell_type": "markdown",
   "metadata": {},
   "source": [
    "# Homework 1: Monty Hall \n"
   ]
  },
  {
   "cell_type": "markdown",
   "metadata": {},
   "source": [
    "Import \n"
   ]
  },
  {
   "cell_type": "code",
   "execution_count": 1,
   "metadata": {},
   "outputs": [],
   "source": [
    "using Random #for the \"Shuffle!\" function \n",
    "using StatsBase # for the \"sample\" function \n"
   ]
  },
  {
   "cell_type": "markdown",
   "metadata": {},
   "source": [
    "Settings "
   ]
  },
  {
   "cell_type": "code",
   "execution_count": 2,
   "metadata": {},
   "outputs": [
    {
     "data": {
      "text/plain": [
       "1000"
      ]
     },
     "execution_count": 2,
     "metadata": {},
     "output_type": "execute_result"
    }
   ],
   "source": [
    "number_doors = 3 \n",
    "num_simulation = 1000; "
   ]
  },
  {
   "cell_type": "markdown",
   "metadata": {},
   "source": [
    "Functions "
   ]
  },
  {
   "cell_type": "markdown",
   "metadata": {},
   "source": [
    "set_up_door() : set up a function that constructs and returns an array of three Doors(Array{Door}) such that \n",
    "    #two doors have a goat behind them \n",
    "    #one door has a car behind it \n",
    "    #which door has the car is chosen at uniform random \n",
    "    #all doors are unopened "
   ]
  },
  {
   "cell_type": "code",
   "execution_count": 7,
   "metadata": {},
   "outputs": [],
   "source": [
    "function set_up_doors()\n",
    "    #constructs an array of 3 doors with one door contaning a car(1) and 2 goats(0)\n",
    "    shuffle!([1, 0, 0])\n",
    "    return Door\n",
    "end;\n"
   ]
  },
  {
   "cell_type": "markdown",
   "metadata": {},
   "source": [
    "pick_a_door_at_random(): returns an interger (1, 2, 3) at random, representing the door that the contestant chose. "
   ]
  },
  {
   "cell_type": "code",
   "execution_count": 6,
   "metadata": {},
   "outputs": [],
   "source": [
    "\n",
    "function pick_a_door_at_random() #randomly picks a value between 1 & 3 to signify which door the contestant has chosen \n",
    "    return rand(1:number_doors)\n",
    "end;\n"
   ]
  },
  {
   "cell_type": "markdown",
   "metadata": {},
   "source": [
    "open_a_door(doors::Array{Door}, first_door_id_pick::Int):  "
   ]
  },
  {
   "cell_type": "code",
   "execution_count": null,
   "metadata": {},
   "outputs": [],
   "source": [
    "\n",
    "function open_a_door!(Door::Array{Int64,1}, x::Int)\n",
    "    Door[x] = 2 #replaces the value of the contestant picked door with 2 \n",
    "    y = findall(Door-> (Door == 1), x)\n",
    "    Door[y] = 2 \n",
    "    \n",
    "    return Door  \n",
    "end \n",
    "    \n",
    "open = open_a_door!(Door, x)"
   ]
  },
  {
   "cell_type": "code",
   "execution_count": null,
   "metadata": {},
   "outputs": [],
   "source": []
  }
 ],
 "metadata": {
  "kernelspec": {
   "display_name": "Julia 1.2.0",
   "language": "julia",
   "name": "julia-1.2"
  },
  "language_info": {
   "file_extension": ".jl",
   "mimetype": "application/julia",
   "name": "julia",
   "version": "1.2.0"
  }
 },
 "nbformat": 4,
 "nbformat_minor": 2
}
